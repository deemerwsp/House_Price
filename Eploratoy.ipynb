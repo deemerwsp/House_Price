{
 "cells": [
  {
   "cell_type": "code",
   "execution_count": 1,
   "id": "5f01c7f6",
   "metadata": {},
   "outputs": [],
   "source": [
    "import pandas as pd\n",
    "import numpy as np\n",
    "import matplotlib.pyplot as plt"
   ]
  },
  {
   "cell_type": "code",
   "execution_count": 2,
   "id": "46f209e8",
   "metadata": {},
   "outputs": [],
   "source": [
    "df = pd.read_csv('datasets/train.csv')"
   ]
  },
  {
   "cell_type": "code",
   "execution_count": 3,
   "id": "9fe8b95b",
   "metadata": {
    "scrolled": true
   },
   "outputs": [
    {
     "data": {
      "text/plain": [
       "(2051, 2051)"
      ]
     },
     "execution_count": 3,
     "metadata": {},
     "output_type": "execute_result"
    }
   ],
   "source": [
    "df['Id'].nunique(), df.shape[0]"
   ]
  },
  {
   "cell_type": "code",
   "execution_count": 4,
   "id": "0183ac13",
   "metadata": {},
   "outputs": [
    {
     "data": {
      "text/plain": [
       "1000.0"
      ]
     },
     "execution_count": 4,
     "metadata": {},
     "output_type": "execute_result"
    }
   ],
   "source": [
    "np.sqrt(1000000)"
   ]
  },
  {
   "cell_type": "code",
   "execution_count": 5,
   "id": "2b27b4dc",
   "metadata": {},
   "outputs": [],
   "source": [
    "# for col in house.keys():\n",
    "#     dtype = str(house[col].dtype)\n",
    "#     nulls = str(house[col].isna().sum())\n",
    "#     nunique = str(house[col].nunique())\n",
    "#     unique = 0\n",
    "#     if house[col].nunique() < 100:\n",
    "#         unique = house[col].unique()\n",
    "#     else:\n",
    "#         unique = 'Continuous'\n",
    "#     print('|**{}**|{}|{}|{}|{}| |'.format(col, dtype, nulls, nunique, unique))"
   ]
  },
  {
   "cell_type": "code",
   "execution_count": 6,
   "id": "77291e9b",
   "metadata": {},
   "outputs": [],
   "source": [
    "df_info = pd.DataFrame({'nulls': [df[col].isna().sum() for col in df.keys()], \n",
    "                        'dtype': [df[col].dtype for col in df.keys()], \n",
    "                        'nunique_values': [df[col].nunique() for col in df.keys()], \n",
    "                        'unique_values': [df[col].unique() if df[col].nunique() < 2051 \\\n",
    "                                          else 'Continuous' for col in df.keys()], \n",
    "                        'value_counts': [df[col].value_counts() if df[col].nunique() < 2051 \\\n",
    "                                         else 'Continuous' for col in df.keys()]}, \n",
    "                        index=[col for col in df.keys()])"
   ]
  },
  {
   "cell_type": "code",
   "execution_count": 7,
   "id": "00b4c568",
   "metadata": {},
   "outputs": [],
   "source": [
    "# house['Alley'].isna().index\n",
    "# house[house['Mas Vnr Type'].isna()]"
   ]
  },
  {
   "cell_type": "markdown",
   "id": "73cc85cb",
   "metadata": {},
   "source": [
    "### Data Cleanup\n",
    "Columns to Drop\n",
    "- [ ] ```Id```, \n",
    "\n",
    "Columns ready to convert astype(category)\n",
    "- \n",
    "\n",
    "Columns to \n",
    "\n",
    "Nominal, Ordinal, Discrete, Continuous "
   ]
  },
  {
   "cell_type": "markdown",
   "id": "8b4b88de",
   "metadata": {},
   "source": [
    "Total Missing Values Count: "
   ]
  },
  {
   "cell_type": "code",
   "execution_count": 8,
   "id": "c431f4b2",
   "metadata": {},
   "outputs": [
    {
     "data": {
      "text/plain": [
       "9822"
      ]
     },
     "execution_count": 8,
     "metadata": {},
     "output_type": "execute_result"
    }
   ],
   "source": [
    "df.isna().sum().sum()"
   ]
  },
  {
   "cell_type": "markdown",
   "id": "81a7fad9",
   "metadata": {},
   "source": [
    "Continuous\n"
   ]
  },
  {
   "cell_type": "code",
   "execution_count": 9,
   "id": "e527bddf",
   "metadata": {
    "scrolled": true
   },
   "outputs": [
    {
     "data": {
      "text/html": [
       "<div>\n",
       "<style scoped>\n",
       "    .dataframe tbody tr th:only-of-type {\n",
       "        vertical-align: middle;\n",
       "    }\n",
       "\n",
       "    .dataframe tbody tr th {\n",
       "        vertical-align: top;\n",
       "    }\n",
       "\n",
       "    .dataframe thead th {\n",
       "        text-align: right;\n",
       "    }\n",
       "</style>\n",
       "<table border=\"1\" class=\"dataframe\">\n",
       "  <thead>\n",
       "    <tr style=\"text-align: right;\">\n",
       "      <th></th>\n",
       "      <th>Id</th>\n",
       "      <th>PID</th>\n",
       "      <th>MS SubClass</th>\n",
       "      <th>MS Zoning</th>\n",
       "      <th>Lot Frontage</th>\n",
       "      <th>Lot Area</th>\n",
       "      <th>Street</th>\n",
       "      <th>Alley</th>\n",
       "      <th>Lot Shape</th>\n",
       "      <th>Land Contour</th>\n",
       "      <th>...</th>\n",
       "      <th>Screen Porch</th>\n",
       "      <th>Pool Area</th>\n",
       "      <th>Pool QC</th>\n",
       "      <th>Fence</th>\n",
       "      <th>Misc Feature</th>\n",
       "      <th>Misc Val</th>\n",
       "      <th>Mo Sold</th>\n",
       "      <th>Yr Sold</th>\n",
       "      <th>Sale Type</th>\n",
       "      <th>SalePrice</th>\n",
       "    </tr>\n",
       "  </thead>\n",
       "  <tbody>\n",
       "    <tr>\n",
       "      <th>0</th>\n",
       "      <td>109</td>\n",
       "      <td>533352170</td>\n",
       "      <td>60</td>\n",
       "      <td>RL</td>\n",
       "      <td>NaN</td>\n",
       "      <td>13517</td>\n",
       "      <td>Pave</td>\n",
       "      <td>NaN</td>\n",
       "      <td>IR1</td>\n",
       "      <td>Lvl</td>\n",
       "      <td>...</td>\n",
       "      <td>0</td>\n",
       "      <td>0</td>\n",
       "      <td>NaN</td>\n",
       "      <td>NaN</td>\n",
       "      <td>NaN</td>\n",
       "      <td>0</td>\n",
       "      <td>3</td>\n",
       "      <td>2010</td>\n",
       "      <td>WD</td>\n",
       "      <td>130500</td>\n",
       "    </tr>\n",
       "    <tr>\n",
       "      <th>1</th>\n",
       "      <td>544</td>\n",
       "      <td>531379050</td>\n",
       "      <td>60</td>\n",
       "      <td>RL</td>\n",
       "      <td>43.0</td>\n",
       "      <td>11492</td>\n",
       "      <td>Pave</td>\n",
       "      <td>NaN</td>\n",
       "      <td>IR1</td>\n",
       "      <td>Lvl</td>\n",
       "      <td>...</td>\n",
       "      <td>0</td>\n",
       "      <td>0</td>\n",
       "      <td>NaN</td>\n",
       "      <td>NaN</td>\n",
       "      <td>NaN</td>\n",
       "      <td>0</td>\n",
       "      <td>4</td>\n",
       "      <td>2009</td>\n",
       "      <td>WD</td>\n",
       "      <td>220000</td>\n",
       "    </tr>\n",
       "    <tr>\n",
       "      <th>2</th>\n",
       "      <td>153</td>\n",
       "      <td>535304180</td>\n",
       "      <td>20</td>\n",
       "      <td>RL</td>\n",
       "      <td>68.0</td>\n",
       "      <td>7922</td>\n",
       "      <td>Pave</td>\n",
       "      <td>NaN</td>\n",
       "      <td>Reg</td>\n",
       "      <td>Lvl</td>\n",
       "      <td>...</td>\n",
       "      <td>0</td>\n",
       "      <td>0</td>\n",
       "      <td>NaN</td>\n",
       "      <td>NaN</td>\n",
       "      <td>NaN</td>\n",
       "      <td>0</td>\n",
       "      <td>1</td>\n",
       "      <td>2010</td>\n",
       "      <td>WD</td>\n",
       "      <td>109000</td>\n",
       "    </tr>\n",
       "    <tr>\n",
       "      <th>3</th>\n",
       "      <td>318</td>\n",
       "      <td>916386060</td>\n",
       "      <td>60</td>\n",
       "      <td>RL</td>\n",
       "      <td>73.0</td>\n",
       "      <td>9802</td>\n",
       "      <td>Pave</td>\n",
       "      <td>NaN</td>\n",
       "      <td>Reg</td>\n",
       "      <td>Lvl</td>\n",
       "      <td>...</td>\n",
       "      <td>0</td>\n",
       "      <td>0</td>\n",
       "      <td>NaN</td>\n",
       "      <td>NaN</td>\n",
       "      <td>NaN</td>\n",
       "      <td>0</td>\n",
       "      <td>4</td>\n",
       "      <td>2010</td>\n",
       "      <td>WD</td>\n",
       "      <td>174000</td>\n",
       "    </tr>\n",
       "    <tr>\n",
       "      <th>4</th>\n",
       "      <td>255</td>\n",
       "      <td>906425045</td>\n",
       "      <td>50</td>\n",
       "      <td>RL</td>\n",
       "      <td>82.0</td>\n",
       "      <td>14235</td>\n",
       "      <td>Pave</td>\n",
       "      <td>NaN</td>\n",
       "      <td>IR1</td>\n",
       "      <td>Lvl</td>\n",
       "      <td>...</td>\n",
       "      <td>0</td>\n",
       "      <td>0</td>\n",
       "      <td>NaN</td>\n",
       "      <td>NaN</td>\n",
       "      <td>NaN</td>\n",
       "      <td>0</td>\n",
       "      <td>3</td>\n",
       "      <td>2010</td>\n",
       "      <td>WD</td>\n",
       "      <td>138500</td>\n",
       "    </tr>\n",
       "  </tbody>\n",
       "</table>\n",
       "<p>5 rows × 81 columns</p>\n",
       "</div>"
      ],
      "text/plain": [
       "    Id        PID  MS SubClass MS Zoning  Lot Frontage  Lot Area Street Alley  \\\n",
       "0  109  533352170           60        RL           NaN     13517   Pave   NaN   \n",
       "1  544  531379050           60        RL          43.0     11492   Pave   NaN   \n",
       "2  153  535304180           20        RL          68.0      7922   Pave   NaN   \n",
       "3  318  916386060           60        RL          73.0      9802   Pave   NaN   \n",
       "4  255  906425045           50        RL          82.0     14235   Pave   NaN   \n",
       "\n",
       "  Lot Shape Land Contour  ... Screen Porch Pool Area Pool QC Fence  \\\n",
       "0       IR1          Lvl  ...            0         0     NaN   NaN   \n",
       "1       IR1          Lvl  ...            0         0     NaN   NaN   \n",
       "2       Reg          Lvl  ...            0         0     NaN   NaN   \n",
       "3       Reg          Lvl  ...            0         0     NaN   NaN   \n",
       "4       IR1          Lvl  ...            0         0     NaN   NaN   \n",
       "\n",
       "  Misc Feature Misc Val Mo Sold Yr Sold  Sale Type  SalePrice  \n",
       "0          NaN        0       3    2010        WD      130500  \n",
       "1          NaN        0       4    2009        WD      220000  \n",
       "2          NaN        0       1    2010        WD      109000  \n",
       "3          NaN        0       4    2010        WD      174000  \n",
       "4          NaN        0       3    2010        WD      138500  \n",
       "\n",
       "[5 rows x 81 columns]"
      ]
     },
     "execution_count": 9,
     "metadata": {},
     "output_type": "execute_result"
    }
   ],
   "source": [
    "df.head()"
   ]
  },
  {
   "cell_type": "markdown",
   "id": "cf408f76",
   "metadata": {},
   "source": [
    " |column|dtype|nulls|nunique|unique|vtype||\n",
    "|:--|:-:|:-:|:--|:--|---|--:|\n",
    "|**Id**|int64|0|2051|Continuous|Continuous|\n",
    "|**PID**|int64|0|2051|Continuous|Continuous|\n",
    "|**MS SubClass**|int64|0|16|[ 60  20  50 180 160  70 120 190  85  30  90  80  75  45  40 150]|Nominal|\n",
    "|**MS Zoning**|object|0|7|['RL' 'RM' 'FV' 'C (all)' 'A (agr)' 'RH' 'I (all)']|Nominal|\n",
    "|**Lot Frontage**|float64|330|118|Continuous|Continuous|\n",
    "|**Lot Area**|int64|0|1476|Continuous|Continuous|\n",
    "|**Street**|object|0|2|['Pave' 'Grvl']|Nominal|\n",
    "|**Alley**|object|1911|2|[nan 'Pave' 'Grvl']|Nominal|\n",
    "|**Lot Shape**|object|0|4|['IR1' 'Reg' 'IR2' 'IR3']|Nominal|\n",
    "|**Land Contour**|object|0|4|['Lvl' 'HLS' 'Bnk' 'Low']|Nominal|\n",
    "|**Utilities**|object|0|3|['AllPub' 'NoSeWa' 'NoSewr']|Nominal|\n",
    "|**Lot Config**|object|0|5|['CulDSac' 'Inside' 'Corner' 'FR2' 'FR3']|Nominal|\n",
    "|**Land Slope**|object|0|3|['Gtl' 'Sev' 'Mod']|Nominal|\n",
    "|**Neighborhood**|object|0|28|['Sawyer' 'SawyerW' 'NAmes' 'Timber' 'Edwards' 'OldTown' 'BrDale', 'CollgCr', 'Somerst' 'Mitchel' 'StoneBr' 'NridgHt' 'Gilbert' 'Crawfor', 'IDOTRR' 'NWAmes' 'Veenker' 'MeadowV' 'SWISU' 'NoRidge' 'ClearCr', 'Blmngtn' 'BrkSide' 'NPkVill' 'Blueste' 'GrnHill' 'Greens' 'Landmrk']|Nominal|\n",
    "|**Condition 1**|object|0|9|['RRAe' 'Norm' 'PosA' 'Artery' 'Feedr' 'PosN' 'RRAn' 'RRNe' 'RRNn']|Nominal|\n",
    "|**Condition 2**|object|0|8|['Norm' 'RRNn' 'Feedr' 'Artery' 'PosA' 'PosN' 'RRAe' 'RRAn']|Nominal|\n",
    "|**Bldg Type**|object|0|5|['1Fam' 'TwnhsE' 'Twnhs' '2fmCon' 'Duplex']|Nominal|\n",
    "|**House Style**|object|0|8|['2Story' '1Story' '1.5Fin' 'SFoyer' 'SLvl' '2.5Unf' '2.5Fin' '1.5Unf']|Nominal|\n",
    "|**Overall Qual**|int64|0|10|[ 6  7  5  8 10  4  9  3  2  1]|Ordinal|\n",
    "|**Overall Cond**|int64|0|9|[8 5 7 6 3 9 2 4 1]|Ordinal|\n",
    "|**Year Built**|int64|0|113|Continuous|Continuous|\n",
    "|**Year Remod/Add**|int64|0|61|[2005 1997 2007 1993 2002 2006 1959 1952 1969 1971 2000 1950 1963 1977 2009 1968 1955 1961 1995 1981 1996 2008 1958 1973 1994 1965 1978 1954 1960 2004 1970 1951 1975 1953 2001 2010 2003 1979 1964 1956 1972 1957 1992 1962 1998 1990 1967 1985 1987 1988 1976 1984 1999 1966 1980 1989 1991 1986 1982 1983 1974]|Continuous|\n",
    "|**Roof Style**|object|0|6|['Gable' 'Hip' 'Flat' 'Mansard' 'Shed' 'Gambrel']|Nominal|\n",
    "|**Roof Matl**|object|0|6|['CompShg' 'WdShngl' 'Tar&Grv' 'WdShake' 'Membran' 'ClyTile']|Nominal|\n",
    "|**Exterior 1st**|object|0|15|['HdBoard' 'VinylSd' 'Wd Sdng' 'BrkFace' 'Plywood' 'MetalSd' 'AsbShng' 'CemntBd' 'WdShing' 'Stucco' 'BrkComm' 'Stone' 'CBlock' 'ImStucc' 'AsphShn']|Nominal|\n",
    "|**Exterior 2nd**|object|0|15|['Plywood' 'VinylSd' 'Wd Sdng' 'HdBoard' 'MetalSd' 'AsbShng' 'CmentBd' 'Wd Shng' 'BrkFace' 'Stucco' 'Brk Cmn' 'ImStucc' 'Stone' 'CBlock' 'AsphShn']|Nominal|\n",
    "|**Mas Vnr Type**|object|22|4|['BrkFace' 'None' nan 'Stone' 'BrkCmn']|Nominal|\n",
    "|**Mas Vnr Area**|float64|22|373|Continuous|Continuous|\n",
    "|**Exter Qual**|object|0|4|['Gd' 'TA' 'Ex' 'Fa']|Ordinal|\n",
    "|**Exter Cond**|object|0|5|['TA' 'Gd' 'Fa' 'Ex' 'Po']|Ordinal|\n",
    "|**Foundation**|object|0|6|['CBlock' 'PConc' 'BrkTil' 'Slab' 'Stone' 'Wood']|Nominal|\n",
    "|**Bsmt Qual**|object|55|5|['TA' 'Gd' 'Fa' nan 'Ex' 'Po']|Ordinal|\n",
    "|**Bsmt Cond**|object|55|5|['TA' 'Gd' nan 'Fa' 'Po' 'Ex']|Ordinal|\n",
    "|**Bsmt Exposure**|object|58|4|['No' 'Gd' 'Av' nan 'Mn']|Ordinal|\n",
    "|**BsmtFin Type 1 **|object|55|6|['GLQ' 'Unf' 'ALQ' 'Rec' nan 'BLQ' 'LwQ']|Nominal|\n",
    "|**BsmtFin SF 1**|float64|1|821|Continuous|Continuous|\n",
    "|**BsmtFin Type 2**|object|56|6|['Unf' 'Rec' nan 'BLQ' 'GLQ' 'LwQ' 'ALQ']|Nominal|\n",
    "|**BsmtFin SF 2**|float64|1|205|Continuous|Continuous|\n",
    "|**Bsmt Unf SF**|float64|1|967|Continuous|Continuous|\n",
    "|**Total Bsmt SF**|float64|1|892|Continuous|Continuous|\n",
    "|**Heating**|object|0|5|['GasA' 'GasW' 'Grav' 'Wall' 'OthW']|Nominal|\n",
    "|**Heating QC**|object|0|5|['Ex' 'TA' 'Gd' 'Fa' 'Po']|Ordinal|\n",
    "|**Central Air**|object|0|2|['Y' 'N']|Nominal|\n",
    "|**Electrical**|object|0|5|['SBrkr' 'FuseF' 'FuseA' 'FuseP' 'Mix']|Nominal|\n",
    "|**1st Flr SF**|int64|0|915|Continuous|Continuous|\n",
    "|**2nd Flr SF**|int64|0|504|Continuous|Continuous|\n",
    "|**Low Qual Fin SF**|int64|0|31|[   0  205   80  528  513  371  473  108 1064  515  120  312  572  234  390  697  114  512  144  514  397  140  479  259  436  156  384  360   53  362  450]|Ordinal|\n",
    "|**Gr Liv Area**|int64|0|1053|Continuous|Continuous|\n",
    "|**Bsmt Full Bath**|float64|2|4|[ 0.  1.  2. nan  3.]|Discrete|\n",
    "|**Bsmt Half Bath**|float64|2|3|[ 0.  1. nan  2.]|Discrete|\n",
    "|**Full Bath**|int64|0|5|[2 1 3 0 4]|Discrete|\n",
    "|**Half Bath**|int64|0|3|[1 0 2]|Discrete|\n",
    "|**Bedroom AbvGr**|int64|0|8|[3 4 2 5 1 0 6 8]|Discrete|\n",
    "|**Kitchen AbvGr**|int64|0|4|[1 2 0 3]|Discrete|\n",
    "|**Kitchen Qual**|object|0|4|['Gd' 'TA' 'Fa' 'Ex']|Ordinal|\n",
    "|**TotRms AbvGrd**|int64|0|14|[ 6  8  5  7  9  4 12 11 10  3 14  2 13 15]|Discrete|\n",
    "|**Functional**|object|0|8|['Typ' 'Mod' 'Min2' 'Maj1' 'Min1' 'Sev' 'Sal' 'Maj2']|Nominal|\n",
    "|**Fireplaces**|int64|0|5|[0 1 2 4 3]|Discrete|\n",
    "|**Fireplace Qu**|object|1000|5|[nan 'TA' 'Gd' 'Po' 'Ex' 'Fa']|Ordinal|\n",
    "|**Garage Type**|object|113|6|['Attchd' 'Detchd' 'BuiltIn' 'Basment' nan '2Types' 'CarPort']|Nominal|\n",
    "|**Garage Yr Blt**|float64|114|100|Continuous|Continuous|\n",
    "|**Garage Finish**|object|114|3|['RFn' 'Unf' 'Fin' nan]|Nominal|\n",
    "|**Garage Cars**|float64|1|6|[ 2.  1.  3.  0.  4.  5. nan]|Discrete|\n",
    "|**Garage Area**|float64|1|514|Continuous|Continuous|\n",
    "|**Garage Qual**|object|114|5|['TA' 'Fa' nan 'Gd' 'Ex' 'Po']|Ordinal|\n",
    "|**Garage Cond**|object|114|5|['TA' 'Fa' nan 'Po' 'Gd' 'Ex']|Ordinal|\n",
    "|**Paved Drive**|object|0|3|['Y' 'N' 'P']|Discrete|\n",
    "|**Wood Deck SF**|int64|0|322|Continuous|Continuous|\n",
    "|**Open Porch SF**|int64|0|223|Continuous|Continuous|\n",
    "|**Enclosed Porch**|int64|0|159|Continuous|Continuous|\n",
    "|**3Ssn Porch**|int64|0|22|[  0 176 224 162 168 120 407 144 150 255 508 180 140  96 323 153  86 216  245 182 290  304]|Discrete|\n",
    "|**Screen Porch**|int64|0|100|Continuous|Continuous|\n",
    "|**Pool Area**|int64|0|10|[  0 519 576 800 228 480 648 738 368 561]|Discrete|\n",
    "|**Pool QC**|object|2042|4|[nan 'Fa' 'Gd' 'Ex' 'TA']|Ordinal|\n",
    "|**Fence**|object|1651|4|[nan 'MnPrv' 'GdPrv' 'GdWo' 'MnWw']|Nominal|\n",
    "|**Misc Feature**|object|1986|5|[nan 'Shed' 'TenC' 'Gar2' 'Othr' 'Elev']|Nominal|\n",
    "|**Misc Val**|int64|0|28|[    0   400   500  2000   650   600  1200   480   700   450  3000 12500  4500   460  3500  8300   455   300  1150   900    54  6500   800  1500  2500  1300 17000    80]|Discrete|\n",
    "|**Mo Sold**|int64|0|12|[ 3  4  1  6  5  9  7  2 12 10 11  8]|Ordinal|\n",
    "|**Yr Sold**|int64|0|5|[2010 2009 2006 2007 2008]|Ordinal|\n",
    "|**Sale Type**|object|0|9|['WD ' 'New' 'COD' 'ConLD' 'Con' 'CWD' 'Oth' 'ConLI' 'ConLw']|Nominal|\n",
    "|**SalePrice**|int64|0|828|Continuous|Cintinuous|"
   ]
  },
  {
   "cell_type": "code",
   "execution_count": 10,
   "id": "658e5c86",
   "metadata": {
    "scrolled": false
   },
   "outputs": [
    {
     "data": {
      "text/html": [
       "<div>\n",
       "<style scoped>\n",
       "    .dataframe tbody tr th:only-of-type {\n",
       "        vertical-align: middle;\n",
       "    }\n",
       "\n",
       "    .dataframe tbody tr th {\n",
       "        vertical-align: top;\n",
       "    }\n",
       "\n",
       "    .dataframe thead th {\n",
       "        text-align: right;\n",
       "    }\n",
       "</style>\n",
       "<table border=\"1\" class=\"dataframe\">\n",
       "  <thead>\n",
       "    <tr style=\"text-align: right;\">\n",
       "      <th></th>\n",
       "      <th>nulls</th>\n",
       "      <th>dtype</th>\n",
       "      <th>nunique_values</th>\n",
       "      <th>unique_values</th>\n",
       "      <th>value_counts</th>\n",
       "    </tr>\n",
       "  </thead>\n",
       "  <tbody>\n",
       "    <tr>\n",
       "      <th>Id</th>\n",
       "      <td>0</td>\n",
       "      <td>int64</td>\n",
       "      <td>2051</td>\n",
       "      <td>Continuous</td>\n",
       "      <td>Continuous</td>\n",
       "    </tr>\n",
       "    <tr>\n",
       "      <th>PID</th>\n",
       "      <td>0</td>\n",
       "      <td>int64</td>\n",
       "      <td>2051</td>\n",
       "      <td>Continuous</td>\n",
       "      <td>Continuous</td>\n",
       "    </tr>\n",
       "    <tr>\n",
       "      <th>MS SubClass</th>\n",
       "      <td>0</td>\n",
       "      <td>int64</td>\n",
       "      <td>16</td>\n",
       "      <td>[60, 20, 50, 180, 160, 70, 120, 190, 85, 30, 9...</td>\n",
       "      <td>20     770\n",
       "60     394\n",
       "50     198\n",
       "120    132\n",
       "30...</td>\n",
       "    </tr>\n",
       "    <tr>\n",
       "      <th>MS Zoning</th>\n",
       "      <td>0</td>\n",
       "      <td>object</td>\n",
       "      <td>7</td>\n",
       "      <td>[RL, RM, FV, C (all), A (agr), RH, I (all)]</td>\n",
       "      <td>RL         1598\n",
       "RM          316\n",
       "FV          10...</td>\n",
       "    </tr>\n",
       "    <tr>\n",
       "      <th>Lot Frontage</th>\n",
       "      <td>330</td>\n",
       "      <td>float64</td>\n",
       "      <td>118</td>\n",
       "      <td>[nan, 43.0, 68.0, 73.0, 82.0, 137.0, 35.0, 70....</td>\n",
       "      <td>60.0     179\n",
       "70.0      96\n",
       "80.0      94\n",
       "50.0   ...</td>\n",
       "    </tr>\n",
       "  </tbody>\n",
       "</table>\n",
       "</div>"
      ],
      "text/plain": [
       "              nulls    dtype  nunique_values  \\\n",
       "Id                0    int64            2051   \n",
       "PID               0    int64            2051   \n",
       "MS SubClass       0    int64              16   \n",
       "MS Zoning         0   object               7   \n",
       "Lot Frontage    330  float64             118   \n",
       "\n",
       "                                                  unique_values  \\\n",
       "Id                                                   Continuous   \n",
       "PID                                                  Continuous   \n",
       "MS SubClass   [60, 20, 50, 180, 160, 70, 120, 190, 85, 30, 9...   \n",
       "MS Zoning           [RL, RM, FV, C (all), A (agr), RH, I (all)]   \n",
       "Lot Frontage  [nan, 43.0, 68.0, 73.0, 82.0, 137.0, 35.0, 70....   \n",
       "\n",
       "                                                   value_counts  \n",
       "Id                                                   Continuous  \n",
       "PID                                                  Continuous  \n",
       "MS SubClass   20     770\n",
       "60     394\n",
       "50     198\n",
       "120    132\n",
       "30...  \n",
       "MS Zoning     RL         1598\n",
       "RM          316\n",
       "FV          10...  \n",
       "Lot Frontage  60.0     179\n",
       "70.0      96\n",
       "80.0      94\n",
       "50.0   ...  "
      ]
     },
     "execution_count": 10,
     "metadata": {},
     "output_type": "execute_result"
    }
   ],
   "source": [
    "df_info.iloc[:5]"
   ]
  },
  {
   "cell_type": "markdown",
   "id": "3e19ffe7",
   "metadata": {},
   "source": [
    "Dropping `Id`. \n",
    "\n",
    "<font color=red>Do I need PID?</font>"
   ]
  },
  {
   "cell_type": "code",
   "execution_count": 11,
   "id": "81b7718d",
   "metadata": {},
   "outputs": [],
   "source": [
    "df.drop('Id', axis=1, inplace=True)"
   ]
  },
  {
   "cell_type": "markdown",
   "id": "07543230",
   "metadata": {},
   "source": [
    "# EDA"
   ]
  },
  {
   "cell_type": "markdown",
   "id": "ae180d27",
   "metadata": {},
   "source": [
    "---"
   ]
  },
  {
   "cell_type": "code",
   "execution_count": 107,
   "id": "41994025",
   "metadata": {},
   "outputs": [],
   "source": [
    "df_info = pd.DataFrame({'nulls': [df[col].isna().sum() for col in df.keys()], \n",
    "                        'dtype': [df[col].dtype for col in df.keys()], \n",
    "                        'nunique_values': [df[col].nunique() for col in df.keys()], \n",
    "                        'unique_values': [df[col].unique()for col in df.keys()], \n",
    "                        'value_counts': [df[col].value_counts() for col in df.keys()]}, \n",
    "                        index=[col for col in df.keys()])\n",
    "\n",
    "def col_info(col, vtype):\n",
    "    return pd.DataFrame({'type': vtype,\n",
    "                         'nulls': df[col].isna().sum(), \n",
    "                         'dtype': df[col].dtype,\n",
    "                         'nunique': df[col].nunique(), \n",
    "                         'unique_values': [df[col].unique()], \n",
    "                         'value_counts': [df[col].value_counts()]}, \n",
    "                         index=[col])"
   ]
  },
  {
   "cell_type": "code",
   "execution_count": 13,
   "id": "5c229be4",
   "metadata": {},
   "outputs": [],
   "source": [
    "def plot_nominal_feature(feature):    \n",
    "    fix, ax = plt.subplots(3, 1, figsize=(16, 20))\n",
    "\n",
    "    ax[0].bar(x = [str(num) for num in sorted(df[feature].unique())], \n",
    "              height = df[feature].value_counts(normalize=True).sort_index())\n",
    "    ax[0].set_ylabel('Freq of ' + feature, fontsize=13)\n",
    "    ax[0].set_title('Frequency of Each ' + feature, \n",
    "                    fontweight='bold', \n",
    "                    color='firebrick', \n",
    "                    pad=18, \n",
    "                    loc='left')\n",
    "    \n",
    "    ax[1].bar(x = [str(num) for num in sorted(df[feature].unique())], \n",
    "              height = df.groupby([feature])['SalePrice'].mean())\n",
    "    ax[1].set_ylabel('Avg Sale Price', fontsize=13)\n",
    "    ax[1].set_title('Average Sale Price for ' + feature, \n",
    "                    fontsize=13, \n",
    "                    fontweight='bold', \n",
    "                    color='firebrick', \n",
    "                    pad=18, \n",
    "                    loc='left')\n",
    "\n",
    "    df.boxplot(column=['SalePrice'], by=feature, ax=ax[2])\n",
    "    ax[2].set_ylabel('Sale Price', fontsize=13)\n",
    "    ax[2].set_title('Sale Price for each ' + feature, \n",
    "                    fontsize=13, \n",
    "                    fontweight='bold', \n",
    "                    color='firebrick', \n",
    "                    pad=18, \n",
    "                    loc='left');"
   ]
  },
  {
   "cell_type": "markdown",
   "id": "d0f3f73b",
   "metadata": {},
   "source": [
    "## Nominal Data\n",
    "1. MS SubClass\n",
    "2. MS Zoning\n",
    "3. Street\n",
    "4. Alley\n",
    "5. Land Contour\n",
    "6. Lot Config\n",
    "7. Neighborhood\n",
    "9. Condition 1\n",
    "10. Condition 2\n",
    "11. **Bldg Type**\n",
    "12. **House Style**\n",
    "13. Roof Style \n",
    "14. Roof Matl\n",
    "15. Exterior 1\n",
    "16. Exterior 2\n",
    "17. Mas Vnr Type\n",
    "18. Foundation \n",
    "19. Heating\n",
    "20. Central Air \n",
    "21. Garage Type \n",
    "22. Misc Feature \n",
    "23. Sale Type \n",
    "24. Sale Condition "
   ]
  },
  {
   "cell_type": "markdown",
   "id": "f02a3af4",
   "metadata": {},
   "source": [
    "#### MS SubClass\n",
    "- several groups have coutns less than 100, --> absorbed into other groups "
   ]
  },
  {
   "cell_type": "code",
   "execution_count": 14,
   "id": "861d3112",
   "metadata": {},
   "outputs": [
    {
     "data": {
      "text/html": [
       "<div>\n",
       "<style scoped>\n",
       "    .dataframe tbody tr th:only-of-type {\n",
       "        vertical-align: middle;\n",
       "    }\n",
       "\n",
       "    .dataframe tbody tr th {\n",
       "        vertical-align: top;\n",
       "    }\n",
       "\n",
       "    .dataframe thead th {\n",
       "        text-align: right;\n",
       "    }\n",
       "</style>\n",
       "<table border=\"1\" class=\"dataframe\">\n",
       "  <thead>\n",
       "    <tr style=\"text-align: right;\">\n",
       "      <th></th>\n",
       "      <th>type</th>\n",
       "      <th>nulls</th>\n",
       "      <th>dtype</th>\n",
       "      <th>nunique</th>\n",
       "      <th>unique_values</th>\n",
       "      <th>value_counts</th>\n",
       "    </tr>\n",
       "  </thead>\n",
       "  <tbody>\n",
       "    <tr>\n",
       "      <th>MS SubClass</th>\n",
       "      <td>Nominal</td>\n",
       "      <td>0</td>\n",
       "      <td>int64</td>\n",
       "      <td>16</td>\n",
       "      <td>[60, 20, 50, 180, 160, 70, 120, 190, 85, 30, 9...</td>\n",
       "      <td>20     770\n",
       "60     394\n",
       "50     198\n",
       "120    132\n",
       "30...</td>\n",
       "    </tr>\n",
       "  </tbody>\n",
       "</table>\n",
       "</div>"
      ],
      "text/plain": [
       "                type  nulls  dtype  nunique  \\\n",
       "MS SubClass  Nominal      0  int64       16   \n",
       "\n",
       "                                                 unique_values  \\\n",
       "MS SubClass  [60, 20, 50, 180, 160, 70, 120, 190, 85, 30, 9...   \n",
       "\n",
       "                                                  value_counts  \n",
       "MS SubClass  20     770\n",
       "60     394\n",
       "50     198\n",
       "120    132\n",
       "30...  "
      ]
     },
     "execution_count": 14,
     "metadata": {},
     "output_type": "execute_result"
    }
   ],
   "source": [
    "col_info('MS SubClass', 'Nominal')"
   ]
  },
  {
   "cell_type": "markdown",
   "id": "be3a9842",
   "metadata": {},
   "source": [
    "       020\t1-STORY 1946 & NEWER ALL STYLES\n",
    "       030\t1-STORY 1945 & OLDER\n",
    "       040\t1-STORY W/FINISHED ATTIC ALL AGES\n",
    "       045\t1-1/2 STORY - UNFINISHED ALL AGES\n",
    "       050\t1-1/2 STORY FINISHED ALL AGES\n",
    "       060\t2-STORY 1946 & NEWER\n",
    "       070\t2-STORY 1945 & OLDER\n",
    "       075\t2-1/2 STORY ALL AGES\n",
    "       080\tSPLIT OR MULTI-LEVEL\n",
    "       085\tSPLIT FOYER\n",
    "       090\tDUPLEX - ALL STYLES AND AGES\n",
    "       120\t1-STORY PUD (Planned Unit Development) - 1946 & NEWER\n",
    "       150\t1-1/2 STORY PUD - ALL AGES\n",
    "       160\t2-STORY PUD - 1946 & NEWER\n",
    "       180\tPUD - MULTILEVEL - INCL SPLIT LEV/FOYER\n",
    "       190\t2 FAMILY CONVERSION - ALL STYLES AND AGES"
   ]
  },
  {
   "cell_type": "code",
   "execution_count": 108,
   "id": "a5a97a6c",
   "metadata": {
    "scrolled": false
   },
   "outputs": [
    {
     "data": {
      "image/png": "[encoded data removed]",
      "text/plain": [
       "<Figure size 1152x1440 with 3 Axes>"
      ]
     },
     "metadata": {
      "needs_background": "light"
     },
     "output_type": "display_data"
    }
   ],
   "source": [
    "plot_nominal_feature('MS SubClass')"
   ]
  },
  {
   "cell_type": "markdown",
   "id": "973b682d",
   "metadata": {},
   "source": [
    "#### MS Zoning\n",
    "- several groups have coutns less than 100, --> absorbed into other groups "
   ]
  },
  {
   "cell_type": "code",
   "execution_count": 16,
   "id": "8eb9c6aa",
   "metadata": {},
   "outputs": [
    {
     "data": {
      "text/html": [
       "<div>\n",
       "<style scoped>\n",
       "    .dataframe tbody tr th:only-of-type {\n",
       "        vertical-align: middle;\n",
       "    }\n",
       "\n",
       "    .dataframe tbody tr th {\n",
       "        vertical-align: top;\n",
       "    }\n",
       "\n",
       "    .dataframe thead th {\n",
       "        text-align: right;\n",
       "    }\n",
       "</style>\n",
       "<table border=\"1\" class=\"dataframe\">\n",
       "  <thead>\n",
       "    <tr style=\"text-align: right;\">\n",
       "      <th></th>\n",
       "      <th>type</th>\n",
       "      <th>nulls</th>\n",
       "      <th>dtype</th>\n",
       "      <th>nunique</th>\n",
       "      <th>unique_values</th>\n",
       "      <th>value_counts</th>\n",
       "    </tr>\n",
       "  </thead>\n",
       "  <tbody>\n",
       "    <tr>\n",
       "      <th>MS Zoning</th>\n",
       "      <td>Nominal</td>\n",
       "      <td>0</td>\n",
       "      <td>object</td>\n",
       "      <td>7</td>\n",
       "      <td>[RL, RM, FV, C (all), A (agr), RH, I (all)]</td>\n",
       "      <td>RL         1598\n",
       "RM          316\n",
       "FV          10...</td>\n",
       "    </tr>\n",
       "  </tbody>\n",
       "</table>\n",
       "</div>"
      ],
      "text/plain": [
       "              type  nulls   dtype  nunique  \\\n",
       "MS Zoning  Nominal      0  object        7   \n",
       "\n",
       "                                         unique_values  \\\n",
       "MS Zoning  [RL, RM, FV, C (all), A (agr), RH, I (all)]   \n",
       "\n",
       "                                                value_counts  \n",
       "MS Zoning  RL         1598\n",
       "RM          316\n",
       "FV          10...  "
      ]
     },
     "execution_count": 16,
     "metadata": {},
     "output_type": "execute_result"
    }
   ],
   "source": [
    "col_info('MS Zoning', 'Nominal')"
   ]
  },
  {
   "cell_type": "markdown",
   "id": "70596fdc",
   "metadata": {},
   "source": [
    "Identifies the general zoning classification of the sale.\n",
    "\t\t\n",
    "       A\tAgriculture\n",
    "       C\tCommercial\n",
    "       FV\tFloating Village Residential\n",
    "       I\tIndustrial\n",
    "       RH\tResidential High Density\n",
    "       RL\tResidential Low Density\n",
    "       RP\tResidential Low Density Park \n",
    "       RM\tResidential Medium Density"
   ]
  },
  {
   "cell_type": "code",
   "execution_count": 109,
   "id": "129b29a6",
   "metadata": {},
   "outputs": [
    {
     "data": {
      "image/png": "[encoded data removed]",
      "text/plain": [
       "<Figure size 1152x1440 with 3 Axes>"
      ]
     },
     "metadata": {
      "needs_background": "light"
     },
     "output_type": "display_data"
    }
   ],
   "source": [
    "plot_nominal_feature('MS Zoning')"
   ]
  },
  {
   "cell_type": "markdown",
   "id": "3bcabdd7",
   "metadata": {},
   "source": [
    "#### Street"
   ]
  },
  {
   "cell_type": "code",
   "execution_count": 18,
   "id": "1de25a90",
   "metadata": {},
   "outputs": [
    {
     "data": {
      "text/html": [
       "<div>\n",
       "<style scoped>\n",
       "    .dataframe tbody tr th:only-of-type {\n",
       "        vertical-align: middle;\n",
       "    }\n",
       "\n",
       "    .dataframe tbody tr th {\n",
       "        vertical-align: top;\n",
       "    }\n",
       "\n",
       "    .dataframe thead th {\n",
       "        text-align: right;\n",
       "    }\n",
       "</style>\n",
       "<table border=\"1\" class=\"dataframe\">\n",
       "  <thead>\n",
       "    <tr style=\"text-align: right;\">\n",
       "      <th></th>\n",
       "      <th>type</th>\n",
       "      <th>nulls</th>\n",
       "      <th>dtype</th>\n",
       "      <th>nunique</th>\n",
       "      <th>unique_values</th>\n",
       "      <th>value_counts</th>\n",
       "    </tr>\n",
       "  </thead>\n",
       "  <tbody>\n",
       "    <tr>\n",
       "      <th>Street</th>\n",
       "      <td>Nominal</td>\n",
       "      <td>0</td>\n",
       "      <td>object</td>\n",
       "      <td>2</td>\n",
       "      <td>[Pave, Grvl]</td>\n",
       "      <td>Pave    2044\n",
       "Grvl       7\n",
       "Name: Street, dtype:...</td>\n",
       "    </tr>\n",
       "  </tbody>\n",
       "</table>\n",
       "</div>"
      ],
      "text/plain": [
       "           type  nulls   dtype  nunique unique_values  \\\n",
       "Street  Nominal      0  object        2  [Pave, Grvl]   \n",
       "\n",
       "                                             value_counts  \n",
       "Street  Pave    2044\n",
       "Grvl       7\n",
       "Name: Street, dtype:...  "
      ]
     },
     "execution_count": 18,
     "metadata": {},
     "output_type": "execute_result"
    }
   ],
   "source": [
    "col_info('Street', 'Nominal')"
   ]
  },
  {
   "cell_type": "markdown",
   "id": "f3994d02",
   "metadata": {},
   "source": [
    "Type of road access to property\n",
    "\n",
    "       Grvl\tGravel\t\n",
    "       Pave\tPaved"
   ]
  },
  {
   "cell_type": "code",
   "execution_count": 19,
   "id": "f140d447",
   "metadata": {
    "scrolled": false
   },
   "outputs": [],
   "source": [
    "# plot_nominal_feature('Street')"
   ]
  },
  {
   "cell_type": "markdown",
   "id": "04e1006b",
   "metadata": {},
   "source": [
    "#### Alley"
   ]
  },
  {
   "cell_type": "markdown",
   "id": "0c458dcf",
   "metadata": {},
   "source": [
    "Cleanup\n",
    "- [x] `Alley` replacing Nulls with 'NA'"
   ]
  },
  {
   "cell_type": "code",
   "execution_count": 20,
   "id": "c8597c05",
   "metadata": {},
   "outputs": [],
   "source": [
    "df.loc[df['Alley'].isna(), 'Alley'] = 'CA'"
   ]
  },
  {
   "cell_type": "code",
   "execution_count": 21,
   "id": "00b58251",
   "metadata": {
    "scrolled": true
   },
   "outputs": [
    {
     "data": {
      "text/html": [
       "<div>\n",
       "<style scoped>\n",
       "    .dataframe tbody tr th:only-of-type {\n",
       "        vertical-align: middle;\n",
       "    }\n",
       "\n",
       "    .dataframe tbody tr th {\n",
       "        vertical-align: top;\n",
       "    }\n",
       "\n",
       "    .dataframe thead th {\n",
       "        text-align: right;\n",
       "    }\n",
       "</style>\n",
       "<table border=\"1\" class=\"dataframe\">\n",
       "  <thead>\n",
       "    <tr style=\"text-align: right;\">\n",
       "      <th></th>\n",
       "      <th>type</th>\n",
       "      <th>nulls</th>\n",
       "      <th>dtype</th>\n",
       "      <th>nunique</th>\n",
       "      <th>unique_values</th>\n",
       "      <th>value_counts</th>\n",
       "    </tr>\n",
       "  </thead>\n",
       "  <tbody>\n",
       "    <tr>\n",
       "      <th>Alley</th>\n",
       "      <td>Nominal</td>\n",
       "      <td>0</td>\n",
       "      <td>object</td>\n",
       "      <td>3</td>\n",
       "      <td>[CA, Pave, Grvl]</td>\n",
       "      <td>CA      1911\n",
       "Grvl      85\n",
       "Pave      55\n",
       "Name: A...</td>\n",
       "    </tr>\n",
       "  </tbody>\n",
       "</table>\n",
       "</div>"
      ],
      "text/plain": [
       "          type  nulls   dtype  nunique     unique_values  \\\n",
       "Alley  Nominal      0  object        3  [CA, Pave, Grvl]   \n",
       "\n",
       "                                            value_counts  \n",
       "Alley  CA      1911\n",
       "Grvl      85\n",
       "Pave      55\n",
       "Name: A...  "
      ]
     },
     "execution_count": 21,
     "metadata": {},
     "output_type": "execute_result"
    }
   ],
   "source": [
    "col_info('Alley', 'Nominal')"
   ]
  },
  {
   "cell_type": "markdown",
   "id": "d4fef94e",
   "metadata": {},
   "source": [
    "Type of alley access to property\n",
    "\n",
    "       Grvl\tGravel\n",
    "       Pave\tPaved\n",
    "       NA \tNo alley access"
   ]
  },
  {
   "cell_type": "code",
   "execution_count": 22,
   "id": "a29fe7b6",
   "metadata": {},
   "outputs": [],
   "source": [
    "# plot_nominal_feature('Alley')"
   ]
  },
  {
   "cell_type": "markdown",
   "id": "a5ad9b88",
   "metadata": {},
   "source": [
    "#### Land Contour"
   ]
  },
  {
   "cell_type": "code",
   "execution_count": 23,
   "id": "325d8a78",
   "metadata": {},
   "outputs": [
    {
     "data": {
      "text/html": [
       "<div>\n",
       "<style scoped>\n",
       "    .dataframe tbody tr th:only-of-type {\n",
       "        vertical-align: middle;\n",
       "    }\n",
       "\n",
       "    .dataframe tbody tr th {\n",
       "        vertical-align: top;\n",
       "    }\n",
       "\n",
       "    .dataframe thead th {\n",
       "        text-align: right;\n",
       "    }\n",
       "</style>\n",
       "<table border=\"1\" class=\"dataframe\">\n",
       "  <thead>\n",
       "    <tr style=\"text-align: right;\">\n",
       "      <th></th>\n",
       "      <th>type</th>\n",
       "      <th>nulls</th>\n",
       "      <th>dtype</th>\n",
       "      <th>nunique</th>\n",
       "      <th>unique_values</th>\n",
       "      <th>value_counts</th>\n",
       "    </tr>\n",
       "  </thead>\n",
       "  <tbody>\n",
       "    <tr>\n",
       "      <th>Land Contour</th>\n",
       "      <td>Nominal</td>\n",
       "      <td>0</td>\n",
       "      <td>object</td>\n",
       "      <td>4</td>\n",
       "      <td>[Lvl, HLS, Bnk, Low]</td>\n",
       "      <td>Lvl    1843\n",
       "HLS      85\n",
       "Bnk      80\n",
       "Low      4...</td>\n",
       "    </tr>\n",
       "  </tbody>\n",
       "</table>\n",
       "</div>"
      ],
      "text/plain": [
       "                 type  nulls   dtype  nunique         unique_values  \\\n",
       "Land Contour  Nominal      0  object        4  [Lvl, HLS, Bnk, Low]   \n",
       "\n",
       "                                                   value_counts  \n",
       "Land Contour  Lvl    1843\n",
       "HLS      85\n",
       "Bnk      80\n",
       "Low      4...  "
      ]
     },
     "execution_count": 23,
     "metadata": {},
     "output_type": "execute_result"
    }
   ],
   "source": [
    "col_info('Land Contour', 'Nominal')"
   ]
  },
  {
   "cell_type": "markdown",
   "id": "f31d5d55",
   "metadata": {},
   "source": [
    "Flatness of the property\n",
    "\n",
    "       Lvl\tNear Flat/Level\t\n",
    "       Bnk\tBanked - Quick and significant rise from street grade to building\n",
    "       HLS\tHillside - Significant slope from side to side\n",
    "       Low\tDepression"
   ]
  },
  {
   "cell_type": "code",
   "execution_count": 24,
   "id": "f1b8159f",
   "metadata": {},
   "outputs": [],
   "source": [
    "# plot_nominal_feature('Land Contour')"
   ]
  },
  {
   "cell_type": "markdown",
   "id": "8e8d6b13",
   "metadata": {},
   "source": [
    "#### Lot Config"
   ]
  },
  {
   "cell_type": "code",
   "execution_count": 25,
   "id": "cb41afd2",
   "metadata": {},
   "outputs": [
    {
     "data": {
      "text/html": [
       "<div>\n",
       "<style scoped>\n",
       "    .dataframe tbody tr th:only-of-type {\n",
       "        vertical-align: middle;\n",
       "    }\n",
       "\n",
       "    .dataframe tbody tr th {\n",
       "        vertical-align: top;\n",
       "    }\n",
       "\n",
       "    .dataframe thead th {\n",
       "        text-align: right;\n",
       "    }\n",
       "</style>\n",
       "<table border=\"1\" class=\"dataframe\">\n",
       "  <thead>\n",
       "    <tr style=\"text-align: right;\">\n",
       "      <th></th>\n",
       "      <th>type</th>\n",
       "      <th>nulls</th>\n",
       "      <th>dtype</th>\n",
       "      <th>nunique</th>\n",
       "      <th>unique_values</th>\n",
       "      <th>value_counts</th>\n",
       "    </tr>\n",
       "  </thead>\n",
       "  <tbody>\n",
       "    <tr>\n",
       "      <th>Lot Config</th>\n",
       "      <td>Nominal</td>\n",
       "      <td>0</td>\n",
       "      <td>object</td>\n",
       "      <td>5</td>\n",
       "      <td>[CulDSac, Inside, Corner, FR2, FR3]</td>\n",
       "      <td>Inside     1503\n",
       "Corner      348\n",
       "CulDSac     13...</td>\n",
       "    </tr>\n",
       "  </tbody>\n",
       "</table>\n",
       "</div>"
      ],
      "text/plain": [
       "               type  nulls   dtype  nunique  \\\n",
       "Lot Config  Nominal      0  object        5   \n",
       "\n",
       "                                  unique_values  \\\n",
       "Lot Config  [CulDSac, Inside, Corner, FR2, FR3]   \n",
       "\n",
       "                                                 value_counts  \n",
       "Lot Config  Inside     1503\n",
       "Corner      348\n",
       "CulDSac     13...  "
      ]
     },
     "execution_count": 25,
     "metadata": {},
     "output_type": "execute_result"
    }
   ],
   "source": [
    "col_info('Lot Config', 'Nominal')"
   ]
  },
  {
   "cell_type": "markdown",
   "id": "30905479",
   "metadata": {},
   "source": [
    "Lot configuration\n",
    "\n",
    "       Inside\tInside lot\n",
    "       Corner\tCorner lot\n",
    "       CulDSac\tCul-de-sac\n",
    "       FR2\tFrontage on 2 sides of property\n",
    "       FR3\tFrontage on 3 sides of property"
   ]
  },
  {
   "cell_type": "code",
   "execution_count": 26,
   "id": "4f5bfffe",
   "metadata": {
    "scrolled": false
   },
   "outputs": [],
   "source": [
    "# plot_nominal_feature('Lot Config')"
   ]
  },
  {
   "cell_type": "markdown",
   "id": "2810ea51",
   "metadata": {},
   "source": [
    "#### Neighborhood"
   ]
  },
  {
   "cell_type": "code",
   "execution_count": 27,
   "id": "a6d5aa05",
   "metadata": {},
   "outputs": [
    {
     "data": {
      "text/html": [
       "<div>\n",
       "<style scoped>\n",
       "    .dataframe tbody tr th:only-of-type {\n",
       "        vertical-align: middle;\n",
       "    }\n",
       "\n",
       "    .dataframe tbody tr th {\n",
       "        vertical-align: top;\n",
       "    }\n",
       "\n",
       "    .dataframe thead th {\n",
       "        text-align: right;\n",
       "    }\n",
       "</style>\n",
       "<table border=\"1\" class=\"dataframe\">\n",
       "  <thead>\n",
       "    <tr style=\"text-align: right;\">\n",
       "      <th></th>\n",
       "      <th>type</th>\n",
       "      <th>nulls</th>\n",
       "      <th>dtype</th>\n",
       "      <th>nunique</th>\n",
       "      <th>unique_values</th>\n",
       "      <th>value_counts</th>\n",
       "    </tr>\n",
       "  </thead>\n",
       "  <tbody>\n",
       "    <tr>\n",
       "      <th>Neighborhood</th>\n",
       "      <td>Nominal</td>\n",
       "      <td>0</td>\n",
       "      <td>object</td>\n",
       "      <td>28</td>\n",
       "      <td>[Sawyer, SawyerW, NAmes, Timber, Edwards, OldT...</td>\n",
       "      <td>NAmes      310\n",
       "CollgCr    180\n",
       "OldTown    163\n",
       "E...</td>\n",
       "    </tr>\n",
       "  </tbody>\n",
       "</table>\n",
       "</div>"
      ],
      "text/plain": [
       "                 type  nulls   dtype  nunique  \\\n",
       "Neighborhood  Nominal      0  object       28   \n",
       "\n",
       "                                                  unique_values  \\\n",
       "Neighborhood  [Sawyer, SawyerW, NAmes, Timber, Edwards, OldT...   \n",
       "\n",
       "                                                   value_counts  \n",
       "Neighborhood  NAmes      310\n",
       "CollgCr    180\n",
       "OldTown    163\n",
       "E...  "
      ]
     },
     "execution_count": 27,
     "metadata": {},
     "output_type": "execute_result"
    }
   ],
   "source": [
    "col_info('Neighborhood', 'Nominal')"
   ]
  },
  {
   "cell_type": "markdown",
   "id": "586ed28e",
   "metadata": {},
   "source": [
    "Physical locations within Ames city limits (map available)\n",
    "\n",
    "       Blmngtn\tBloomington Heights\n",
    "       Blueste\tBluestem\n",
    "       BrDale\tBriardale\n",
    "       BrkSide\tBrookside\n",
    "       ClearCr\tClear Creek\n",
    "       CollgCr\tCollege Creek\n",
    "       Crawfor\tCrawford\n",
    "       Edwards\tEdwards\n",
    "       Gilbert\tGilbert\n",
    "       Greens\tGreens\n",
    "       GrnHill\tGreen Hills\n",
    "       IDOTRR\tIowa DOT and Rail Road\n",
    "       Landmrk\tLandmark\n",
    "       MeadowV\tMeadow Village\n",
    "       Mitchel\tMitchell\n",
    "       Names\tNorth Ames\n",
    "       NoRidge\tNorthridge\n",
    "       NPkVill\tNorthpark Villa\n",
    "       NridgHt\tNorthridge Heights\n",
    "       NWAmes\tNorthwest Ames\n",
    "       OldTown\tOld Town\n",
    "       SWISU\tSouth & West of Iowa State University\n",
    "       Sawyer\tSawyer\n",
    "       SawyerW\tSawyer West\n",
    "       Somerst\tSomerset\n",
    "       StoneBr\tStone Brook\n",
    "       Timber\tTimberland\n",
    "       Veenker\tVeenker"
   ]
  },
  {
   "cell_type": "code",
   "execution_count": 28,
   "id": "7881cf71",
   "metadata": {
    "scrolled": false
   },
   "outputs": [],
   "source": [
    "# plot_nominal_feature('Neighborhood')"
   ]
  },
  {
   "cell_type": "markdown",
   "id": "82f381dc",
   "metadata": {},
   "source": [
    "#### Condition 1\n",
    "Proximity to various conditions"
   ]
  },
  {
   "cell_type": "code",
   "execution_count": 29,
   "id": "bd3f64d6",
   "metadata": {},
   "outputs": [
    {
     "data": {
      "text/html": [
       "<div>\n",
       "<style scoped>\n",
       "    .dataframe tbody tr th:only-of-type {\n",
       "        vertical-align: middle;\n",
       "    }\n",
       "\n",
       "    .dataframe tbody tr th {\n",
       "        vertical-align: top;\n",
       "    }\n",
       "\n",
       "    .dataframe thead th {\n",
       "        text-align: right;\n",
       "    }\n",
       "</style>\n",
       "<table border=\"1\" class=\"dataframe\">\n",
       "  <thead>\n",
       "    <tr style=\"text-align: right;\">\n",
       "      <th></th>\n",
       "      <th>type</th>\n",
       "      <th>nulls</th>\n",
       "      <th>dtype</th>\n",
       "      <th>nunique</th>\n",
       "      <th>unique_values</th>\n",
       "      <th>value_counts</th>\n",
       "    </tr>\n",
       "  </thead>\n",
       "  <tbody>\n",
       "    <tr>\n",
       "      <th>Condition 1</th>\n",
       "      <td>Nominal</td>\n",
       "      <td>0</td>\n",
       "      <td>object</td>\n",
       "      <td>9</td>\n",
       "      <td>[RRAe, Norm, PosA, Artery, Feedr, PosN, RRAn, ...</td>\n",
       "      <td>Norm      1767\n",
       "Feedr      109\n",
       "Artery      70\n",
       "R...</td>\n",
       "    </tr>\n",
       "  </tbody>\n",
       "</table>\n",
       "</div>"
      ],
      "text/plain": [
       "                type  nulls   dtype  nunique  \\\n",
       "Condition 1  Nominal      0  object        9   \n",
       "\n",
       "                                                 unique_values  \\\n",
       "Condition 1  [RRAe, Norm, PosA, Artery, Feedr, PosN, RRAn, ...   \n",
       "\n",
       "                                                  value_counts  \n",
       "Condition 1  Norm      1767\n",
       "Feedr      109\n",
       "Artery      70\n",
       "R...  "
      ]
     },
     "execution_count": 29,
     "metadata": {},
     "output_type": "execute_result"
    }
   ],
   "source": [
    "col_info('Condition 1', 'Nominal')"
   ]
  },
  {
   "cell_type": "markdown",
   "id": "ab80af57",
   "metadata": {},
   "source": [
    "       Artery\tAdjacent to arterial street\n",
    "       Feedr\tAdjacent to feeder street\t\n",
    "       Norm\tNormal\t\n",
    "       RRNn\tWithin 200' of North-South Railroad\n",
    "       RRAn\tAdjacent to North-South Railroad\n",
    "       PosN\tNear positive off-site feature--park, greenbelt, etc.\n",
    "       PosA\tAdjacent to postive off-site feature\n",
    "       RRNe\tWithin 200' of East-West Railroad\n",
    "       RRAe\tAdjacent to East-West Railroad"
   ]
  },
  {
   "cell_type": "code",
   "execution_count": 30,
   "id": "23962c34",
   "metadata": {},
   "outputs": [],
   "source": [
    "# plot_nominal_feature('Condition 1')"
   ]
  },
  {
   "cell_type": "markdown",
   "id": "e9d395e9",
   "metadata": {},
   "source": [
    "#### Condition 2 \n",
    "Proximity to various conditions (if more than one is present)"
   ]
  },
  {
   "cell_type": "code",
   "execution_count": 31,
   "id": "dab6fb63",
   "metadata": {},
   "outputs": [
    {
     "data": {
      "text/html": [
       "<div>\n",
       "<style scoped>\n",
       "    .dataframe tbody tr th:only-of-type {\n",
       "        vertical-align: middle;\n",
       "    }\n",
       "\n",
       "    .dataframe tbody tr th {\n",
       "        vertical-align: top;\n",
       "    }\n",
       "\n",
       "    .dataframe thead th {\n",
       "        text-align: right;\n",
       "    }\n",
       "</style>\n",
       "<table border=\"1\" class=\"dataframe\">\n",
       "  <thead>\n",
       "    <tr style=\"text-align: right;\">\n",
       "      <th></th>\n",
       "      <th>type</th>\n",
       "      <th>nulls</th>\n",
       "      <th>dtype</th>\n",
       "      <th>nunique</th>\n",
       "      <th>unique_values</th>\n",
       "      <th>value_counts</th>\n",
       "    </tr>\n",
       "  </thead>\n",
       "  <tbody>\n",
       "    <tr>\n",
       "      <th>Condition 2</th>\n",
       "      <td>Nominal</td>\n",
       "      <td>0</td>\n",
       "      <td>object</td>\n",
       "      <td>8</td>\n",
       "      <td>[Norm, RRNn, Feedr, Artery, PosA, PosN, RRAe, ...</td>\n",
       "      <td>Norm      2025\n",
       "Feedr       11\n",
       "Artery       5\n",
       "P...</td>\n",
       "    </tr>\n",
       "  </tbody>\n",
       "</table>\n",
       "</div>"
      ],
      "text/plain": [
       "                type  nulls   dtype  nunique  \\\n",
       "Condition 2  Nominal      0  object        8   \n",
       "\n",
       "                                                 unique_values  \\\n",
       "Condition 2  [Norm, RRNn, Feedr, Artery, PosA, PosN, RRAe, ...   \n",
       "\n",
       "                                                  value_counts  \n",
       "Condition 2  Norm      2025\n",
       "Feedr       11\n",
       "Artery       5\n",
       "P...  "
      ]
     },
     "execution_count": 31,
     "metadata": {},
     "output_type": "execute_result"
    }
   ],
   "source": [
    "col_info('Condition 2', 'Nominal')"
   ]
  },
  {
   "cell_type": "markdown",
   "id": "4360153b",
   "metadata": {},
   "source": [
    "       Artery\tAdjacent to arterial street\n",
    "       Feedr\tAdjacent to feeder street\t\n",
    "       Norm\tNormal\t\n",
    "       RRNn\tWithin 200' of North-South Railroad\n",
    "       RRAn\tAdjacent to North-South Railroad\n",
    "       PosN\tNear positive off-site feature--park, greenbelt, etc.\n",
    "       PosA\tAdjacent to postive off-site feature\n",
    "       RRNe\tWithin 200' of East-West Railroad\n",
    "       RRAe\tAdjacent to East-West Railroad"
   ]
  },
  {
   "cell_type": "code",
   "execution_count": 32,
   "id": "f5a3372d",
   "metadata": {},
   "outputs": [],
   "source": [
    "# plot_nominal_feature('Condition 2')"
   ]
  },
  {
   "cell_type": "markdown",
   "id": "01c24423",
   "metadata": {},
   "source": [
    "#### Bldg Type\n",
    "Type of dwelling"
   ]
  },
  {
   "cell_type": "code",
   "execution_count": 33,
   "id": "f35d8515",
   "metadata": {},
   "outputs": [
    {
     "data": {
      "text/html": [
       "<div>\n",
       "<style scoped>\n",
       "    .dataframe tbody tr th:only-of-type {\n",
       "        vertical-align: middle;\n",
       "    }\n",
       "\n",
       "    .dataframe tbody tr th {\n",
       "        vertical-align: top;\n",
       "    }\n",
       "\n",
       "    .dataframe thead th {\n",
       "        text-align: right;\n",
       "    }\n",
       "</style>\n",
       "<table border=\"1\" class=\"dataframe\">\n",
       "  <thead>\n",
       "    <tr style=\"text-align: right;\">\n",
       "      <th></th>\n",
       "      <th>type</th>\n",
       "      <th>nulls</th>\n",
       "      <th>dtype</th>\n",
       "      <th>nunique</th>\n",
       "      <th>unique_values</th>\n",
       "      <th>value_counts</th>\n",
       "    </tr>\n",
       "  </thead>\n",
       "  <tbody>\n",
       "    <tr>\n",
       "      <th>Bldg Type</th>\n",
       "      <td>Nominal</td>\n",
       "      <td>0</td>\n",
       "      <td>object</td>\n",
       "      <td>5</td>\n",
       "      <td>[1Fam, TwnhsE, Twnhs, 2fmCon, Duplex]</td>\n",
       "      <td>1Fam      1700\n",
       "TwnhsE     161\n",
       "Duplex      75\n",
       "T...</td>\n",
       "    </tr>\n",
       "  </tbody>\n",
       "</table>\n",
       "</div>"
      ],
      "text/plain": [
       "              type  nulls   dtype  nunique  \\\n",
       "Bldg Type  Nominal      0  object        5   \n",
       "\n",
       "                                   unique_values  \\\n",
       "Bldg Type  [1Fam, TwnhsE, Twnhs, 2fmCon, Duplex]   \n",
       "\n",
       "                                                value_counts  \n",
       "Bldg Type  1Fam      1700\n",
       "TwnhsE     161\n",
       "Duplex      75\n",
       "T...  "
      ]
     },
     "execution_count": 33,
     "metadata": {},
     "output_type": "execute_result"
    }
   ],
   "source": [
    "col_info('Bldg Type', 'Nominal')"
   ]
  },
  {
   "cell_type": "markdown",
   "id": "ae938b93",
   "metadata": {},
   "source": [
    "       1Fam\tSingle-family Detached\t\n",
    "       2FmCon\tTwo-family Conversion; originally built as one-family dwelling\n",
    "       Duplx\tDuplex\n",
    "       TwnhsE\tTownhouse End Unit\n",
    "       TwnhsI\tTownhouse Inside Unit"
   ]
  },
  {
   "cell_type": "code",
   "execution_count": 34,
   "id": "804cbcec",
   "metadata": {},
   "outputs": [],
   "source": [
    "# plot_nominal_feature('Bldg Type')"
   ]
  },
  {
   "cell_type": "markdown",
   "id": "0f7aa9f9",
   "metadata": {},
   "source": [
    "#### House Style\n",
    "Style of dwelling"
   ]
  },
  {
   "cell_type": "code",
   "execution_count": 35,
   "id": "0a2b033e",
   "metadata": {},
   "outputs": [
    {
     "data": {
      "text/html": [
       "<div>\n",
       "<style scoped>\n",
       "    .dataframe tbody tr th:only-of-type {\n",
       "        vertical-align: middle;\n",
       "    }\n",
       "\n",
       "    .dataframe tbody tr th {\n",
       "        vertical-align: top;\n",
       "    }\n",
       "\n",
       "    .dataframe thead th {\n",
       "        text-align: right;\n",
       "    }\n",
       "</style>\n",
       "<table border=\"1\" class=\"dataframe\">\n",
       "  <thead>\n",
       "    <tr style=\"text-align: right;\">\n",
       "      <th></th>\n",
       "      <th>type</th>\n",
       "      <th>nulls</th>\n",
       "      <th>dtype</th>\n",
       "      <th>nunique</th>\n",
       "      <th>unique_values</th>\n",
       "      <th>value_counts</th>\n",
       "    </tr>\n",
       "  </thead>\n",
       "  <tbody>\n",
       "    <tr>\n",
       "      <th>House Style</th>\n",
       "      <td>Nominal</td>\n",
       "      <td>0</td>\n",
       "      <td>object</td>\n",
       "      <td>8</td>\n",
       "      <td>[2Story, 1Story, 1.5Fin, SFoyer, SLvl, 2.5Unf,...</td>\n",
       "      <td>1Story    1059\n",
       "2Story     598\n",
       "1.5Fin     218\n",
       "S...</td>\n",
       "    </tr>\n",
       "  </tbody>\n",
       "</table>\n",
       "</div>"
      ],
      "text/plain": [
       "                type  nulls   dtype  nunique  \\\n",
       "House Style  Nominal      0  object        8   \n",
       "\n",
       "                                                 unique_values  \\\n",
       "House Style  [2Story, 1Story, 1.5Fin, SFoyer, SLvl, 2.5Unf,...   \n",
       "\n",
       "                                                  value_counts  \n",
       "House Style  1Story    1059\n",
       "2Story     598\n",
       "1.5Fin     218\n",
       "S...  "
      ]
     },
     "execution_count": 35,
     "metadata": {},
     "output_type": "execute_result"
    }
   ],
   "source": [
    "col_info('House Style', 'Nominal')"
   ]
  },
  {
   "cell_type": "markdown",
   "id": "a8223237",
   "metadata": {},
   "source": [
    "       1Story\tOne story\n",
    "       1.5Fin\tOne and one-half story: 2nd level finished\n",
    "       1.5Unf\tOne and one-half story: 2nd level unfinished\n",
    "       2Story\tTwo story\n",
    "       2.5Fin\tTwo and one-half story: 2nd level finished\n",
    "       2.5Unf\tTwo and one-half story: 2nd level unfinished\n",
    "       SFoyer\tSplit Foyer\n",
    "       SLvl\tSplit Level"
   ]
  },
  {
   "cell_type": "code",
   "execution_count": 36,
   "id": "a83de525",
   "metadata": {},
   "outputs": [],
   "source": [
    "# plot_nominal_feature('House Style')"
   ]
  },
  {
   "cell_type": "markdown",
   "id": "ea347eb2",
   "metadata": {},
   "source": [
    "#### Roof Style \n",
    "Type of roof"
   ]
  },
  {
   "cell_type": "code",
   "execution_count": 37,
   "id": "b8663ab1",
   "metadata": {},
   "outputs": [
    {
     "data": {
      "text/html": [
       "<div>\n",
       "<style scoped>\n",
       "    .dataframe tbody tr th:only-of-type {\n",
       "        vertical-align: middle;\n",
       "    }\n",
       "\n",
       "    .dataframe tbody tr th {\n",
       "        vertical-align: top;\n",
       "    }\n",
       "\n",
       "    .dataframe thead th {\n",
       "        text-align: right;\n",
       "    }\n",
       "</style>\n",
       "<table border=\"1\" class=\"dataframe\">\n",
       "  <thead>\n",
       "    <tr style=\"text-align: right;\">\n",
       "      <th></th>\n",
       "      <th>type</th>\n",
       "      <th>nulls</th>\n",
       "      <th>dtype</th>\n",
       "      <th>nunique</th>\n",
       "      <th>unique_values</th>\n",
       "      <th>value_counts</th>\n",
       "    </tr>\n",
       "  </thead>\n",
       "  <tbody>\n",
       "    <tr>\n",
       "      <th>Roof Style</th>\n",
       "      <td>Nominal</td>\n",
       "      <td>0</td>\n",
       "      <td>object</td>\n",
       "      <td>6</td>\n",
       "      <td>[Gable, Hip, Flat, Mansard, Shed, Gambrel]</td>\n",
       "      <td>Gable      1619\n",
       "Hip         397\n",
       "Flat         1...</td>\n",
       "    </tr>\n",
       "  </tbody>\n",
       "</table>\n",
       "</div>"
      ],
      "text/plain": [
       "               type  nulls   dtype  nunique  \\\n",
       "Roof Style  Nominal      0  object        6   \n",
       "\n",
       "                                         unique_values  \\\n",
       "Roof Style  [Gable, Hip, Flat, Mansard, Shed, Gambrel]   \n",
       "\n",
       "                                                 value_counts  \n",
       "Roof Style  Gable      1619\n",
       "Hip         397\n",
       "Flat         1...  "
      ]
     },
     "execution_count": 37,
     "metadata": {},
     "output_type": "execute_result"
    }
   ],
   "source": [
    "col_info('Roof Style', 'Nominal')"
   ]
  },
  {
   "cell_type": "markdown",
   "id": "caa5c90b",
   "metadata": {},
   "source": [
    "       Flat\t   Flat\n",
    "       Gable\t  Gable\n",
    "       Gambrel\tGabrel (Barn)\n",
    "       Hip\t    Hip\n",
    "       Mansard\tMansard\n",
    "       Shed\t   Shed"
   ]
  },
  {
   "cell_type": "code",
   "execution_count": 38,
   "id": "567771d3",
   "metadata": {},
   "outputs": [],
   "source": [
    "# plot_nominal_feature('Roof Style')"
   ]
  },
  {
   "cell_type": "markdown",
   "id": "f07491af",
   "metadata": {},
   "source": [
    "#### Roof Matl\n",
    "Roof material"
   ]
  },
  {
   "cell_type": "code",
   "execution_count": 39,
   "id": "02cb17a5",
   "metadata": {},
   "outputs": [
    {
     "data": {
      "text/html": [
       "<div>\n",
       "<style scoped>\n",
       "    .dataframe tbody tr th:only-of-type {\n",
       "        vertical-align: middle;\n",
       "    }\n",
       "\n",
       "    .dataframe tbody tr th {\n",
       "        vertical-align: top;\n",
       "    }\n",
       "\n",
       "    .dataframe thead th {\n",
       "        text-align: right;\n",
       "    }\n",
       "</style>\n",
       "<table border=\"1\" class=\"dataframe\">\n",
       "  <thead>\n",
       "    <tr style=\"text-align: right;\">\n",
       "      <th></th>\n",
       "      <th>type</th>\n",
       "      <th>nulls</th>\n",
       "      <th>dtype</th>\n",
       "      <th>nunique</th>\n",
       "      <th>unique_values</th>\n",
       "      <th>value_counts</th>\n",
       "    </tr>\n",
       "  </thead>\n",
       "  <tbody>\n",
       "    <tr>\n",
       "      <th>Roof Matl</th>\n",
       "      <td>Nominal</td>\n",
       "      <td>0</td>\n",
       "      <td>object</td>\n",
       "      <td>6</td>\n",
       "      <td>[CompShg, WdShngl, Tar&amp;Grv, WdShake, Membran, ...</td>\n",
       "      <td>CompShg    2025\n",
       "Tar&amp;Grv      15\n",
       "WdShngl       ...</td>\n",
       "    </tr>\n",
       "  </tbody>\n",
       "</table>\n",
       "</div>"
      ],
      "text/plain": [
       "              type  nulls   dtype  nunique  \\\n",
       "Roof Matl  Nominal      0  object        6   \n",
       "\n",
       "                                               unique_values  \\\n",
       "Roof Matl  [CompShg, WdShngl, Tar&Grv, WdShake, Membran, ...   \n",
       "\n",
       "                                                value_counts  \n",
       "Roof Matl  CompShg    2025\n",
       "Tar&Grv      15\n",
       "WdShngl       ...  "
      ]
     },
     "execution_count": 39,
     "metadata": {},
     "output_type": "execute_result"
    }
   ],
   "source": [
    "col_info('Roof Matl', 'Nominal')"
   ]
  },
  {
   "cell_type": "markdown",
   "id": "7168157d",
   "metadata": {},
   "source": [
    "       ClyTile\tClay or Tile\n",
    "       CompShg\tStandard (Composite) Shingle\n",
    "       Membran\tMembrane\n",
    "       Metal\tMetal\n",
    "       Roll\tRoll\n",
    "       Tar&Grv\tGravel & Tar\n",
    "       WdShake\tWood Shakes\n",
    "       WdShngl\tWood Shingles"
   ]
  },
  {
   "cell_type": "code",
   "execution_count": 40,
   "id": "7bb574a4",
   "metadata": {},
   "outputs": [],
   "source": [
    "# plot_nominal_feature('Roof Matl')"
   ]
  },
  {
   "cell_type": "markdown",
   "id": "2e277fa2",
   "metadata": {},
   "source": [
    "#### Exterior 1st\n",
    "Exterior covering on house"
   ]
  },
  {
   "cell_type": "code",
   "execution_count": 41,
   "id": "df33bdb2",
   "metadata": {},
   "outputs": [
    {
     "data": {
      "text/html": [
       "<div>\n",
       "<style scoped>\n",
       "    .dataframe tbody tr th:only-of-type {\n",
       "        vertical-align: middle;\n",
       "    }\n",
       "\n",
       "    .dataframe tbody tr th {\n",
       "        vertical-align: top;\n",
       "    }\n",
       "\n",
       "    .dataframe thead th {\n",
       "        text-align: right;\n",
       "    }\n",
       "</style>\n",
       "<table border=\"1\" class=\"dataframe\">\n",
       "  <thead>\n",
       "    <tr style=\"text-align: right;\">\n",
       "      <th></th>\n",
       "      <th>type</th>\n",
       "      <th>nulls</th>\n",
       "      <th>dtype</th>\n",
       "      <th>nunique</th>\n",
       "      <th>unique_values</th>\n",
       "      <th>value_counts</th>\n",
       "    </tr>\n",
       "  </thead>\n",
       "  <tbody>\n",
       "    <tr>\n",
       "      <th>Exterior 1st</th>\n",
       "      <td>Nominal</td>\n",
       "      <td>0</td>\n",
       "      <td>object</td>\n",
       "      <td>15</td>\n",
       "      <td>[HdBoard, VinylSd, Wd Sdng, BrkFace, Plywood, ...</td>\n",
       "      <td>VinylSd    724\n",
       "MetalSd    331\n",
       "HdBoard    300\n",
       "W...</td>\n",
       "    </tr>\n",
       "  </tbody>\n",
       "</table>\n",
       "</div>"
      ],
      "text/plain": [
       "                 type  nulls   dtype  nunique  \\\n",
       "Exterior 1st  Nominal      0  object       15   \n",
       "\n",
       "                                                  unique_values  \\\n",
       "Exterior 1st  [HdBoard, VinylSd, Wd Sdng, BrkFace, Plywood, ...   \n",
       "\n",
       "                                                   value_counts  \n",
       "Exterior 1st  VinylSd    724\n",
       "MetalSd    331\n",
       "HdBoard    300\n",
       "W...  "
      ]
     },
     "execution_count": 41,
     "metadata": {},
     "output_type": "execute_result"
    }
   ],
   "source": [
    "col_info('Exterior 1st', 'Nominal')"
   ]
  },
  {
   "cell_type": "markdown",
   "id": "a309d89d",
   "metadata": {},
   "source": [
    "       AsbShng\tAsbestos Shingles\n",
    "       AsphShn\tAsphalt Shingles\n",
    "       BrkComm\tBrick Common\n",
    "       BrkFace\tBrick Face\n",
    "       CBlock\tCinder Block\n",
    "       CemntBd\tCement Board\n",
    "       HdBoard\tHard Board\n",
    "       ImStucc\tImitation Stucco\n",
    "       MetalSd\tMetal Siding\n",
    "       Other\tOther\n",
    "       Plywood\tPlywood\n",
    "       PreCast\tPreCast\t\n",
    "       Stone\tStone\n",
    "       Stucco\tStucco\n",
    "       VinylSd\tVinyl Siding\n",
    "       Wd Sdng\tWood Siding\n",
    "       WdShing\tWood Shingles"
   ]
  },
  {
   "cell_type": "code",
   "execution_count": 42,
   "id": "5768c49e",
   "metadata": {},
   "outputs": [],
   "source": [
    "# plot_nominal_feature('Exterior 1st')"
   ]
  },
  {
   "cell_type": "markdown",
   "id": "14fe3e2c",
   "metadata": {},
   "source": [
    "#### Exterior 2nd\n",
    "Exterior covering on house (if more than one material)"
   ]
  },
  {
   "cell_type": "code",
   "execution_count": 43,
   "id": "185ec77a",
   "metadata": {},
   "outputs": [
    {
     "data": {
      "text/html": [
       "<div>\n",
       "<style scoped>\n",
       "    .dataframe tbody tr th:only-of-type {\n",
       "        vertical-align: middle;\n",
       "    }\n",
       "\n",
       "    .dataframe tbody tr th {\n",
       "        vertical-align: top;\n",
       "    }\n",
       "\n",
       "    .dataframe thead th {\n",
       "        text-align: right;\n",
       "    }\n",
       "</style>\n",
       "<table border=\"1\" class=\"dataframe\">\n",
       "  <thead>\n",
       "    <tr style=\"text-align: right;\">\n",
       "      <th></th>\n",
       "      <th>type</th>\n",
       "      <th>nulls</th>\n",
       "      <th>dtype</th>\n",
       "      <th>nunique</th>\n",
       "      <th>unique_values</th>\n",
       "      <th>value_counts</th>\n",
       "    </tr>\n",
       "  </thead>\n",
       "  <tbody>\n",
       "    <tr>\n",
       "      <th>Exterior 2nd</th>\n",
       "      <td>Nominal</td>\n",
       "      <td>0</td>\n",
       "      <td>object</td>\n",
       "      <td>15</td>\n",
       "      <td>[Plywood, VinylSd, Wd Sdng, HdBoard, MetalSd, ...</td>\n",
       "      <td>VinylSd    721\n",
       "MetalSd    324\n",
       "HdBoard    275\n",
       "W...</td>\n",
       "    </tr>\n",
       "  </tbody>\n",
       "</table>\n",
       "</div>"
      ],
      "text/plain": [
       "                 type  nulls   dtype  nunique  \\\n",
       "Exterior 2nd  Nominal      0  object       15   \n",
       "\n",
       "                                                  unique_values  \\\n",
       "Exterior 2nd  [Plywood, VinylSd, Wd Sdng, HdBoard, MetalSd, ...   \n",
       "\n",
       "                                                   value_counts  \n",
       "Exterior 2nd  VinylSd    721\n",
       "MetalSd    324\n",
       "HdBoard    275\n",
       "W...  "
      ]
     },
     "execution_count": 43,
     "metadata": {},
     "output_type": "execute_result"
    }
   ],
   "source": [
    "col_info('Exterior 2nd', 'Nominal')"
   ]
  },
  {
   "cell_type": "markdown",
   "id": "a03645d2",
   "metadata": {},
   "source": [
    "       AsbShng\tAsbestos Shingles\n",
    "       AsphShn\tAsphalt Shingles\n",
    "       BrkComm\tBrick Common\n",
    "       BrkFace\tBrick Face\n",
    "       CBlock\tCinder Block\n",
    "       CemntBd\tCement Board\n",
    "       HdBoard\tHard Board\n",
    "       ImStucc\tImitation Stucco\n",
    "       MetalSd\tMetal Siding\n",
    "       Other\tOther\n",
    "       Plywood\tPlywood\n",
    "       PreCast\tPreCast\n",
    "       Stone\tStone\n",
    "       Stucco\tStucco\n",
    "       VinylSd\tVinyl Siding\n",
    "       Wd Sdng\tWood Siding\n",
    "       WdShing\tWood Shingles"
   ]
  },
  {
   "cell_type": "code",
   "execution_count": 44,
   "id": "ec8b83fa",
   "metadata": {},
   "outputs": [],
   "source": [
    "# plot_nominal_feature('Exterior 2nd')"
   ]
  },
  {
   "cell_type": "markdown",
   "id": "cda31871",
   "metadata": {},
   "source": [
    "#### Mas Vnr Type\n",
    "Masonry veneer type"
   ]
  },
  {
   "cell_type": "markdown",
   "id": "0f6e5659",
   "metadata": {},
   "source": [
    "Cleanup\n",
    "- [x] `Mas Vnr Type` converting Nulls to 'NA'"
   ]
  },
  {
   "cell_type": "code",
   "execution_count": 45,
   "id": "b03b2da3",
   "metadata": {},
   "outputs": [],
   "source": [
    "df.loc[df['Mas Vnr Type'].isna(), 'Mas Vnr Type'] = 'NA'"
   ]
  },
  {
   "cell_type": "code",
   "execution_count": 46,
   "id": "37169964",
   "metadata": {},
   "outputs": [
    {
     "data": {
      "text/html": [
       "<div>\n",
       "<style scoped>\n",
       "    .dataframe tbody tr th:only-of-type {\n",
       "        vertical-align: middle;\n",
       "    }\n",
       "\n",
       "    .dataframe tbody tr th {\n",
       "        vertical-align: top;\n",
       "    }\n",
       "\n",
       "    .dataframe thead th {\n",
       "        text-align: right;\n",
       "    }\n",
       "</style>\n",
       "<table border=\"1\" class=\"dataframe\">\n",
       "  <thead>\n",
       "    <tr style=\"text-align: right;\">\n",
       "      <th></th>\n",
       "      <th>PID</th>\n",
       "      <th>MS SubClass</th>\n",
       "      <th>MS Zoning</th>\n",
       "      <th>Lot Frontage</th>\n",
       "      <th>Lot Area</th>\n",
       "      <th>Street</th>\n",
       "      <th>Alley</th>\n",
       "      <th>Lot Shape</th>\n",
       "      <th>Land Contour</th>\n",
       "      <th>Utilities</th>\n",
       "      <th>...</th>\n",
       "      <th>Screen Porch</th>\n",
       "      <th>Pool Area</th>\n",
       "      <th>Pool QC</th>\n",
       "      <th>Fence</th>\n",
       "      <th>Misc Feature</th>\n",
       "      <th>Misc Val</th>\n",
       "      <th>Mo Sold</th>\n",
       "      <th>Yr Sold</th>\n",
       "      <th>Sale Type</th>\n",
       "      <th>SalePrice</th>\n",
       "    </tr>\n",
       "  </thead>\n",
       "  <tbody>\n",
       "    <tr>\n",
       "      <th>2</th>\n",
       "      <td>535304180</td>\n",
       "      <td>20</td>\n",
       "      <td>RL</td>\n",
       "      <td>68.0</td>\n",
       "      <td>7922</td>\n",
       "      <td>Pave</td>\n",
       "      <td>CA</td>\n",
       "      <td>Reg</td>\n",
       "      <td>Lvl</td>\n",
       "      <td>AllPub</td>\n",
       "      <td>...</td>\n",
       "      <td>0</td>\n",
       "      <td>0</td>\n",
       "      <td>NaN</td>\n",
       "      <td>NaN</td>\n",
       "      <td>NaN</td>\n",
       "      <td>0</td>\n",
       "      <td>1</td>\n",
       "      <td>2010</td>\n",
       "      <td>WD</td>\n",
       "      <td>109000</td>\n",
       "    </tr>\n",
       "    <tr>\n",
       "      <th>3</th>\n",
       "      <td>916386060</td>\n",
       "      <td>60</td>\n",
       "      <td>RL</td>\n",
       "      <td>73.0</td>\n",
       "      <td>9802</td>\n",
       "      <td>Pave</td>\n",
       "      <td>CA</td>\n",
       "      <td>Reg</td>\n",
       "      <td>Lvl</td>\n",
       "      <td>AllPub</td>\n",
       "      <td>...</td>\n",
       "      <td>0</td>\n",
       "      <td>0</td>\n",
       "      <td>NaN</td>\n",
       "      <td>NaN</td>\n",
       "      <td>NaN</td>\n",
       "      <td>0</td>\n",
       "      <td>4</td>\n",
       "      <td>2010</td>\n",
       "      <td>WD</td>\n",
       "      <td>174000</td>\n",
       "    </tr>\n",
       "    <tr>\n",
       "      <th>4</th>\n",
       "      <td>906425045</td>\n",
       "      <td>50</td>\n",
       "      <td>RL</td>\n",
       "      <td>82.0</td>\n",
       "      <td>14235</td>\n",
       "      <td>Pave</td>\n",
       "      <td>CA</td>\n",
       "      <td>IR1</td>\n",
       "      <td>Lvl</td>\n",
       "      <td>AllPub</td>\n",
       "      <td>...</td>\n",
       "      <td>0</td>\n",
       "      <td>0</td>\n",
       "      <td>NaN</td>\n",
       "      <td>NaN</td>\n",
       "      <td>NaN</td>\n",
       "      <td>0</td>\n",
       "      <td>3</td>\n",
       "      <td>2010</td>\n",
       "      <td>WD</td>\n",
       "      <td>138500</td>\n",
       "    </tr>\n",
       "    <tr>\n",
       "      <th>5</th>\n",
       "      <td>535126040</td>\n",
       "      <td>20</td>\n",
       "      <td>RL</td>\n",
       "      <td>137.0</td>\n",
       "      <td>16492</td>\n",
       "      <td>Pave</td>\n",
       "      <td>CA</td>\n",
       "      <td>IR1</td>\n",
       "      <td>Lvl</td>\n",
       "      <td>AllPub</td>\n",
       "      <td>...</td>\n",
       "      <td>0</td>\n",
       "      <td>0</td>\n",
       "      <td>NaN</td>\n",
       "      <td>NaN</td>\n",
       "      <td>NaN</td>\n",
       "      <td>0</td>\n",
       "      <td>6</td>\n",
       "      <td>2010</td>\n",
       "      <td>WD</td>\n",
       "      <td>190000</td>\n",
       "    </tr>\n",
       "    <tr>\n",
       "      <th>8</th>\n",
       "      <td>535353130</td>\n",
       "      <td>20</td>\n",
       "      <td>RL</td>\n",
       "      <td>NaN</td>\n",
       "      <td>15783</td>\n",
       "      <td>Pave</td>\n",
       "      <td>CA</td>\n",
       "      <td>Reg</td>\n",
       "      <td>Lvl</td>\n",
       "      <td>AllPub</td>\n",
       "      <td>...</td>\n",
       "      <td>0</td>\n",
       "      <td>0</td>\n",
       "      <td>NaN</td>\n",
       "      <td>MnPrv</td>\n",
       "      <td>Shed</td>\n",
       "      <td>400</td>\n",
       "      <td>6</td>\n",
       "      <td>2007</td>\n",
       "      <td>WD</td>\n",
       "      <td>112500</td>\n",
       "    </tr>\n",
       "    <tr>\n",
       "      <th>...</th>\n",
       "      <td>...</td>\n",
       "      <td>...</td>\n",
       "      <td>...</td>\n",
       "      <td>...</td>\n",
       "      <td>...</td>\n",
       "      <td>...</td>\n",
       "      <td>...</td>\n",
       "      <td>...</td>\n",
       "      <td>...</td>\n",
       "      <td>...</td>\n",
       "      <td>...</td>\n",
       "      <td>...</td>\n",
       "      <td>...</td>\n",
       "      <td>...</td>\n",
       "      <td>...</td>\n",
       "      <td>...</td>\n",
       "      <td>...</td>\n",
       "      <td>...</td>\n",
       "      <td>...</td>\n",
       "      <td>...</td>\n",
       "      <td>...</td>\n",
       "    </tr>\n",
       "    <tr>\n",
       "      <th>2046</th>\n",
       "      <td>921126030</td>\n",
       "      <td>20</td>\n",
       "      <td>RL</td>\n",
       "      <td>79.0</td>\n",
       "      <td>11449</td>\n",
       "      <td>Pave</td>\n",
       "      <td>CA</td>\n",
       "      <td>IR1</td>\n",
       "      <td>HLS</td>\n",
       "      <td>AllPub</td>\n",
       "      <td>...</td>\n",
       "      <td>0</td>\n",
       "      <td>0</td>\n",
       "      <td>NaN</td>\n",
       "      <td>NaN</td>\n",
       "      <td>NaN</td>\n",
       "      <td>0</td>\n",
       "      <td>1</td>\n",
       "      <td>2008</td>\n",
       "      <td>WD</td>\n",
       "      <td>298751</td>\n",
       "    </tr>\n",
       "    <tr>\n",
       "      <th>2047</th>\n",
       "      <td>905377130</td>\n",
       "      <td>30</td>\n",
       "      <td>RL</td>\n",
       "      <td>NaN</td>\n",
       "      <td>12342</td>\n",
       "      <td>Pave</td>\n",
       "      <td>CA</td>\n",
       "      <td>IR1</td>\n",
       "      <td>Lvl</td>\n",
       "      <td>AllPub</td>\n",
       "      <td>...</td>\n",
       "      <td>0</td>\n",
       "      <td>0</td>\n",
       "      <td>NaN</td>\n",
       "      <td>NaN</td>\n",
       "      <td>NaN</td>\n",
       "      <td>0</td>\n",
       "      <td>3</td>\n",
       "      <td>2009</td>\n",
       "      <td>WD</td>\n",
       "      <td>82500</td>\n",
       "    </tr>\n",
       "    <tr>\n",
       "      <th>2048</th>\n",
       "      <td>909253010</td>\n",
       "      <td>50</td>\n",
       "      <td>RL</td>\n",
       "      <td>57.0</td>\n",
       "      <td>7558</td>\n",
       "      <td>Pave</td>\n",
       "      <td>CA</td>\n",
       "      <td>Reg</td>\n",
       "      <td>Bnk</td>\n",
       "      <td>AllPub</td>\n",
       "      <td>...</td>\n",
       "      <td>0</td>\n",
       "      <td>0</td>\n",
       "      <td>NaN</td>\n",
       "      <td>NaN</td>\n",
       "      <td>NaN</td>\n",
       "      <td>0</td>\n",
       "      <td>3</td>\n",
       "      <td>2009</td>\n",
       "      <td>WD</td>\n",
       "      <td>177000</td>\n",
       "    </tr>\n",
       "    <tr>\n",
       "      <th>2049</th>\n",
       "      <td>535179160</td>\n",
       "      <td>20</td>\n",
       "      <td>RL</td>\n",
       "      <td>80.0</td>\n",
       "      <td>10400</td>\n",
       "      <td>Pave</td>\n",
       "      <td>CA</td>\n",
       "      <td>Reg</td>\n",
       "      <td>Lvl</td>\n",
       "      <td>AllPub</td>\n",
       "      <td>...</td>\n",
       "      <td>0</td>\n",
       "      <td>0</td>\n",
       "      <td>NaN</td>\n",
       "      <td>NaN</td>\n",
       "      <td>NaN</td>\n",
       "      <td>0</td>\n",
       "      <td>11</td>\n",
       "      <td>2009</td>\n",
       "      <td>WD</td>\n",
       "      <td>144000</td>\n",
       "    </tr>\n",
       "    <tr>\n",
       "      <th>2050</th>\n",
       "      <td>527162130</td>\n",
       "      <td>60</td>\n",
       "      <td>RL</td>\n",
       "      <td>60.0</td>\n",
       "      <td>7500</td>\n",
       "      <td>Pave</td>\n",
       "      <td>CA</td>\n",
       "      <td>Reg</td>\n",
       "      <td>Lvl</td>\n",
       "      <td>AllPub</td>\n",
       "      <td>...</td>\n",
       "      <td>0</td>\n",
       "      <td>0</td>\n",
       "      <td>NaN</td>\n",
       "      <td>NaN</td>\n",
       "      <td>NaN</td>\n",
       "      <td>0</td>\n",
       "      <td>6</td>\n",
       "      <td>2010</td>\n",
       "      <td>WD</td>\n",
       "      <td>189000</td>\n",
       "    </tr>\n",
       "  </tbody>\n",
       "</table>\n",
       "<p>1218 rows × 80 columns</p>\n",
       "</div>"
      ],
      "text/plain": [
       "            PID  MS SubClass MS Zoning  Lot Frontage  Lot Area Street Alley  \\\n",
       "2     535304180           20        RL          68.0      7922   Pave    CA   \n",
       "3     916386060           60        RL          73.0      9802   Pave    CA   \n",
       "4     906425045           50        RL          82.0     14235   Pave    CA   \n",
       "5     535126040           20        RL         137.0     16492   Pave    CA   \n",
       "8     535353130           20        RL           NaN     15783   Pave    CA   \n",
       "...         ...          ...       ...           ...       ...    ...   ...   \n",
       "2046  921126030           20        RL          79.0     11449   Pave    CA   \n",
       "2047  905377130           30        RL           NaN     12342   Pave    CA   \n",
       "2048  909253010           50        RL          57.0      7558   Pave    CA   \n",
       "2049  535179160           20        RL          80.0     10400   Pave    CA   \n",
       "2050  527162130           60        RL          60.0      7500   Pave    CA   \n",
       "\n",
       "     Lot Shape Land Contour Utilities  ... Screen Porch Pool Area Pool QC  \\\n",
       "2          Reg          Lvl    AllPub  ...            0         0     NaN   \n",
       "3          Reg          Lvl    AllPub  ...            0         0     NaN   \n",
       "4          IR1          Lvl    AllPub  ...            0         0     NaN   \n",
       "5          IR1          Lvl    AllPub  ...            0         0     NaN   \n",
       "8          Reg          Lvl    AllPub  ...            0         0     NaN   \n",
       "...        ...          ...       ...  ...          ...       ...     ...   \n",
       "2046       IR1          HLS    AllPub  ...            0         0     NaN   \n",
       "2047       IR1          Lvl    AllPub  ...            0         0     NaN   \n",
       "2048       Reg          Bnk    AllPub  ...            0         0     NaN   \n",
       "2049       Reg          Lvl    AllPub  ...            0         0     NaN   \n",
       "2050       Reg          Lvl    AllPub  ...            0         0     NaN   \n",
       "\n",
       "      Fence Misc Feature Misc Val Mo Sold  Yr Sold  Sale Type  SalePrice  \n",
       "2       NaN          NaN        0       1     2010        WD      109000  \n",
       "3       NaN          NaN        0       4     2010        WD      174000  \n",
       "4       NaN          NaN        0       3     2010        WD      138500  \n",
       "5       NaN          NaN        0       6     2010        WD      190000  \n",
       "8     MnPrv         Shed      400       6     2007        WD      112500  \n",
       "...     ...          ...      ...     ...      ...        ...        ...  \n",
       "2046    NaN          NaN        0       1     2008        WD      298751  \n",
       "2047    NaN          NaN        0       3     2009        WD       82500  \n",
       "2048    NaN          NaN        0       3     2009        WD      177000  \n",
       "2049    NaN          NaN        0      11     2009        WD      144000  \n",
       "2050    NaN          NaN        0       6     2010        WD      189000  \n",
       "\n",
       "[1218 rows x 80 columns]"
      ]
     },
     "execution_count": 46,
     "metadata": {},
     "output_type": "execute_result"
    }
   ],
   "source": [
    "df[df['Mas Vnr Type'] == 'None']"
   ]
  },
  {
   "cell_type": "code",
   "execution_count": 47,
   "id": "77391866",
   "metadata": {},
   "outputs": [
    {
     "data": {
      "text/html": [
       "<div>\n",
       "<style scoped>\n",
       "    .dataframe tbody tr th:only-of-type {\n",
       "        vertical-align: middle;\n",
       "    }\n",
       "\n",
       "    .dataframe tbody tr th {\n",
       "        vertical-align: top;\n",
       "    }\n",
       "\n",
       "    .dataframe thead th {\n",
       "        text-align: right;\n",
       "    }\n",
       "</style>\n",
       "<table border=\"1\" class=\"dataframe\">\n",
       "  <thead>\n",
       "    <tr style=\"text-align: right;\">\n",
       "      <th></th>\n",
       "      <th>type</th>\n",
       "      <th>nulls</th>\n",
       "      <th>dtype</th>\n",
       "      <th>nunique</th>\n",
       "      <th>unique_values</th>\n",
       "      <th>value_counts</th>\n",
       "    </tr>\n",
       "  </thead>\n",
       "  <tbody>\n",
       "    <tr>\n",
       "      <th>Mas Vnr Type</th>\n",
       "      <td>Nominal</td>\n",
       "      <td>0</td>\n",
       "      <td>object</td>\n",
       "      <td>5</td>\n",
       "      <td>[BrkFace, None, NA, Stone, BrkCmn]</td>\n",
       "      <td>None       1218\n",
       "BrkFace     630\n",
       "Stone       16...</td>\n",
       "    </tr>\n",
       "  </tbody>\n",
       "</table>\n",
       "</div>"
      ],
      "text/plain": [
       "                 type  nulls   dtype  nunique  \\\n",
       "Mas Vnr Type  Nominal      0  object        5   \n",
       "\n",
       "                                   unique_values  \\\n",
       "Mas Vnr Type  [BrkFace, None, NA, Stone, BrkCmn]   \n",
       "\n",
       "                                                   value_counts  \n",
       "Mas Vnr Type  None       1218\n",
       "BrkFace     630\n",
       "Stone       16...  "
      ]
     },
     "execution_count": 47,
     "metadata": {},
     "output_type": "execute_result"
    }
   ],
   "source": [
    "col_info('Mas Vnr Type', 'Nominal')"
   ]
  },
  {
   "cell_type": "markdown",
   "id": "97572af8",
   "metadata": {},
   "source": [
    "       BrkCmn\tBrick Common\n",
    "       BrkFace\tBrick Face\n",
    "       CBlock\tCinder Block\n",
    "       None\tNone\n",
    "       Stone\tStone"
   ]
  },
  {
   "cell_type": "code",
   "execution_count": 48,
   "id": "ee7073f5",
   "metadata": {},
   "outputs": [],
   "source": [
    "# plot_nominal_feature('Mas Vnr Type')"
   ]
  },
  {
   "cell_type": "markdown",
   "id": "994be100",
   "metadata": {},
   "source": [
    "#### Foundation \n",
    "Type of foundation"
   ]
  },
  {
   "cell_type": "code",
   "execution_count": 49,
   "id": "a2afe9fb",
   "metadata": {},
   "outputs": [
    {
     "data": {
      "text/html": [
       "<div>\n",
       "<style scoped>\n",
       "    .dataframe tbody tr th:only-of-type {\n",
       "        vertical-align: middle;\n",
       "    }\n",
       "\n",
       "    .dataframe tbody tr th {\n",
       "        vertical-align: top;\n",
       "    }\n",
       "\n",
       "    .dataframe thead th {\n",
       "        text-align: right;\n",
       "    }\n",
       "</style>\n",
       "<table border=\"1\" class=\"dataframe\">\n",
       "  <thead>\n",
       "    <tr style=\"text-align: right;\">\n",
       "      <th></th>\n",
       "      <th>type</th>\n",
       "      <th>nulls</th>\n",
       "      <th>dtype</th>\n",
       "      <th>nunique</th>\n",
       "      <th>unique_values</th>\n",
       "      <th>value_counts</th>\n",
       "    </tr>\n",
       "  </thead>\n",
       "  <tbody>\n",
       "    <tr>\n",
       "      <th>Foundation</th>\n",
       "      <td>Nominal</td>\n",
       "      <td>0</td>\n",
       "      <td>object</td>\n",
       "      <td>6</td>\n",
       "      <td>[CBlock, PConc, BrkTil, Slab, Stone, Wood]</td>\n",
       "      <td>PConc     926\n",
       "CBlock    863\n",
       "BrkTil    221\n",
       "Slab...</td>\n",
       "    </tr>\n",
       "  </tbody>\n",
       "</table>\n",
       "</div>"
      ],
      "text/plain": [
       "               type  nulls   dtype  nunique  \\\n",
       "Foundation  Nominal      0  object        6   \n",
       "\n",
       "                                         unique_values  \\\n",
       "Foundation  [CBlock, PConc, BrkTil, Slab, Stone, Wood]   \n",
       "\n",
       "                                                 value_counts  \n",
       "Foundation  PConc     926\n",
       "CBlock    863\n",
       "BrkTil    221\n",
       "Slab...  "
      ]
     },
     "execution_count": 49,
     "metadata": {},
     "output_type": "execute_result"
    }
   ],
   "source": [
    "col_info('Foundation', 'Nominal')"
   ]
  },
  {
   "cell_type": "markdown",
   "id": "661232fe",
   "metadata": {},
   "source": [
    "       BrkTil\tBrick & Tile\n",
    "       CBlock\tCinder Block\n",
    "       PConc\tPoured Contrete\t\n",
    "       Slab\tSlab\n",
    "       Stone\tStone\n",
    "       Wood\tWood"
   ]
  },
  {
   "cell_type": "code",
   "execution_count": 50,
   "id": "b2707a8d",
   "metadata": {},
   "outputs": [],
   "source": [
    "# plot_nominal_feature('Foundation')"
   ]
  },
  {
   "cell_type": "markdown",
   "id": "ffc51b2f",
   "metadata": {},
   "source": [
    "#### Heating\n",
    "Type of heating"
   ]
  },
  {
   "cell_type": "code",
   "execution_count": 51,
   "id": "48ec6b15",
   "metadata": {},
   "outputs": [
    {
     "data": {
      "text/html": [
       "<div>\n",
       "<style scoped>\n",
       "    .dataframe tbody tr th:only-of-type {\n",
       "        vertical-align: middle;\n",
       "    }\n",
       "\n",
       "    .dataframe tbody tr th {\n",
       "        vertical-align: top;\n",
       "    }\n",
       "\n",
       "    .dataframe thead th {\n",
       "        text-align: right;\n",
       "    }\n",
       "</style>\n",
       "<table border=\"1\" class=\"dataframe\">\n",
       "  <thead>\n",
       "    <tr style=\"text-align: right;\">\n",
       "      <th></th>\n",
       "      <th>type</th>\n",
       "      <th>nulls</th>\n",
       "      <th>dtype</th>\n",
       "      <th>nunique</th>\n",
       "      <th>unique_values</th>\n",
       "      <th>value_counts</th>\n",
       "    </tr>\n",
       "  </thead>\n",
       "  <tbody>\n",
       "    <tr>\n",
       "      <th>Heating</th>\n",
       "      <td>Nominal</td>\n",
       "      <td>0</td>\n",
       "      <td>object</td>\n",
       "      <td>5</td>\n",
       "      <td>[GasA, GasW, Grav, Wall, OthW]</td>\n",
       "      <td>GasA    2018\n",
       "GasW      20\n",
       "Wall       6\n",
       "Grav   ...</td>\n",
       "    </tr>\n",
       "  </tbody>\n",
       "</table>\n",
       "</div>"
      ],
      "text/plain": [
       "            type  nulls   dtype  nunique                   unique_values  \\\n",
       "Heating  Nominal      0  object        5  [GasA, GasW, Grav, Wall, OthW]   \n",
       "\n",
       "                                              value_counts  \n",
       "Heating  GasA    2018\n",
       "GasW      20\n",
       "Wall       6\n",
       "Grav   ...  "
      ]
     },
     "execution_count": 51,
     "metadata": {},
     "output_type": "execute_result"
    }
   ],
   "source": [
    "col_info('Heating', 'Nominal')"
   ]
  },
  {
   "cell_type": "markdown",
   "id": "05600ec5",
   "metadata": {},
   "source": [
    "       Floor\tFloor Furnace\n",
    "       GasA\tGas forced warm air furnace\n",
    "       GasW\tGas hot water or steam heat\n",
    "       Grav\tGravity furnace\t\n",
    "       OthW\tHot water or steam heat other than gas\n",
    "       Wall\tWall furnace"
   ]
  },
  {
   "cell_type": "code",
   "execution_count": 52,
   "id": "2820cde4",
   "metadata": {},
   "outputs": [],
   "source": [
    "# plot_nominal_feature('Heating')"
   ]
  },
  {
   "cell_type": "markdown",
   "id": "25674a23",
   "metadata": {},
   "source": [
    "#### Central Air"
   ]
  },
  {
   "cell_type": "code",
   "execution_count": 53,
   "id": "a3737388",
   "metadata": {},
   "outputs": [
    {
     "data": {
      "text/html": [
       "<div>\n",
       "<style scoped>\n",
       "    .dataframe tbody tr th:only-of-type {\n",
       "        vertical-align: middle;\n",
       "    }\n",
       "\n",
       "    .dataframe tbody tr th {\n",
       "        vertical-align: top;\n",
       "    }\n",
       "\n",
       "    .dataframe thead th {\n",
       "        text-align: right;\n",
       "    }\n",
       "</style>\n",
       "<table border=\"1\" class=\"dataframe\">\n",
       "  <thead>\n",
       "    <tr style=\"text-align: right;\">\n",
       "      <th></th>\n",
       "      <th>type</th>\n",
       "      <th>nulls</th>\n",
       "      <th>dtype</th>\n",
       "      <th>nunique</th>\n",
       "      <th>unique_values</th>\n",
       "      <th>value_counts</th>\n",
       "    </tr>\n",
       "  </thead>\n",
       "  <tbody>\n",
       "    <tr>\n",
       "      <th>Central Air</th>\n",
       "      <td>Nominal</td>\n",
       "      <td>0</td>\n",
       "      <td>object</td>\n",
       "      <td>2</td>\n",
       "      <td>[Y, N]</td>\n",
       "      <td>Y    1910\n",
       "N     141\n",
       "Name: Central Air, dtype: ...</td>\n",
       "    </tr>\n",
       "  </tbody>\n",
       "</table>\n",
       "</div>"
      ],
      "text/plain": [
       "                type  nulls   dtype  nunique unique_values  \\\n",
       "Central Air  Nominal      0  object        2        [Y, N]   \n",
       "\n",
       "                                                  value_counts  \n",
       "Central Air  Y    1910\n",
       "N     141\n",
       "Name: Central Air, dtype: ...  "
      ]
     },
     "execution_count": 53,
     "metadata": {},
     "output_type": "execute_result"
    }
   ],
   "source": [
    "col_info('Central Air', 'Nominal')"
   ]
  },
  {
   "cell_type": "code",
   "execution_count": 54,
   "id": "63a337ff",
   "metadata": {},
   "outputs": [],
   "source": [
    "# plot_nominal_feature('Central Air')"
   ]
  },
  {
   "cell_type": "markdown",
   "id": "8e233745",
   "metadata": {},
   "source": [
    "### Garage Type"
   ]
  },
  {
   "cell_type": "markdown",
   "id": "4a990943",
   "metadata": {},
   "source": [
    "Cleanup\n",
    "- [x] `Garage Type` replacing Nulls with 'NA'"
   ]
  },
  {
   "cell_type": "code",
   "execution_count": 55,
   "id": "93fafb60",
   "metadata": {},
   "outputs": [],
   "source": [
    "df.loc[df['Garage Type'].isna(), 'Garage Type'] = 'NA'"
   ]
  },
  {
   "cell_type": "code",
   "execution_count": 56,
   "id": "cd6c2591",
   "metadata": {
    "scrolled": true
   },
   "outputs": [
    {
     "data": {
      "text/html": [
       "<div>\n",
       "<style scoped>\n",
       "    .dataframe tbody tr th:only-of-type {\n",
       "        vertical-align: middle;\n",
       "    }\n",
       "\n",
       "    .dataframe tbody tr th {\n",
       "        vertical-align: top;\n",
       "    }\n",
       "\n",
       "    .dataframe thead th {\n",
       "        text-align: right;\n",
       "    }\n",
       "</style>\n",
       "<table border=\"1\" class=\"dataframe\">\n",
       "  <thead>\n",
       "    <tr style=\"text-align: right;\">\n",
       "      <th></th>\n",
       "      <th>type</th>\n",
       "      <th>nulls</th>\n",
       "      <th>dtype</th>\n",
       "      <th>nunique</th>\n",
       "      <th>unique_values</th>\n",
       "      <th>value_counts</th>\n",
       "    </tr>\n",
       "  </thead>\n",
       "  <tbody>\n",
       "    <tr>\n",
       "      <th>Garage Type</th>\n",
       "      <td>Nominal</td>\n",
       "      <td>0</td>\n",
       "      <td>object</td>\n",
       "      <td>7</td>\n",
       "      <td>[Attchd, Detchd, BuiltIn, Basment, NA, 2Types,...</td>\n",
       "      <td>Attchd     1213\n",
       "Detchd      536\n",
       "BuiltIn     13...</td>\n",
       "    </tr>\n",
       "  </tbody>\n",
       "</table>\n",
       "</div>"
      ],
      "text/plain": [
       "                type  nulls   dtype  nunique  \\\n",
       "Garage Type  Nominal      0  object        7   \n",
       "\n",
       "                                                 unique_values  \\\n",
       "Garage Type  [Attchd, Detchd, BuiltIn, Basment, NA, 2Types,...   \n",
       "\n",
       "                                                  value_counts  \n",
       "Garage Type  Attchd     1213\n",
       "Detchd      536\n",
       "BuiltIn     13...  "
      ]
     },
     "execution_count": 56,
     "metadata": {},
     "output_type": "execute_result"
    }
   ],
   "source": [
    "col_info('Garage Type', 'Nominal')"
   ]
  },
  {
   "cell_type": "markdown",
   "id": "4ee0d1b5",
   "metadata": {},
   "source": [
    "Garage location\n",
    "\t\t\n",
    "       2Types\tMore than one type of garage\n",
    "       Attchd\tAttached to home\n",
    "       Basment\tBasement Garage\n",
    "       BuiltIn\tBuilt-In (Garage part of house - typically has room above garage)\n",
    "       CarPort\tCar Port\n",
    "       Detchd\tDetached from home\n",
    "       NA\tNo Garage"
   ]
  },
  {
   "cell_type": "code",
   "execution_count": 57,
   "id": "dac81432",
   "metadata": {},
   "outputs": [],
   "source": [
    "# plot_nominal_feature('Garage Type')"
   ]
  },
  {
   "cell_type": "markdown",
   "id": "00ac01b1",
   "metadata": {},
   "source": [
    "#### Misc Feature\n",
    "Miscellaneous feature not covered in other categories"
   ]
  },
  {
   "cell_type": "markdown",
   "id": "83abe039",
   "metadata": {},
   "source": [
    "Cleanup\n",
    "- [x] `Misc Feature' replacing Nulls with 'NA'"
   ]
  },
  {
   "cell_type": "code",
   "execution_count": 58,
   "id": "702cbe92",
   "metadata": {},
   "outputs": [],
   "source": [
    "df.loc[df['Misc Feature'].isna(), 'Misc Feature'] = 'NA'"
   ]
  },
  {
   "cell_type": "code",
   "execution_count": 59,
   "id": "071a92ed",
   "metadata": {},
   "outputs": [
    {
     "data": {
      "text/plain": [
       "NA      1986\n",
       "Shed      56\n",
       "Gar2       4\n",
       "Othr       3\n",
       "TenC       1\n",
       "Elev       1\n",
       "Name: Misc Feature, dtype: int64"
      ]
     },
     "execution_count": 59,
     "metadata": {},
     "output_type": "execute_result"
    }
   ],
   "source": [
    "df['Misc Feature'].value_counts()"
   ]
  },
  {
   "cell_type": "code",
   "execution_count": 60,
   "id": "6a8ae5ae",
   "metadata": {},
   "outputs": [
    {
     "data": {
      "text/html": [
       "<div>\n",
       "<style scoped>\n",
       "    .dataframe tbody tr th:only-of-type {\n",
       "        vertical-align: middle;\n",
       "    }\n",
       "\n",
       "    .dataframe tbody tr th {\n",
       "        vertical-align: top;\n",
       "    }\n",
       "\n",
       "    .dataframe thead th {\n",
       "        text-align: right;\n",
       "    }\n",
       "</style>\n",
       "<table border=\"1\" class=\"dataframe\">\n",
       "  <thead>\n",
       "    <tr style=\"text-align: right;\">\n",
       "      <th></th>\n",
       "      <th>type</th>\n",
       "      <th>nulls</th>\n",
       "      <th>dtype</th>\n",
       "      <th>nunique</th>\n",
       "      <th>unique_values</th>\n",
       "      <th>value_counts</th>\n",
       "    </tr>\n",
       "  </thead>\n",
       "  <tbody>\n",
       "    <tr>\n",
       "      <th>Misc Feature</th>\n",
       "      <td>Nominal</td>\n",
       "      <td>0</td>\n",
       "      <td>object</td>\n",
       "      <td>6</td>\n",
       "      <td>[NA, Shed, TenC, Gar2, Othr, Elev]</td>\n",
       "      <td>NA      1986\n",
       "Shed      56\n",
       "Gar2       4\n",
       "Othr   ...</td>\n",
       "    </tr>\n",
       "  </tbody>\n",
       "</table>\n",
       "</div>"
      ],
      "text/plain": [
       "                 type  nulls   dtype  nunique  \\\n",
       "Misc Feature  Nominal      0  object        6   \n",
       "\n",
       "                                   unique_values  \\\n",
       "Misc Feature  [NA, Shed, TenC, Gar2, Othr, Elev]   \n",
       "\n",
       "                                                   value_counts  \n",
       "Misc Feature  NA      1986\n",
       "Shed      56\n",
       "Gar2       4\n",
       "Othr   ...  "
      ]
     },
     "execution_count": 60,
     "metadata": {},
     "output_type": "execute_result"
    }
   ],
   "source": [
    "col_info('Misc Feature', 'Nominal')"
   ]
  },
  {
   "cell_type": "markdown",
   "id": "a87287b1",
   "metadata": {},
   "source": [
    "       Elev\tElevator\n",
    "       Gar2\t2nd Garage (if not described in garage section)\n",
    "       Othr\tOther\n",
    "       Shed\tShed (over 100 SF)\n",
    "       TenC\tTennis Court\n",
    "       NA\tNone"
   ]
  },
  {
   "cell_type": "code",
   "execution_count": 61,
   "id": "51a6a268",
   "metadata": {},
   "outputs": [],
   "source": [
    "# plot_nominal_feature('Misc Feature')"
   ]
  },
  {
   "cell_type": "markdown",
   "id": "11bcee30",
   "metadata": {},
   "source": [
    "#### Sale Type\n",
    "Type of sale"
   ]
  },
  {
   "cell_type": "code",
   "execution_count": 62,
   "id": "223ed30a",
   "metadata": {},
   "outputs": [
    {
     "data": {
      "text/html": [
       "<div>\n",
       "<style scoped>\n",
       "    .dataframe tbody tr th:only-of-type {\n",
       "        vertical-align: middle;\n",
       "    }\n",
       "\n",
       "    .dataframe tbody tr th {\n",
       "        vertical-align: top;\n",
       "    }\n",
       "\n",
       "    .dataframe thead th {\n",
       "        text-align: right;\n",
       "    }\n",
       "</style>\n",
       "<table border=\"1\" class=\"dataframe\">\n",
       "  <thead>\n",
       "    <tr style=\"text-align: right;\">\n",
       "      <th></th>\n",
       "      <th>type</th>\n",
       "      <th>nulls</th>\n",
       "      <th>dtype</th>\n",
       "      <th>nunique</th>\n",
       "      <th>unique_values</th>\n",
       "      <th>value_counts</th>\n",
       "    </tr>\n",
       "  </thead>\n",
       "  <tbody>\n",
       "    <tr>\n",
       "      <th>Sale Type</th>\n",
       "      <td>Nominal</td>\n",
       "      <td>0</td>\n",
       "      <td>object</td>\n",
       "      <td>9</td>\n",
       "      <td>[WD , New, COD, ConLD, Con, CWD, Oth, ConLI, C...</td>\n",
       "      <td>WD       1781\n",
       "New       160\n",
       "COD        63\n",
       "ConL...</td>\n",
       "    </tr>\n",
       "  </tbody>\n",
       "</table>\n",
       "</div>"
      ],
      "text/plain": [
       "              type  nulls   dtype  nunique  \\\n",
       "Sale Type  Nominal      0  object        9   \n",
       "\n",
       "                                               unique_values  \\\n",
       "Sale Type  [WD , New, COD, ConLD, Con, CWD, Oth, ConLI, C...   \n",
       "\n",
       "                                                value_counts  \n",
       "Sale Type  WD       1781\n",
       "New       160\n",
       "COD        63\n",
       "ConL...  "
      ]
     },
     "execution_count": 62,
     "metadata": {},
     "output_type": "execute_result"
    }
   ],
   "source": [
    "col_info('Sale Type', 'Nominal')"
   ]
  },
  {
   "cell_type": "markdown",
   "id": "1c107971",
   "metadata": {},
   "source": [
    "       WD \tWarranty Deed - Conventional\n",
    "       CWD\tWarranty Deed - Cash\n",
    "       VWD\tWarranty Deed - VA Loan\n",
    "       New\tHome just constructed and sold\n",
    "       COD\tCourt Officer Deed/Estate\n",
    "       Con\tContract 15% Down payment regular terms\n",
    "       ConLw\tContract Low Down payment and low interest\n",
    "       ConLI\tContract Low Interest\n",
    "       ConLD\tContract Low Down\n",
    "       Oth\tOther"
   ]
  },
  {
   "cell_type": "code",
   "execution_count": 63,
   "id": "b14f5727",
   "metadata": {},
   "outputs": [],
   "source": [
    "# plot_nominal_feature('Sale Type')"
   ]
  },
  {
   "cell_type": "markdown",
   "id": "66c4c183",
   "metadata": {},
   "source": [
    "## Ordinal\n",
    "1. Lot Shape\n",
    "2. Utilities\n",
    "3. Land Slope\n",
    "4. Overall Qual\n",
    "5. Overall Cond\n",
    "6. Exter Qual\n",
    "7. Exter Cond\n",
    "8. Bsmt Qual\n",
    "9. Bsmt Cond\n",
    "10. Bsmt Exposure\n",
    "11. BsmtFin Type 1\n",
    "12. BsmtFin Type 2\n",
    "13. HeatingQC\n",
    "14. Electrical\n",
    "15. KitchenQual\n",
    "16. Functional\n",
    "17. FireplaceQu\n",
    "18. Garage Finish\n",
    "19. Garage Qual\n",
    "20. Garage Cond\n",
    "21. Paved Drive\n",
    "22. Pool Qc\n",
    "23. Fence"
   ]
  },
  {
   "cell_type": "markdown",
   "id": "9298b5ec",
   "metadata": {},
   "source": [
    "#### Lot Shape\n",
    "General shape of property"
   ]
  },
  {
   "cell_type": "code",
   "execution_count": 64,
   "id": "2dc82c03",
   "metadata": {
    "scrolled": true
   },
   "outputs": [
    {
     "data": {
      "text/html": [
       "<div>\n",
       "<style scoped>\n",
       "    .dataframe tbody tr th:only-of-type {\n",
       "        vertical-align: middle;\n",
       "    }\n",
       "\n",
       "    .dataframe tbody tr th {\n",
       "        vertical-align: top;\n",
       "    }\n",
       "\n",
       "    .dataframe thead th {\n",
       "        text-align: right;\n",
       "    }\n",
       "</style>\n",
       "<table border=\"1\" class=\"dataframe\">\n",
       "  <thead>\n",
       "    <tr style=\"text-align: right;\">\n",
       "      <th></th>\n",
       "      <th>type</th>\n",
       "      <th>nulls</th>\n",
       "      <th>dtype</th>\n",
       "      <th>nunique</th>\n",
       "      <th>unique_values</th>\n",
       "      <th>value_counts</th>\n",
       "    </tr>\n",
       "  </thead>\n",
       "  <tbody>\n",
       "    <tr>\n",
       "      <th>Lot Shape</th>\n",
       "      <td>Ordinal</td>\n",
       "      <td>0</td>\n",
       "      <td>object</td>\n",
       "      <td>4</td>\n",
       "      <td>[IR1, Reg, IR2, IR3]</td>\n",
       "      <td>Reg    1295\n",
       "IR1     692\n",
       "IR2      55\n",
       "IR3       ...</td>\n",
       "    </tr>\n",
       "  </tbody>\n",
       "</table>\n",
       "</div>"
      ],
      "text/plain": [
       "              type  nulls   dtype  nunique         unique_values  \\\n",
       "Lot Shape  Ordinal      0  object        4  [IR1, Reg, IR2, IR3]   \n",
       "\n",
       "                                                value_counts  \n",
       "Lot Shape  Reg    1295\n",
       "IR1     692\n",
       "IR2      55\n",
       "IR3       ...  "
      ]
     },
     "execution_count": 64,
     "metadata": {},
     "output_type": "execute_result"
    }
   ],
   "source": [
    "col_info('Lot Shape', 'Ordinal')"
   ]
  },
  {
   "cell_type": "markdown",
   "id": "e963a32a",
   "metadata": {},
   "source": [
    "       Reg\tRegular\t\n",
    "       IR1\tSlightly irregular\n",
    "       IR2\tModerately Irregular\n",
    "       IR3\tIrregular"
   ]
  },
  {
   "cell_type": "code",
   "execution_count": 65,
   "id": "651c3803",
   "metadata": {},
   "outputs": [],
   "source": [
    "# plot_nominal_feature('Lot Shape')"
   ]
  },
  {
   "cell_type": "markdown",
   "id": "7160e03d",
   "metadata": {},
   "source": [
    "#### Utilities\n",
    "Type of utilities available"
   ]
  },
  {
   "cell_type": "code",
   "execution_count": 66,
   "id": "cda17002",
   "metadata": {},
   "outputs": [
    {
     "data": {
      "text/html": [
       "<div>\n",
       "<style scoped>\n",
       "    .dataframe tbody tr th:only-of-type {\n",
       "        vertical-align: middle;\n",
       "    }\n",
       "\n",
       "    .dataframe tbody tr th {\n",
       "        vertical-align: top;\n",
       "    }\n",
       "\n",
       "    .dataframe thead th {\n",
       "        text-align: right;\n",
       "    }\n",
       "</style>\n",
       "<table border=\"1\" class=\"dataframe\">\n",
       "  <thead>\n",
       "    <tr style=\"text-align: right;\">\n",
       "      <th></th>\n",
       "      <th>type</th>\n",
       "      <th>nulls</th>\n",
       "      <th>dtype</th>\n",
       "      <th>nunique</th>\n",
       "      <th>unique_values</th>\n",
       "      <th>value_counts</th>\n",
       "    </tr>\n",
       "  </thead>\n",
       "  <tbody>\n",
       "    <tr>\n",
       "      <th>Utilities</th>\n",
       "      <td>Ordinal</td>\n",
       "      <td>0</td>\n",
       "      <td>object</td>\n",
       "      <td>3</td>\n",
       "      <td>[AllPub, NoSeWa, NoSewr]</td>\n",
       "      <td>AllPub    2049\n",
       "NoSeWa       1\n",
       "NoSewr       1\n",
       "N...</td>\n",
       "    </tr>\n",
       "  </tbody>\n",
       "</table>\n",
       "</div>"
      ],
      "text/plain": [
       "              type  nulls   dtype  nunique             unique_values  \\\n",
       "Utilities  Ordinal      0  object        3  [AllPub, NoSeWa, NoSewr]   \n",
       "\n",
       "                                                value_counts  \n",
       "Utilities  AllPub    2049\n",
       "NoSeWa       1\n",
       "NoSewr       1\n",
       "N...  "
      ]
     },
     "execution_count": 66,
     "metadata": {},
     "output_type": "execute_result"
    }
   ],
   "source": [
    "col_info('Utilities', 'Ordinal')"
   ]
  },
  {
   "cell_type": "markdown",
   "id": "248d8f8a",
   "metadata": {},
   "source": [
    "       AllPub\tAll public Utilities (E,G,W,& S)\t\n",
    "       NoSewr\tElectricity, Gas, and Water (Septic Tank)\n",
    "       NoSeWa\tElectricity and Gas Only\n",
    "       ELO\tElectricity only\t"
   ]
  },
  {
   "cell_type": "markdown",
   "id": "de5d520b",
   "metadata": {},
   "source": [
    "#### Land Slope\n",
    "Slope of property"
   ]
  },
  {
   "cell_type": "code",
   "execution_count": 67,
   "id": "9c0ab1d8",
   "metadata": {},
   "outputs": [
    {
     "data": {
      "text/html": [
       "<div>\n",
       "<style scoped>\n",
       "    .dataframe tbody tr th:only-of-type {\n",
       "        vertical-align: middle;\n",
       "    }\n",
       "\n",
       "    .dataframe tbody tr th {\n",
       "        vertical-align: top;\n",
       "    }\n",
       "\n",
       "    .dataframe thead th {\n",
       "        text-align: right;\n",
       "    }\n",
       "</style>\n",
       "<table border=\"1\" class=\"dataframe\">\n",
       "  <thead>\n",
       "    <tr style=\"text-align: right;\">\n",
       "      <th></th>\n",
       "      <th>type</th>\n",
       "      <th>nulls</th>\n",
       "      <th>dtype</th>\n",
       "      <th>nunique</th>\n",
       "      <th>unique_values</th>\n",
       "      <th>value_counts</th>\n",
       "    </tr>\n",
       "  </thead>\n",
       "  <tbody>\n",
       "    <tr>\n",
       "      <th>Land Slope</th>\n",
       "      <td>Ordinal</td>\n",
       "      <td>0</td>\n",
       "      <td>object</td>\n",
       "      <td>3</td>\n",
       "      <td>[Gtl, Sev, Mod]</td>\n",
       "      <td>Gtl    1953\n",
       "Mod      88\n",
       "Sev      10\n",
       "Name: Land...</td>\n",
       "    </tr>\n",
       "  </tbody>\n",
       "</table>\n",
       "</div>"
      ],
      "text/plain": [
       "               type  nulls   dtype  nunique    unique_values  \\\n",
       "Land Slope  Ordinal      0  object        3  [Gtl, Sev, Mod]   \n",
       "\n",
       "                                                 value_counts  \n",
       "Land Slope  Gtl    1953\n",
       "Mod      88\n",
       "Sev      10\n",
       "Name: Land...  "
      ]
     },
     "execution_count": 67,
     "metadata": {},
     "output_type": "execute_result"
    }
   ],
   "source": [
    "col_info('Land Slope', 'Ordinal')"
   ]
  },
  {
   "cell_type": "markdown",
   "id": "ad6bfafe",
   "metadata": {},
   "source": [
    "       Gtl\tGentle slope\n",
    "       Mod\tModerate Slope\t\n",
    "       Sev\tSevere Slope"
   ]
  },
  {
   "cell_type": "markdown",
   "id": "a08ce403",
   "metadata": {},
   "source": [
    "#### Overall Qual\n",
    "Rates the overall material and finish of the house"
   ]
  },
  {
   "cell_type": "code",
   "execution_count": 68,
   "id": "3c427e72",
   "metadata": {},
   "outputs": [
    {
     "data": {
      "text/html": [
       "<div>\n",
       "<style scoped>\n",
       "    .dataframe tbody tr th:only-of-type {\n",
       "        vertical-align: middle;\n",
       "    }\n",
       "\n",
       "    .dataframe tbody tr th {\n",
       "        vertical-align: top;\n",
       "    }\n",
       "\n",
       "    .dataframe thead th {\n",
       "        text-align: right;\n",
       "    }\n",
       "</style>\n",
       "<table border=\"1\" class=\"dataframe\">\n",
       "  <thead>\n",
       "    <tr style=\"text-align: right;\">\n",
       "      <th></th>\n",
       "      <th>type</th>\n",
       "      <th>nulls</th>\n",
       "      <th>dtype</th>\n",
       "      <th>nunique</th>\n",
       "      <th>unique_values</th>\n",
       "      <th>value_counts</th>\n",
       "    </tr>\n",
       "  </thead>\n",
       "  <tbody>\n",
       "    <tr>\n",
       "      <th>Overall Qual</th>\n",
       "      <td>Ordinal</td>\n",
       "      <td>0</td>\n",
       "      <td>int64</td>\n",
       "      <td>10</td>\n",
       "      <td>[6, 7, 5, 8, 10, 4, 9, 3, 2, 1]</td>\n",
       "      <td>5     563\n",
       "6     506\n",
       "7     431\n",
       "8     250\n",
       "4     ...</td>\n",
       "    </tr>\n",
       "  </tbody>\n",
       "</table>\n",
       "</div>"
      ],
      "text/plain": [
       "                 type  nulls  dtype  nunique                    unique_values  \\\n",
       "Overall Qual  Ordinal      0  int64       10  [6, 7, 5, 8, 10, 4, 9, 3, 2, 1]   \n",
       "\n",
       "                                                   value_counts  \n",
       "Overall Qual  5     563\n",
       "6     506\n",
       "7     431\n",
       "8     250\n",
       "4     ...  "
      ]
     },
     "execution_count": 68,
     "metadata": {},
     "output_type": "execute_result"
    }
   ],
   "source": [
    "col_info('Overall Qual', 'Ordinal')"
   ]
  },
  {
   "cell_type": "markdown",
   "id": "14433830",
   "metadata": {},
   "source": [
    "       10\tVery Excellent\n",
    "       9\tExcellent\n",
    "       8\tVery Good\n",
    "       7\tGood\n",
    "       6\tAbove Average\n",
    "       5\tAverage\n",
    "       4\tBelow Average\n",
    "       3\tFair\n",
    "       2\tPoor\n",
    "       1\tVery Poor"
   ]
  },
  {
   "cell_type": "markdown",
   "id": "0ea02412",
   "metadata": {},
   "source": [
    "#### Overall Cond\n",
    "Rates the overall condition of the house"
   ]
  },
  {
   "cell_type": "code",
   "execution_count": 69,
   "id": "37d2ebe3",
   "metadata": {},
   "outputs": [
    {
     "data": {
      "text/html": [
       "<div>\n",
       "<style scoped>\n",
       "    .dataframe tbody tr th:only-of-type {\n",
       "        vertical-align: middle;\n",
       "    }\n",
       "\n",
       "    .dataframe tbody tr th {\n",
       "        vertical-align: top;\n",
       "    }\n",
       "\n",
       "    .dataframe thead th {\n",
       "        text-align: right;\n",
       "    }\n",
       "</style>\n",
       "<table border=\"1\" class=\"dataframe\">\n",
       "  <thead>\n",
       "    <tr style=\"text-align: right;\">\n",
       "      <th></th>\n",
       "      <th>type</th>\n",
       "      <th>nulls</th>\n",
       "      <th>dtype</th>\n",
       "      <th>nunique</th>\n",
       "      <th>unique_values</th>\n",
       "      <th>value_counts</th>\n",
       "    </tr>\n",
       "  </thead>\n",
       "  <tbody>\n",
       "    <tr>\n",
       "      <th>Overall Cond</th>\n",
       "      <td>Ordinal</td>\n",
       "      <td>0</td>\n",
       "      <td>int64</td>\n",
       "      <td>9</td>\n",
       "      <td>[8, 5, 7, 6, 3, 9, 2, 4, 1]</td>\n",
       "      <td>5    1168\n",
       "6     368\n",
       "7     270\n",
       "8     101\n",
       "4     ...</td>\n",
       "    </tr>\n",
       "  </tbody>\n",
       "</table>\n",
       "</div>"
      ],
      "text/plain": [
       "                 type  nulls  dtype  nunique                unique_values  \\\n",
       "Overall Cond  Ordinal      0  int64        9  [8, 5, 7, 6, 3, 9, 2, 4, 1]   \n",
       "\n",
       "                                                   value_counts  \n",
       "Overall Cond  5    1168\n",
       "6     368\n",
       "7     270\n",
       "8     101\n",
       "4     ...  "
      ]
     },
     "execution_count": 69,
     "metadata": {},
     "output_type": "execute_result"
    }
   ],
   "source": [
    "col_info('Overall Cond', 'Ordinal')"
   ]
  },
  {
   "cell_type": "markdown",
   "id": "83aad5d8",
   "metadata": {},
   "source": [
    "       10\tVery Excellent\n",
    "       9\tExcellent\n",
    "       8\tVery Good\n",
    "       7\tGood\n",
    "       6\tAbove Average\t\n",
    "       5\tAverage\n",
    "       4\tBelow Average\t\n",
    "       3\tFair\n",
    "       2\tPoor\n",
    "       1\tVery Poor"
   ]
  },
  {
   "cell_type": "markdown",
   "id": "463ee0ea",
   "metadata": {},
   "source": [
    "#### Exter Qual\n",
    "Evaluates the quality of the material on the exterior "
   ]
  },
  {
   "cell_type": "code",
   "execution_count": 70,
   "id": "45f3a316",
   "metadata": {},
   "outputs": [
    {
     "data": {
      "text/html": [
       "<div>\n",
       "<style scoped>\n",
       "    .dataframe tbody tr th:only-of-type {\n",
       "        vertical-align: middle;\n",
       "    }\n",
       "\n",
       "    .dataframe tbody tr th {\n",
       "        vertical-align: top;\n",
       "    }\n",
       "\n",
       "    .dataframe thead th {\n",
       "        text-align: right;\n",
       "    }\n",
       "</style>\n",
       "<table border=\"1\" class=\"dataframe\">\n",
       "  <thead>\n",
       "    <tr style=\"text-align: right;\">\n",
       "      <th></th>\n",
       "      <th>type</th>\n",
       "      <th>nulls</th>\n",
       "      <th>dtype</th>\n",
       "      <th>nunique</th>\n",
       "      <th>unique_values</th>\n",
       "      <th>value_counts</th>\n",
       "    </tr>\n",
       "  </thead>\n",
       "  <tbody>\n",
       "    <tr>\n",
       "      <th>Exter Qual</th>\n",
       "      <td>Ordinal</td>\n",
       "      <td>0</td>\n",
       "      <td>object</td>\n",
       "      <td>4</td>\n",
       "      <td>[Gd, TA, Ex, Fa]</td>\n",
       "      <td>TA    1247\n",
       "Gd     697\n",
       "Ex      81\n",
       "Fa      26\n",
       "Na...</td>\n",
       "    </tr>\n",
       "  </tbody>\n",
       "</table>\n",
       "</div>"
      ],
      "text/plain": [
       "               type  nulls   dtype  nunique     unique_values  \\\n",
       "Exter Qual  Ordinal      0  object        4  [Gd, TA, Ex, Fa]   \n",
       "\n",
       "                                                 value_counts  \n",
       "Exter Qual  TA    1247\n",
       "Gd     697\n",
       "Ex      81\n",
       "Fa      26\n",
       "Na...  "
      ]
     },
     "execution_count": 70,
     "metadata": {},
     "output_type": "execute_result"
    }
   ],
   "source": [
    "col_info('Exter Qual', 'Ordinal')"
   ]
  },
  {
   "cell_type": "markdown",
   "id": "10f96641",
   "metadata": {},
   "source": [
    "       Ex\tExcellent\n",
    "       Gd\tGood\n",
    "       TA\tAverage/Typical\n",
    "       Fa\tFair\n",
    "       Po\tPoor"
   ]
  },
  {
   "cell_type": "markdown",
   "id": "7524a66b",
   "metadata": {},
   "source": [
    "#### Exter Cond\n",
    "Evaluates the present condition of the material on the exterior"
   ]
  },
  {
   "cell_type": "code",
   "execution_count": 71,
   "id": "f24daf9e",
   "metadata": {},
   "outputs": [
    {
     "data": {
      "text/html": [
       "<div>\n",
       "<style scoped>\n",
       "    .dataframe tbody tr th:only-of-type {\n",
       "        vertical-align: middle;\n",
       "    }\n",
       "\n",
       "    .dataframe tbody tr th {\n",
       "        vertical-align: top;\n",
       "    }\n",
       "\n",
       "    .dataframe thead th {\n",
       "        text-align: right;\n",
       "    }\n",
       "</style>\n",
       "<table border=\"1\" class=\"dataframe\">\n",
       "  <thead>\n",
       "    <tr style=\"text-align: right;\">\n",
       "      <th></th>\n",
       "      <th>type</th>\n",
       "      <th>nulls</th>\n",
       "      <th>dtype</th>\n",
       "      <th>nunique</th>\n",
       "      <th>unique_values</th>\n",
       "      <th>value_counts</th>\n",
       "    </tr>\n",
       "  </thead>\n",
       "  <tbody>\n",
       "    <tr>\n",
       "      <th>Exter Cond</th>\n",
       "      <td>Ordinal</td>\n",
       "      <td>0</td>\n",
       "      <td>object</td>\n",
       "      <td>5</td>\n",
       "      <td>[TA, Gd, Fa, Ex, Po]</td>\n",
       "      <td>TA    1778\n",
       "Gd     215\n",
       "Fa      49\n",
       "Ex       7\n",
       "Po...</td>\n",
       "    </tr>\n",
       "  </tbody>\n",
       "</table>\n",
       "</div>"
      ],
      "text/plain": [
       "               type  nulls   dtype  nunique         unique_values  \\\n",
       "Exter Cond  Ordinal      0  object        5  [TA, Gd, Fa, Ex, Po]   \n",
       "\n",
       "                                                 value_counts  \n",
       "Exter Cond  TA    1778\n",
       "Gd     215\n",
       "Fa      49\n",
       "Ex       7\n",
       "Po...  "
      ]
     },
     "execution_count": 71,
     "metadata": {},
     "output_type": "execute_result"
    }
   ],
   "source": [
    "col_info('Exter Cond', 'Ordinal')"
   ]
  },
  {
   "cell_type": "markdown",
   "id": "24ee4577",
   "metadata": {},
   "source": [
    "       Ex\tExcellent\n",
    "       Gd\tGood\n",
    "       TA\tAverage/Typical\n",
    "       Fa\tFair\n",
    "       Po\tPoor"
   ]
  },
  {
   "cell_type": "markdown",
   "id": "f99e3f61",
   "metadata": {},
   "source": [
    "#### Bsmt Qual\n",
    "Evaluates the height of the basement"
   ]
  },
  {
   "cell_type": "code",
   "execution_count": 72,
   "id": "20b4b0b5",
   "metadata": {},
   "outputs": [
    {
     "data": {
      "text/html": [
       "<div>\n",
       "<style scoped>\n",
       "    .dataframe tbody tr th:only-of-type {\n",
       "        vertical-align: middle;\n",
       "    }\n",
       "\n",
       "    .dataframe tbody tr th {\n",
       "        vertical-align: top;\n",
       "    }\n",
       "\n",
       "    .dataframe thead th {\n",
       "        text-align: right;\n",
       "    }\n",
       "</style>\n",
       "<table border=\"1\" class=\"dataframe\">\n",
       "  <thead>\n",
       "    <tr style=\"text-align: right;\">\n",
       "      <th></th>\n",
       "      <th>type</th>\n",
       "      <th>nulls</th>\n",
       "      <th>dtype</th>\n",
       "      <th>nunique</th>\n",
       "      <th>unique_values</th>\n",
       "      <th>value_counts</th>\n",
       "    </tr>\n",
       "  </thead>\n",
       "  <tbody>\n",
       "    <tr>\n",
       "      <th>Bsmt Qual</th>\n",
       "      <td>Ordinal</td>\n",
       "      <td>55</td>\n",
       "      <td>object</td>\n",
       "      <td>5</td>\n",
       "      <td>[TA, Gd, Fa, nan, Ex, Po]</td>\n",
       "      <td>TA    887\n",
       "Gd    864\n",
       "Ex    184\n",
       "Fa     60\n",
       "Po    ...</td>\n",
       "    </tr>\n",
       "  </tbody>\n",
       "</table>\n",
       "</div>"
      ],
      "text/plain": [
       "              type  nulls   dtype  nunique              unique_values  \\\n",
       "Bsmt Qual  Ordinal     55  object        5  [TA, Gd, Fa, nan, Ex, Po]   \n",
       "\n",
       "                                                value_counts  \n",
       "Bsmt Qual  TA    887\n",
       "Gd    864\n",
       "Ex    184\n",
       "Fa     60\n",
       "Po    ...  "
      ]
     },
     "execution_count": 72,
     "metadata": {},
     "output_type": "execute_result"
    }
   ],
   "source": [
    "col_info('Bsmt Qual', 'Ordinal')"
   ]
  },
  {
   "cell_type": "markdown",
   "id": "6583b288",
   "metadata": {},
   "source": [
    "       Ex\tExcellent (100+ inches)\t\n",
    "       Gd\tGood (90-99 inches)\n",
    "       TA\tTypical (80-89 inches)\n",
    "       Fa\tFair (70-79 inches)\n",
    "       Po\tPoor (<70 inches\n",
    "       NA\tNo Basement"
   ]
  },
  {
   "cell_type": "markdown",
   "id": "a7110916",
   "metadata": {},
   "source": [
    "#### Bsmt Cond\n",
    "Evaluates the general condition of the basement"
   ]
  },
  {
   "cell_type": "code",
   "execution_count": 73,
   "id": "9b1ee399",
   "metadata": {},
   "outputs": [
    {
     "data": {
      "text/html": [
       "<div>\n",
       "<style scoped>\n",
       "    .dataframe tbody tr th:only-of-type {\n",
       "        vertical-align: middle;\n",
       "    }\n",
       "\n",
       "    .dataframe tbody tr th {\n",
       "        vertical-align: top;\n",
       "    }\n",
       "\n",
       "    .dataframe thead th {\n",
       "        text-align: right;\n",
       "    }\n",
       "</style>\n",
       "<table border=\"1\" class=\"dataframe\">\n",
       "  <thead>\n",
       "    <tr style=\"text-align: right;\">\n",
       "      <th></th>\n",
       "      <th>type</th>\n",
       "      <th>nulls</th>\n",
       "      <th>dtype</th>\n",
       "      <th>nunique</th>\n",
       "      <th>unique_values</th>\n",
       "      <th>value_counts</th>\n",
       "    </tr>\n",
       "  </thead>\n",
       "  <tbody>\n",
       "    <tr>\n",
       "      <th>Bsmt Cond</th>\n",
       "      <td>Ordinal</td>\n",
       "      <td>55</td>\n",
       "      <td>object</td>\n",
       "      <td>5</td>\n",
       "      <td>[TA, Gd, nan, Fa, Po, Ex]</td>\n",
       "      <td>TA    1834\n",
       "Gd      89\n",
       "Fa      65\n",
       "Po       5\n",
       "Ex...</td>\n",
       "    </tr>\n",
       "  </tbody>\n",
       "</table>\n",
       "</div>"
      ],
      "text/plain": [
       "              type  nulls   dtype  nunique              unique_values  \\\n",
       "Bsmt Cond  Ordinal     55  object        5  [TA, Gd, nan, Fa, Po, Ex]   \n",
       "\n",
       "                                                value_counts  \n",
       "Bsmt Cond  TA    1834\n",
       "Gd      89\n",
       "Fa      65\n",
       "Po       5\n",
       "Ex...  "
      ]
     },
     "execution_count": 73,
     "metadata": {},
     "output_type": "execute_result"
    }
   ],
   "source": [
    "col_info('Bsmt Cond', 'Ordinal')"
   ]
  },
  {
   "cell_type": "markdown",
   "id": "a4b47b6a",
   "metadata": {},
   "source": [
    "       Ex\tExcellent\n",
    "       Gd\tGood\n",
    "       TA\tTypical - slight dampness allowed\n",
    "       Fa\tFair - dampness or some cracking or settling\n",
    "       Po\tPoor - Severe cracking, settling, or wetness\n",
    "       NA\tNo Basement"
   ]
  },
  {
   "cell_type": "markdown",
   "id": "9773b080",
   "metadata": {},
   "source": [
    "#### Bsmt Exposure\n",
    "Refers to walkout or garden level walls"
   ]
  },
  {
   "cell_type": "code",
   "execution_count": 74,
   "id": "54fdae86",
   "metadata": {},
   "outputs": [
    {
     "data": {
      "text/html": [
       "<div>\n",
       "<style scoped>\n",
       "    .dataframe tbody tr th:only-of-type {\n",
       "        vertical-align: middle;\n",
       "    }\n",
       "\n",
       "    .dataframe tbody tr th {\n",
       "        vertical-align: top;\n",
       "    }\n",
       "\n",
       "    .dataframe thead th {\n",
       "        text-align: right;\n",
       "    }\n",
       "</style>\n",
       "<table border=\"1\" class=\"dataframe\">\n",
       "  <thead>\n",
       "    <tr style=\"text-align: right;\">\n",
       "      <th></th>\n",
       "      <th>type</th>\n",
       "      <th>nulls</th>\n",
       "      <th>dtype</th>\n",
       "      <th>nunique</th>\n",
       "      <th>unique_values</th>\n",
       "      <th>value_counts</th>\n",
       "    </tr>\n",
       "  </thead>\n",
       "  <tbody>\n",
       "    <tr>\n",
       "      <th>Bsmt Exposure</th>\n",
       "      <td>Ordinal</td>\n",
       "      <td>58</td>\n",
       "      <td>object</td>\n",
       "      <td>4</td>\n",
       "      <td>[No, Gd, Av, nan, Mn]</td>\n",
       "      <td>No    1339\n",
       "Av     288\n",
       "Gd     203\n",
       "Mn     163\n",
       "Na...</td>\n",
       "    </tr>\n",
       "  </tbody>\n",
       "</table>\n",
       "</div>"
      ],
      "text/plain": [
       "                  type  nulls   dtype  nunique          unique_values  \\\n",
       "Bsmt Exposure  Ordinal     58  object        4  [No, Gd, Av, nan, Mn]   \n",
       "\n",
       "                                                    value_counts  \n",
       "Bsmt Exposure  No    1339\n",
       "Av     288\n",
       "Gd     203\n",
       "Mn     163\n",
       "Na...  "
      ]
     },
     "execution_count": 74,
     "metadata": {},
     "output_type": "execute_result"
    }
   ],
   "source": [
    "col_info('Bsmt Exposure', 'Ordinal')"
   ]
  },
  {
   "cell_type": "markdown",
   "id": "596cae0f",
   "metadata": {},
   "source": [
    "       Gd\tGood Exposure\n",
    "       Av\tAverage Exposure (split levels or foyers typically score average or above)\t\n",
    "       Mn\tMimimum Exposure\n",
    "       No\tNo Exposure\n",
    "       NA\tNo Basement"
   ]
  },
  {
   "cell_type": "markdown",
   "id": "0634720e",
   "metadata": {},
   "source": [
    "#### BsmtFin Type 1\n",
    "Rating of basement finished area"
   ]
  },
  {
   "cell_type": "code",
   "execution_count": 75,
   "id": "0ad50012",
   "metadata": {},
   "outputs": [
    {
     "data": {
      "text/html": [
       "<div>\n",
       "<style scoped>\n",
       "    .dataframe tbody tr th:only-of-type {\n",
       "        vertical-align: middle;\n",
       "    }\n",
       "\n",
       "    .dataframe tbody tr th {\n",
       "        vertical-align: top;\n",
       "    }\n",
       "\n",
       "    .dataframe thead th {\n",
       "        text-align: right;\n",
       "    }\n",
       "</style>\n",
       "<table border=\"1\" class=\"dataframe\">\n",
       "  <thead>\n",
       "    <tr style=\"text-align: right;\">\n",
       "      <th></th>\n",
       "      <th>type</th>\n",
       "      <th>nulls</th>\n",
       "      <th>dtype</th>\n",
       "      <th>nunique</th>\n",
       "      <th>unique_values</th>\n",
       "      <th>value_counts</th>\n",
       "    </tr>\n",
       "  </thead>\n",
       "  <tbody>\n",
       "    <tr>\n",
       "      <th>BsmtFin Type 1</th>\n",
       "      <td>Ordinal</td>\n",
       "      <td>55</td>\n",
       "      <td>object</td>\n",
       "      <td>6</td>\n",
       "      <td>[GLQ, Unf, ALQ, Rec, nan, BLQ, LwQ]</td>\n",
       "      <td>GLQ    615\n",
       "Unf    603\n",
       "ALQ    293\n",
       "BLQ    200\n",
       "Re...</td>\n",
       "    </tr>\n",
       "  </tbody>\n",
       "</table>\n",
       "</div>"
      ],
      "text/plain": [
       "                   type  nulls   dtype  nunique  \\\n",
       "BsmtFin Type 1  Ordinal     55  object        6   \n",
       "\n",
       "                                      unique_values  \\\n",
       "BsmtFin Type 1  [GLQ, Unf, ALQ, Rec, nan, BLQ, LwQ]   \n",
       "\n",
       "                                                     value_counts  \n",
       "BsmtFin Type 1  GLQ    615\n",
       "Unf    603\n",
       "ALQ    293\n",
       "BLQ    200\n",
       "Re...  "
      ]
     },
     "execution_count": 75,
     "metadata": {},
     "output_type": "execute_result"
    }
   ],
   "source": [
    "col_info('BsmtFin Type 1', 'Ordinal')"
   ]
  },
  {
   "cell_type": "markdown",
   "id": "f0416fbd",
   "metadata": {},
   "source": [
    "       GLQ\tGood Living Quarters\n",
    "       ALQ\tAverage Living Quarters\n",
    "       BLQ\tBelow Average Living Quarters\t\n",
    "       Rec\tAverage Rec Room\n",
    "       LwQ\tLow Quality\n",
    "       Unf\tUnfinshed\n",
    "       NA\tNo Basement"
   ]
  },
  {
   "cell_type": "markdown",
   "id": "bdf01c84",
   "metadata": {},
   "source": [
    "#### BsmtFin Type 2\n",
    "Rating of basement finished area (if multiple types)"
   ]
  },
  {
   "cell_type": "code",
   "execution_count": 76,
   "id": "b8687e95",
   "metadata": {},
   "outputs": [
    {
     "data": {
      "text/html": [
       "<div>\n",
       "<style scoped>\n",
       "    .dataframe tbody tr th:only-of-type {\n",
       "        vertical-align: middle;\n",
       "    }\n",
       "\n",
       "    .dataframe tbody tr th {\n",
       "        vertical-align: top;\n",
       "    }\n",
       "\n",
       "    .dataframe thead th {\n",
       "        text-align: right;\n",
       "    }\n",
       "</style>\n",
       "<table border=\"1\" class=\"dataframe\">\n",
       "  <thead>\n",
       "    <tr style=\"text-align: right;\">\n",
       "      <th></th>\n",
       "      <th>type</th>\n",
       "      <th>nulls</th>\n",
       "      <th>dtype</th>\n",
       "      <th>nunique</th>\n",
       "      <th>unique_values</th>\n",
       "      <th>value_counts</th>\n",
       "    </tr>\n",
       "  </thead>\n",
       "  <tbody>\n",
       "    <tr>\n",
       "      <th>BsmtFin Type 2</th>\n",
       "      <td>Ordinal</td>\n",
       "      <td>56</td>\n",
       "      <td>object</td>\n",
       "      <td>6</td>\n",
       "      <td>[Unf, Rec, nan, BLQ, GLQ, LwQ, ALQ]</td>\n",
       "      <td>Unf    1749\n",
       "Rec      80\n",
       "LwQ      60\n",
       "BLQ      4...</td>\n",
       "    </tr>\n",
       "  </tbody>\n",
       "</table>\n",
       "</div>"
      ],
      "text/plain": [
       "                   type  nulls   dtype  nunique  \\\n",
       "BsmtFin Type 2  Ordinal     56  object        6   \n",
       "\n",
       "                                      unique_values  \\\n",
       "BsmtFin Type 2  [Unf, Rec, nan, BLQ, GLQ, LwQ, ALQ]   \n",
       "\n",
       "                                                     value_counts  \n",
       "BsmtFin Type 2  Unf    1749\n",
       "Rec      80\n",
       "LwQ      60\n",
       "BLQ      4...  "
      ]
     },
     "execution_count": 76,
     "metadata": {},
     "output_type": "execute_result"
    }
   ],
   "source": [
    "col_info('BsmtFin Type 2', 'Ordinal')"
   ]
  },
  {
   "cell_type": "markdown",
   "id": "01dc6a7c",
   "metadata": {},
   "source": [
    "       GLQ\tGood Living Quarters\n",
    "       ALQ\tAverage Living Quarters\n",
    "       BLQ\tBelow Average Living Quarters\t\n",
    "       Rec\tAverage Rec Room\n",
    "       LwQ\tLow Quality\n",
    "       Unf\tUnfinshed\n",
    "       NA\tNo Basement"
   ]
  },
  {
   "cell_type": "markdown",
   "id": "34f5204f",
   "metadata": {},
   "source": [
    "#### Heating \n",
    "Heating quality and conditionQC"
   ]
  },
  {
   "cell_type": "code",
   "execution_count": 77,
   "id": "a139f062",
   "metadata": {
    "scrolled": true
   },
   "outputs": [
    {
     "data": {
      "text/html": [
       "<div>\n",
       "<style scoped>\n",
       "    .dataframe tbody tr th:only-of-type {\n",
       "        vertical-align: middle;\n",
       "    }\n",
       "\n",
       "    .dataframe tbody tr th {\n",
       "        vertical-align: top;\n",
       "    }\n",
       "\n",
       "    .dataframe thead th {\n",
       "        text-align: right;\n",
       "    }\n",
       "</style>\n",
       "<table border=\"1\" class=\"dataframe\">\n",
       "  <thead>\n",
       "    <tr style=\"text-align: right;\">\n",
       "      <th></th>\n",
       "      <th>type</th>\n",
       "      <th>nulls</th>\n",
       "      <th>dtype</th>\n",
       "      <th>nunique</th>\n",
       "      <th>unique_values</th>\n",
       "      <th>value_counts</th>\n",
       "    </tr>\n",
       "  </thead>\n",
       "  <tbody>\n",
       "    <tr>\n",
       "      <th>Heating QC</th>\n",
       "      <td>Ordinal</td>\n",
       "      <td>0</td>\n",
       "      <td>object</td>\n",
       "      <td>5</td>\n",
       "      <td>[Ex, TA, Gd, Fa, Po]</td>\n",
       "      <td>Ex    1065\n",
       "TA     597\n",
       "Gd     319\n",
       "Fa      67\n",
       "Po...</td>\n",
       "    </tr>\n",
       "  </tbody>\n",
       "</table>\n",
       "</div>"
      ],
      "text/plain": [
       "               type  nulls   dtype  nunique         unique_values  \\\n",
       "Heating QC  Ordinal      0  object        5  [Ex, TA, Gd, Fa, Po]   \n",
       "\n",
       "                                                 value_counts  \n",
       "Heating QC  Ex    1065\n",
       "TA     597\n",
       "Gd     319\n",
       "Fa      67\n",
       "Po...  "
      ]
     },
     "execution_count": 77,
     "metadata": {},
     "output_type": "execute_result"
    }
   ],
   "source": [
    "col_info('Heating QC', 'Ordinal')"
   ]
  },
  {
   "cell_type": "markdown",
   "id": "e485332c",
   "metadata": {},
   "source": [
    "       Ex\tExcellent\n",
    "       Gd\tGood\n",
    "       TA\tAverage/Typical\n",
    "       Fa\tFair\n",
    "       Po\tPoor"
   ]
  },
  {
   "cell_type": "markdown",
   "id": "5b739f8c",
   "metadata": {},
   "source": [
    "#### Electrical\n",
    "Electrical system"
   ]
  },
  {
   "cell_type": "code",
   "execution_count": 78,
   "id": "5a9c93bb",
   "metadata": {},
   "outputs": [
    {
     "data": {
      "text/html": [
       "<div>\n",
       "<style scoped>\n",
       "    .dataframe tbody tr th:only-of-type {\n",
       "        vertical-align: middle;\n",
       "    }\n",
       "\n",
       "    .dataframe tbody tr th {\n",
       "        vertical-align: top;\n",
       "    }\n",
       "\n",
       "    .dataframe thead th {\n",
       "        text-align: right;\n",
       "    }\n",
       "</style>\n",
       "<table border=\"1\" class=\"dataframe\">\n",
       "  <thead>\n",
       "    <tr style=\"text-align: right;\">\n",
       "      <th></th>\n",
       "      <th>type</th>\n",
       "      <th>nulls</th>\n",
       "      <th>dtype</th>\n",
       "      <th>nunique</th>\n",
       "      <th>unique_values</th>\n",
       "      <th>value_counts</th>\n",
       "    </tr>\n",
       "  </thead>\n",
       "  <tbody>\n",
       "    <tr>\n",
       "      <th>Electrical</th>\n",
       "      <td>Ordinal</td>\n",
       "      <td>0</td>\n",
       "      <td>object</td>\n",
       "      <td>5</td>\n",
       "      <td>[SBrkr, FuseF, FuseA, FuseP, Mix]</td>\n",
       "      <td>SBrkr    1868\n",
       "FuseA     140\n",
       "FuseF      35\n",
       "Fuse...</td>\n",
       "    </tr>\n",
       "  </tbody>\n",
       "</table>\n",
       "</div>"
      ],
      "text/plain": [
       "               type  nulls   dtype  nunique  \\\n",
       "Electrical  Ordinal      0  object        5   \n",
       "\n",
       "                                unique_values  \\\n",
       "Electrical  [SBrkr, FuseF, FuseA, FuseP, Mix]   \n",
       "\n",
       "                                                 value_counts  \n",
       "Electrical  SBrkr    1868\n",
       "FuseA     140\n",
       "FuseF      35\n",
       "Fuse...  "
      ]
     },
     "execution_count": 78,
     "metadata": {},
     "output_type": "execute_result"
    }
   ],
   "source": [
    "col_info('Electrical', 'Ordinal')"
   ]
  },
  {
   "cell_type": "markdown",
   "id": "c43c8775",
   "metadata": {},
   "source": [
    "       SBrkr\tStandard Circuit Breakers & Romex\n",
    "       FuseA\tFuse Box over 60 AMP and all Romex wiring (Average)\t\n",
    "       FuseF\t60 AMP Fuse Box and mostly Romex wiring (Fair)\n",
    "       FuseP\t60 AMP Fuse Box and mostly knob & tube wiring (poor)\n",
    "       Mix\tMixed"
   ]
  },
  {
   "cell_type": "markdown",
   "id": "6e3d3ce1",
   "metadata": {},
   "source": [
    "#### Kitchen \n",
    "Kitchen qualityQual"
   ]
  },
  {
   "cell_type": "code",
   "execution_count": 79,
   "id": "ad59b92b",
   "metadata": {},
   "outputs": [
    {
     "data": {
      "text/html": [
       "<div>\n",
       "<style scoped>\n",
       "    .dataframe tbody tr th:only-of-type {\n",
       "        vertical-align: middle;\n",
       "    }\n",
       "\n",
       "    .dataframe tbody tr th {\n",
       "        vertical-align: top;\n",
       "    }\n",
       "\n",
       "    .dataframe thead th {\n",
       "        text-align: right;\n",
       "    }\n",
       "</style>\n",
       "<table border=\"1\" class=\"dataframe\">\n",
       "  <thead>\n",
       "    <tr style=\"text-align: right;\">\n",
       "      <th></th>\n",
       "      <th>type</th>\n",
       "      <th>nulls</th>\n",
       "      <th>dtype</th>\n",
       "      <th>nunique</th>\n",
       "      <th>unique_values</th>\n",
       "      <th>value_counts</th>\n",
       "    </tr>\n",
       "  </thead>\n",
       "  <tbody>\n",
       "    <tr>\n",
       "      <th>Kitchen Qual</th>\n",
       "      <td>Ordinal</td>\n",
       "      <td>0</td>\n",
       "      <td>object</td>\n",
       "      <td>4</td>\n",
       "      <td>[Gd, TA, Fa, Ex]</td>\n",
       "      <td>TA    1047\n",
       "Gd     806\n",
       "Ex     151\n",
       "Fa      47\n",
       "Na...</td>\n",
       "    </tr>\n",
       "  </tbody>\n",
       "</table>\n",
       "</div>"
      ],
      "text/plain": [
       "                 type  nulls   dtype  nunique     unique_values  \\\n",
       "Kitchen Qual  Ordinal      0  object        4  [Gd, TA, Fa, Ex]   \n",
       "\n",
       "                                                   value_counts  \n",
       "Kitchen Qual  TA    1047\n",
       "Gd     806\n",
       "Ex     151\n",
       "Fa      47\n",
       "Na...  "
      ]
     },
     "execution_count": 79,
     "metadata": {},
     "output_type": "execute_result"
    }
   ],
   "source": [
    "col_info('Kitchen Qual', 'Ordinal')"
   ]
  },
  {
   "cell_type": "markdown",
   "id": "5bab50b0",
   "metadata": {},
   "source": [
    "       Ex\tExcellent\n",
    "       Gd\tGood\n",
    "       TA\tTypical/Average\n",
    "       Fa\tFair\n",
    "       Po\tPoor"
   ]
  },
  {
   "cell_type": "markdown",
   "id": "41a1c569",
   "metadata": {},
   "source": [
    "#### Functional\n",
    "Home functionality (Assume typical unless deductions are warranted)"
   ]
  },
  {
   "cell_type": "code",
   "execution_count": 80,
   "id": "99bee656",
   "metadata": {},
   "outputs": [
    {
     "data": {
      "text/html": [
       "<div>\n",
       "<style scoped>\n",
       "    .dataframe tbody tr th:only-of-type {\n",
       "        vertical-align: middle;\n",
       "    }\n",
       "\n",
       "    .dataframe tbody tr th {\n",
       "        vertical-align: top;\n",
       "    }\n",
       "\n",
       "    .dataframe thead th {\n",
       "        text-align: right;\n",
       "    }\n",
       "</style>\n",
       "<table border=\"1\" class=\"dataframe\">\n",
       "  <thead>\n",
       "    <tr style=\"text-align: right;\">\n",
       "      <th></th>\n",
       "      <th>type</th>\n",
       "      <th>nulls</th>\n",
       "      <th>dtype</th>\n",
       "      <th>nunique</th>\n",
       "      <th>unique_values</th>\n",
       "      <th>value_counts</th>\n",
       "    </tr>\n",
       "  </thead>\n",
       "  <tbody>\n",
       "    <tr>\n",
       "      <th>Functional</th>\n",
       "      <td>Ordinal</td>\n",
       "      <td>0</td>\n",
       "      <td>object</td>\n",
       "      <td>8</td>\n",
       "      <td>[Typ, Mod, Min2, Maj1, Min1, Sev, Sal, Maj2]</td>\n",
       "      <td>Typ     1915\n",
       "Min2      42\n",
       "Min1      42\n",
       "Mod    ...</td>\n",
       "    </tr>\n",
       "  </tbody>\n",
       "</table>\n",
       "</div>"
      ],
      "text/plain": [
       "               type  nulls   dtype  nunique  \\\n",
       "Functional  Ordinal      0  object        8   \n",
       "\n",
       "                                           unique_values  \\\n",
       "Functional  [Typ, Mod, Min2, Maj1, Min1, Sev, Sal, Maj2]   \n",
       "\n",
       "                                                 value_counts  \n",
       "Functional  Typ     1915\n",
       "Min2      42\n",
       "Min1      42\n",
       "Mod    ...  "
      ]
     },
     "execution_count": 80,
     "metadata": {},
     "output_type": "execute_result"
    }
   ],
   "source": [
    "col_info('Functional', 'Ordinal')"
   ]
  },
  {
   "cell_type": "markdown",
   "id": "b64c9c84",
   "metadata": {},
   "source": [
    "       Typ\tTypical Functionality\n",
    "       Min1\tMinor Deductions 1\n",
    "       Min2\tMinor Deductions 2\n",
    "       Mod\tModerate Deductions\n",
    "       Maj1\tMajor Deductions 1\n",
    "       Maj2\tMajor Deductions 2\n",
    "       Sev\tSeverely Damaged\n",
    "       Sal\tSalvage only"
   ]
  },
  {
   "cell_type": "markdown",
   "id": "d0085f67",
   "metadata": {},
   "source": [
    "#### Fireplace Qu\n",
    "Fireplace quality"
   ]
  },
  {
   "cell_type": "code",
   "execution_count": 81,
   "id": "8ab09e5e",
   "metadata": {},
   "outputs": [
    {
     "data": {
      "text/html": [
       "<div>\n",
       "<style scoped>\n",
       "    .dataframe tbody tr th:only-of-type {\n",
       "        vertical-align: middle;\n",
       "    }\n",
       "\n",
       "    .dataframe tbody tr th {\n",
       "        vertical-align: top;\n",
       "    }\n",
       "\n",
       "    .dataframe thead th {\n",
       "        text-align: right;\n",
       "    }\n",
       "</style>\n",
       "<table border=\"1\" class=\"dataframe\">\n",
       "  <thead>\n",
       "    <tr style=\"text-align: right;\">\n",
       "      <th></th>\n",
       "      <th>type</th>\n",
       "      <th>nulls</th>\n",
       "      <th>dtype</th>\n",
       "      <th>nunique</th>\n",
       "      <th>unique_values</th>\n",
       "      <th>value_counts</th>\n",
       "    </tr>\n",
       "  </thead>\n",
       "  <tbody>\n",
       "    <tr>\n",
       "      <th>Fireplace Qu</th>\n",
       "      <td>Ordinal</td>\n",
       "      <td>1000</td>\n",
       "      <td>object</td>\n",
       "      <td>5</td>\n",
       "      <td>[nan, TA, Gd, Po, Ex, Fa]</td>\n",
       "      <td>Gd    523\n",
       "TA    407\n",
       "Fa     59\n",
       "Po     31\n",
       "Ex    ...</td>\n",
       "    </tr>\n",
       "  </tbody>\n",
       "</table>\n",
       "</div>"
      ],
      "text/plain": [
       "                 type  nulls   dtype  nunique              unique_values  \\\n",
       "Fireplace Qu  Ordinal   1000  object        5  [nan, TA, Gd, Po, Ex, Fa]   \n",
       "\n",
       "                                                   value_counts  \n",
       "Fireplace Qu  Gd    523\n",
       "TA    407\n",
       "Fa     59\n",
       "Po     31\n",
       "Ex    ...  "
      ]
     },
     "execution_count": 81,
     "metadata": {},
     "output_type": "execute_result"
    }
   ],
   "source": [
    "col_info('Fireplace Qu', 'Ordinal')"
   ]
  },
  {
   "cell_type": "markdown",
   "id": "0471eb34",
   "metadata": {},
   "source": [
    "       Ex\tExcellent - Exceptional Masonry Fireplace\n",
    "       Gd\tGood - Masonry Fireplace in main level\n",
    "       TA\tAverage - Prefabricated Fireplace in main living area or Masonry Fireplace in basement\n",
    "       Fa\tFair - Prefabricated Fireplace in basement\n",
    "       Po\tPoor - Ben Franklin Stove\n",
    "       NA\tNo Fireplace"
   ]
  },
  {
   "cell_type": "markdown",
   "id": "fddf288e",
   "metadata": {},
   "source": [
    "#### Garage Finish\n",
    "Interior finish of the garage"
   ]
  },
  {
   "cell_type": "code",
   "execution_count": 82,
   "id": "896f04c4",
   "metadata": {},
   "outputs": [
    {
     "data": {
      "text/html": [
       "<div>\n",
       "<style scoped>\n",
       "    .dataframe tbody tr th:only-of-type {\n",
       "        vertical-align: middle;\n",
       "    }\n",
       "\n",
       "    .dataframe tbody tr th {\n",
       "        vertical-align: top;\n",
       "    }\n",
       "\n",
       "    .dataframe thead th {\n",
       "        text-align: right;\n",
       "    }\n",
       "</style>\n",
       "<table border=\"1\" class=\"dataframe\">\n",
       "  <thead>\n",
       "    <tr style=\"text-align: right;\">\n",
       "      <th></th>\n",
       "      <th>type</th>\n",
       "      <th>nulls</th>\n",
       "      <th>dtype</th>\n",
       "      <th>nunique</th>\n",
       "      <th>unique_values</th>\n",
       "      <th>value_counts</th>\n",
       "    </tr>\n",
       "  </thead>\n",
       "  <tbody>\n",
       "    <tr>\n",
       "      <th>Garage Finish</th>\n",
       "      <td>Ordinal</td>\n",
       "      <td>114</td>\n",
       "      <td>object</td>\n",
       "      <td>3</td>\n",
       "      <td>[RFn, Unf, Fin, nan]</td>\n",
       "      <td>Unf    849\n",
       "RFn    579\n",
       "Fin    509\n",
       "Name: Garage ...</td>\n",
       "    </tr>\n",
       "  </tbody>\n",
       "</table>\n",
       "</div>"
      ],
      "text/plain": [
       "                  type  nulls   dtype  nunique         unique_values  \\\n",
       "Garage Finish  Ordinal    114  object        3  [RFn, Unf, Fin, nan]   \n",
       "\n",
       "                                                    value_counts  \n",
       "Garage Finish  Unf    849\n",
       "RFn    579\n",
       "Fin    509\n",
       "Name: Garage ...  "
      ]
     },
     "execution_count": 82,
     "metadata": {},
     "output_type": "execute_result"
    }
   ],
   "source": [
    "col_info('Garage Finish', 'Ordinal')"
   ]
  },
  {
   "cell_type": "markdown",
   "id": "b4594af6",
   "metadata": {},
   "source": [
    "       Fin\tFinished\n",
    "       RFn\tRough Finished\t\n",
    "       Unf\tUnfinished\n",
    "       NA\tNo Garage"
   ]
  },
  {
   "cell_type": "markdown",
   "id": "96af22e7",
   "metadata": {},
   "source": [
    "#### Garage Qual\n",
    "Garage quality"
   ]
  },
  {
   "cell_type": "code",
   "execution_count": 83,
   "id": "55cbaaa7",
   "metadata": {},
   "outputs": [
    {
     "data": {
      "text/html": [
       "<div>\n",
       "<style scoped>\n",
       "    .dataframe tbody tr th:only-of-type {\n",
       "        vertical-align: middle;\n",
       "    }\n",
       "\n",
       "    .dataframe tbody tr th {\n",
       "        vertical-align: top;\n",
       "    }\n",
       "\n",
       "    .dataframe thead th {\n",
       "        text-align: right;\n",
       "    }\n",
       "</style>\n",
       "<table border=\"1\" class=\"dataframe\">\n",
       "  <thead>\n",
       "    <tr style=\"text-align: right;\">\n",
       "      <th></th>\n",
       "      <th>type</th>\n",
       "      <th>nulls</th>\n",
       "      <th>dtype</th>\n",
       "      <th>nunique</th>\n",
       "      <th>unique_values</th>\n",
       "      <th>value_counts</th>\n",
       "    </tr>\n",
       "  </thead>\n",
       "  <tbody>\n",
       "    <tr>\n",
       "      <th>Garage Qual</th>\n",
       "      <td>Ordinal</td>\n",
       "      <td>114</td>\n",
       "      <td>object</td>\n",
       "      <td>5</td>\n",
       "      <td>[TA, Fa, nan, Gd, Ex, Po]</td>\n",
       "      <td>TA    1832\n",
       "Fa      82\n",
       "Gd      18\n",
       "Ex       3\n",
       "Po...</td>\n",
       "    </tr>\n",
       "  </tbody>\n",
       "</table>\n",
       "</div>"
      ],
      "text/plain": [
       "                type  nulls   dtype  nunique              unique_values  \\\n",
       "Garage Qual  Ordinal    114  object        5  [TA, Fa, nan, Gd, Ex, Po]   \n",
       "\n",
       "                                                  value_counts  \n",
       "Garage Qual  TA    1832\n",
       "Fa      82\n",
       "Gd      18\n",
       "Ex       3\n",
       "Po...  "
      ]
     },
     "execution_count": 83,
     "metadata": {},
     "output_type": "execute_result"
    }
   ],
   "source": [
    "col_info('Garage Qual', 'Ordinal')"
   ]
  },
  {
   "cell_type": "markdown",
   "id": "f55d082b",
   "metadata": {},
   "source": [
    "       Ex\tExcellent\n",
    "       Gd\tGood\n",
    "       TA\tTypical/Average\n",
    "       Fa\tFair\n",
    "       Po\tPoor\n",
    "       NA\tNo Garage"
   ]
  },
  {
   "cell_type": "markdown",
   "id": "37ba6a45",
   "metadata": {},
   "source": [
    "#### Garage Cond\n",
    "Garage condition"
   ]
  },
  {
   "cell_type": "code",
   "execution_count": 84,
   "id": "67f1ea35",
   "metadata": {},
   "outputs": [
    {
     "data": {
      "text/html": [
       "<div>\n",
       "<style scoped>\n",
       "    .dataframe tbody tr th:only-of-type {\n",
       "        vertical-align: middle;\n",
       "    }\n",
       "\n",
       "    .dataframe tbody tr th {\n",
       "        vertical-align: top;\n",
       "    }\n",
       "\n",
       "    .dataframe thead th {\n",
       "        text-align: right;\n",
       "    }\n",
       "</style>\n",
       "<table border=\"1\" class=\"dataframe\">\n",
       "  <thead>\n",
       "    <tr style=\"text-align: right;\">\n",
       "      <th></th>\n",
       "      <th>type</th>\n",
       "      <th>nulls</th>\n",
       "      <th>dtype</th>\n",
       "      <th>nunique</th>\n",
       "      <th>unique_values</th>\n",
       "      <th>value_counts</th>\n",
       "    </tr>\n",
       "  </thead>\n",
       "  <tbody>\n",
       "    <tr>\n",
       "      <th>Garage Cond</th>\n",
       "      <td>Ordinal</td>\n",
       "      <td>114</td>\n",
       "      <td>object</td>\n",
       "      <td>5</td>\n",
       "      <td>[TA, Fa, nan, Po, Gd, Ex]</td>\n",
       "      <td>TA    1868\n",
       "Fa      47\n",
       "Gd      12\n",
       "Po       8\n",
       "Ex...</td>\n",
       "    </tr>\n",
       "  </tbody>\n",
       "</table>\n",
       "</div>"
      ],
      "text/plain": [
       "                type  nulls   dtype  nunique              unique_values  \\\n",
       "Garage Cond  Ordinal    114  object        5  [TA, Fa, nan, Po, Gd, Ex]   \n",
       "\n",
       "                                                  value_counts  \n",
       "Garage Cond  TA    1868\n",
       "Fa      47\n",
       "Gd      12\n",
       "Po       8\n",
       "Ex...  "
      ]
     },
     "execution_count": 84,
     "metadata": {},
     "output_type": "execute_result"
    }
   ],
   "source": [
    "col_info('Garage Cond', 'Ordinal')"
   ]
  },
  {
   "cell_type": "markdown",
   "id": "3f4cb133",
   "metadata": {},
   "source": [
    "       Ex\tExcellent\n",
    "       Gd\tGood\n",
    "       TA\tTypical/Average\n",
    "       Fa\tFair\n",
    "       Po\tPoor\n",
    "       NA\tNo Garage"
   ]
  },
  {
   "cell_type": "markdown",
   "id": "f2fc0c47",
   "metadata": {},
   "source": [
    "#### Paved Drive\n",
    "Paved driveway"
   ]
  },
  {
   "cell_type": "code",
   "execution_count": 85,
   "id": "aa580874",
   "metadata": {},
   "outputs": [
    {
     "data": {
      "text/html": [
       "<div>\n",
       "<style scoped>\n",
       "    .dataframe tbody tr th:only-of-type {\n",
       "        vertical-align: middle;\n",
       "    }\n",
       "\n",
       "    .dataframe tbody tr th {\n",
       "        vertical-align: top;\n",
       "    }\n",
       "\n",
       "    .dataframe thead th {\n",
       "        text-align: right;\n",
       "    }\n",
       "</style>\n",
       "<table border=\"1\" class=\"dataframe\">\n",
       "  <thead>\n",
       "    <tr style=\"text-align: right;\">\n",
       "      <th></th>\n",
       "      <th>type</th>\n",
       "      <th>nulls</th>\n",
       "      <th>dtype</th>\n",
       "      <th>nunique</th>\n",
       "      <th>unique_values</th>\n",
       "      <th>value_counts</th>\n",
       "    </tr>\n",
       "  </thead>\n",
       "  <tbody>\n",
       "    <tr>\n",
       "      <th>Paved Drive</th>\n",
       "      <td>Ordinal</td>\n",
       "      <td>0</td>\n",
       "      <td>object</td>\n",
       "      <td>3</td>\n",
       "      <td>[Y, N, P]</td>\n",
       "      <td>Y    1861\n",
       "N     151\n",
       "P      39\n",
       "Name: Paved Driv...</td>\n",
       "    </tr>\n",
       "  </tbody>\n",
       "</table>\n",
       "</div>"
      ],
      "text/plain": [
       "                type  nulls   dtype  nunique unique_values  \\\n",
       "Paved Drive  Ordinal      0  object        3     [Y, N, P]   \n",
       "\n",
       "                                                  value_counts  \n",
       "Paved Drive  Y    1861\n",
       "N     151\n",
       "P      39\n",
       "Name: Paved Driv...  "
      ]
     },
     "execution_count": 85,
     "metadata": {},
     "output_type": "execute_result"
    }
   ],
   "source": [
    "col_info('Paved Drive', 'Ordinal')"
   ]
  },
  {
   "cell_type": "markdown",
   "id": "16433def",
   "metadata": {},
   "source": [
    "       Y\tPaved \n",
    "       P\tPartial Pavement\n",
    "       N\tDirt/Gravel"
   ]
  },
  {
   "cell_type": "markdown",
   "id": "46ed11b9",
   "metadata": {},
   "source": [
    "#### Pool Qc\n",
    "Pool quality"
   ]
  },
  {
   "cell_type": "code",
   "execution_count": 86,
   "id": "c0d1c549",
   "metadata": {},
   "outputs": [
    {
     "data": {
      "text/html": [
       "<div>\n",
       "<style scoped>\n",
       "    .dataframe tbody tr th:only-of-type {\n",
       "        vertical-align: middle;\n",
       "    }\n",
       "\n",
       "    .dataframe tbody tr th {\n",
       "        vertical-align: top;\n",
       "    }\n",
       "\n",
       "    .dataframe thead th {\n",
       "        text-align: right;\n",
       "    }\n",
       "</style>\n",
       "<table border=\"1\" class=\"dataframe\">\n",
       "  <thead>\n",
       "    <tr style=\"text-align: right;\">\n",
       "      <th></th>\n",
       "      <th>type</th>\n",
       "      <th>nulls</th>\n",
       "      <th>dtype</th>\n",
       "      <th>nunique</th>\n",
       "      <th>unique_values</th>\n",
       "      <th>value_counts</th>\n",
       "    </tr>\n",
       "  </thead>\n",
       "  <tbody>\n",
       "    <tr>\n",
       "      <th>Pool QC</th>\n",
       "      <td>Ordinal</td>\n",
       "      <td>2042</td>\n",
       "      <td>object</td>\n",
       "      <td>4</td>\n",
       "      <td>[nan, Fa, Gd, Ex, TA]</td>\n",
       "      <td>Gd    4\n",
       "Fa    2\n",
       "TA    2\n",
       "Ex    1\n",
       "Name: Pool QC,...</td>\n",
       "    </tr>\n",
       "  </tbody>\n",
       "</table>\n",
       "</div>"
      ],
      "text/plain": [
       "            type  nulls   dtype  nunique          unique_values  \\\n",
       "Pool QC  Ordinal   2042  object        4  [nan, Fa, Gd, Ex, TA]   \n",
       "\n",
       "                                              value_counts  \n",
       "Pool QC  Gd    4\n",
       "Fa    2\n",
       "TA    2\n",
       "Ex    1\n",
       "Name: Pool QC,...  "
      ]
     },
     "execution_count": 86,
     "metadata": {},
     "output_type": "execute_result"
    }
   ],
   "source": [
    "col_info('Pool QC', 'Ordinal')"
   ]
  },
  {
   "cell_type": "markdown",
   "id": "34dd3971",
   "metadata": {},
   "source": [
    "       Ex\tExcellent\n",
    "       Gd\tGood\n",
    "       TA\tAverage/Typical\n",
    "       Fa\tFair\n",
    "       NA\tNo Pool"
   ]
  },
  {
   "cell_type": "markdown",
   "id": "bae12f51",
   "metadata": {},
   "source": [
    "#### Fence\n",
    "Fence quality"
   ]
  },
  {
   "cell_type": "code",
   "execution_count": 87,
   "id": "4f744856",
   "metadata": {},
   "outputs": [
    {
     "data": {
      "text/html": [
       "<div>\n",
       "<style scoped>\n",
       "    .dataframe tbody tr th:only-of-type {\n",
       "        vertical-align: middle;\n",
       "    }\n",
       "\n",
       "    .dataframe tbody tr th {\n",
       "        vertical-align: top;\n",
       "    }\n",
       "\n",
       "    .dataframe thead th {\n",
       "        text-align: right;\n",
       "    }\n",
       "</style>\n",
       "<table border=\"1\" class=\"dataframe\">\n",
       "  <thead>\n",
       "    <tr style=\"text-align: right;\">\n",
       "      <th></th>\n",
       "      <th>type</th>\n",
       "      <th>nulls</th>\n",
       "      <th>dtype</th>\n",
       "      <th>nunique</th>\n",
       "      <th>unique_values</th>\n",
       "      <th>value_counts</th>\n",
       "    </tr>\n",
       "  </thead>\n",
       "  <tbody>\n",
       "    <tr>\n",
       "      <th>Fence</th>\n",
       "      <td>Ordinal</td>\n",
       "      <td>1651</td>\n",
       "      <td>object</td>\n",
       "      <td>4</td>\n",
       "      <td>[nan, MnPrv, GdPrv, GdWo, MnWw]</td>\n",
       "      <td>MnPrv    227\n",
       "GdPrv     83\n",
       "GdWo      80\n",
       "MnWw   ...</td>\n",
       "    </tr>\n",
       "  </tbody>\n",
       "</table>\n",
       "</div>"
      ],
      "text/plain": [
       "          type  nulls   dtype  nunique                    unique_values  \\\n",
       "Fence  Ordinal   1651  object        4  [nan, MnPrv, GdPrv, GdWo, MnWw]   \n",
       "\n",
       "                                            value_counts  \n",
       "Fence  MnPrv    227\n",
       "GdPrv     83\n",
       "GdWo      80\n",
       "MnWw   ...  "
      ]
     },
     "execution_count": 87,
     "metadata": {},
     "output_type": "execute_result"
    }
   ],
   "source": [
    "col_info('Fence', 'Ordinal')"
   ]
  },
  {
   "cell_type": "markdown",
   "id": "ce8ff844",
   "metadata": {},
   "source": [
    "       GdPrv\tGood Privacy\n",
    "       MnPrv\tMinimum Privacy\n",
    "       GdWo\tGood Wood\n",
    "       MnWw\tMinimum Wood/Wire\n",
    "       NA\tNo Fence"
   ]
  },
  {
   "cell_type": "markdown",
   "id": "3a9d7d1f",
   "metadata": {},
   "source": [
    "## Continuous\n",
    "1. Lot Frontage\n",
    "2. Lot Area\n",
    "3. Mas Vnr Area\n",
    "4. Bsmt Fin SF 1\n",
    "5. Bsmt Unf SF\n",
    "6. Total Bsmt SF\n",
    "7. 1st Flr SF\n",
    "8. 2nd Floor SF\n",
    "9. Low Qual Fin SF\n",
    "10. Gr Liv Area\n",
    "11. Garage Area\n",
    "12. Wood Deck SF\n",
    "13. Open Porch SF\n",
    "14. Enclosed Porch \n",
    "15. 3-San Porch\n",
    "16. Screen Porch\n",
    "17. Pool Area\n",
    "18. Misc Val "
   ]
  },
  {
   "cell_type": "code",
   "execution_count": 111,
   "id": "5203e62f",
   "metadata": {},
   "outputs": [],
   "source": [
    "def plot_continuous_feature(col):\n",
    "#     print('Corrcoef:', find_corr(col))\n",
    "    fig, ax = plt.subplots(2, 1, figsize=(16, 14))\n",
    "\n",
    "    ax[0].hist(df[col])\n",
    "    ax[0].set_xlabel(col, fontsize=13)\n",
    "    ax[0].set_ylabel('Freq of ' + col)\n",
    "    ax[0].set_title(col + ' Distribution', \n",
    "                    fontweight='bold', \n",
    "                    color='firebrick', \n",
    "                    pad=18, \n",
    "                    loc='left')\n",
    "    \n",
    "    ax[1].scatter(df[col], df['SalePrice'])\n",
    "    ax[1].set_xlabel(col, fontsize=13)        \n",
    "    ax[1].set_ylabel('Sale Price')\n",
    "    ax[1].set_title(col + ' vs. Sale Price', \n",
    "                fontweight='bold', \n",
    "                color='firebrick', \n",
    "                pad=18, \n",
    "                loc='left')\n",
    "    "
   ]
  },
  {
   "cell_type": "markdown",
   "id": "33aebdc2",
   "metadata": {},
   "source": [
    "#### Lot Frontage"
   ]
  },
  {
   "cell_type": "code",
   "execution_count": 89,
   "id": "43a5c464",
   "metadata": {},
   "outputs": [
    {
     "data": {
      "text/html": [
       "<div>\n",
       "<style scoped>\n",
       "    .dataframe tbody tr th:only-of-type {\n",
       "        vertical-align: middle;\n",
       "    }\n",
       "\n",
       "    .dataframe tbody tr th {\n",
       "        vertical-align: top;\n",
       "    }\n",
       "\n",
       "    .dataframe thead th {\n",
       "        text-align: right;\n",
       "    }\n",
       "</style>\n",
       "<table border=\"1\" class=\"dataframe\">\n",
       "  <thead>\n",
       "    <tr style=\"text-align: right;\">\n",
       "      <th></th>\n",
       "      <th>type</th>\n",
       "      <th>nulls</th>\n",
       "      <th>dtype</th>\n",
       "      <th>nunique</th>\n",
       "      <th>unique_values</th>\n",
       "      <th>value_counts</th>\n",
       "    </tr>\n",
       "  </thead>\n",
       "  <tbody>\n",
       "    <tr>\n",
       "      <th>Lot Frontage</th>\n",
       "      <td>Continuous</td>\n",
       "      <td>330</td>\n",
       "      <td>float64</td>\n",
       "      <td>118</td>\n",
       "      <td>[nan, 43.0, 68.0, 73.0, 82.0, 137.0, 35.0, 70....</td>\n",
       "      <td>60.0     179\n",
       "70.0      96\n",
       "80.0      94\n",
       "50.0   ...</td>\n",
       "    </tr>\n",
       "  </tbody>\n",
       "</table>\n",
       "</div>"
      ],
      "text/plain": [
       "                    type  nulls    dtype  nunique  \\\n",
       "Lot Frontage  Continuous    330  float64      118   \n",
       "\n",
       "                                                  unique_values  \\\n",
       "Lot Frontage  [nan, 43.0, 68.0, 73.0, 82.0, 137.0, 35.0, 70....   \n",
       "\n",
       "                                                   value_counts  \n",
       "Lot Frontage  60.0     179\n",
       "70.0      96\n",
       "80.0      94\n",
       "50.0   ...  "
      ]
     },
     "execution_count": 89,
     "metadata": {},
     "output_type": "execute_result"
    }
   ],
   "source": [
    "col_info('Lot Frontage', 'Continuous')"
   ]
  },
  {
   "cell_type": "code",
   "execution_count": 112,
   "id": "bf88fc31",
   "metadata": {},
   "outputs": [
    {
     "data": {
      "image/png": "[encoded data removed]",
      "text/plain": [
       "<Figure size 1152x1008 with 2 Axes>"
      ]
     },
     "metadata": {
      "needs_background": "light"
     },
     "output_type": "display_data"
    }
   ],
   "source": [
    "plot_continuous_feature('Lot Frontage')"
   ]
  },
  {
   "cell_type": "markdown",
   "id": "ba7c363f",
   "metadata": {},
   "source": [
    "#### Lot Area"
   ]
  },
  {
   "cell_type": "code",
   "execution_count": 91,
   "id": "0f25525b",
   "metadata": {},
   "outputs": [
    {
     "data": {
      "text/html": [
       "<div>\n",
       "<style scoped>\n",
       "    .dataframe tbody tr th:only-of-type {\n",
       "        vertical-align: middle;\n",
       "    }\n",
       "\n",
       "    .dataframe tbody tr th {\n",
       "        vertical-align: top;\n",
       "    }\n",
       "\n",
       "    .dataframe thead th {\n",
       "        text-align: right;\n",
       "    }\n",
       "</style>\n",
       "<table border=\"1\" class=\"dataframe\">\n",
       "  <thead>\n",
       "    <tr style=\"text-align: right;\">\n",
       "      <th></th>\n",
       "      <th>type</th>\n",
       "      <th>nulls</th>\n",
       "      <th>dtype</th>\n",
       "      <th>nunique</th>\n",
       "      <th>unique_values</th>\n",
       "      <th>value_counts</th>\n",
       "    </tr>\n",
       "  </thead>\n",
       "  <tbody>\n",
       "    <tr>\n",
       "      <th>Lot Area</th>\n",
       "      <td>Continuous</td>\n",
       "      <td>0</td>\n",
       "      <td>int64</td>\n",
       "      <td>1476</td>\n",
       "      <td>[13517, 11492, 7922, 9802, 14235, 16492, 3675,...</td>\n",
       "      <td>9600     34\n",
       "7200     27\n",
       "6000     26\n",
       "10800    1...</td>\n",
       "    </tr>\n",
       "  </tbody>\n",
       "</table>\n",
       "</div>"
      ],
      "text/plain": [
       "                type  nulls  dtype  nunique  \\\n",
       "Lot Area  Continuous      0  int64     1476   \n",
       "\n",
       "                                              unique_values  \\\n",
       "Lot Area  [13517, 11492, 7922, 9802, 14235, 16492, 3675,...   \n",
       "\n",
       "                                               value_counts  \n",
       "Lot Area  9600     34\n",
       "7200     27\n",
       "6000     26\n",
       "10800    1...  "
      ]
     },
     "execution_count": 91,
     "metadata": {},
     "output_type": "execute_result"
    }
   ],
   "source": [
    "col_info('Lot Area', 'Continuous')"
   ]
  },
  {
   "cell_type": "code",
   "execution_count": 92,
   "id": "90faf8e3",
   "metadata": {
    "scrolled": false
   },
   "outputs": [],
   "source": [
    "# plot_continuous_feature('Lot Area')"
   ]
  },
  {
   "cell_type": "markdown",
   "id": "b36b969d",
   "metadata": {},
   "source": [
    "#### Mas Vnr Area"
   ]
  },
  {
   "cell_type": "code",
   "execution_count": 93,
   "id": "d0e80843",
   "metadata": {},
   "outputs": [
    {
     "data": {
      "text/html": [
       "<div>\n",
       "<style scoped>\n",
       "    .dataframe tbody tr th:only-of-type {\n",
       "        vertical-align: middle;\n",
       "    }\n",
       "\n",
       "    .dataframe tbody tr th {\n",
       "        vertical-align: top;\n",
       "    }\n",
       "\n",
       "    .dataframe thead th {\n",
       "        text-align: right;\n",
       "    }\n",
       "</style>\n",
       "<table border=\"1\" class=\"dataframe\">\n",
       "  <thead>\n",
       "    <tr style=\"text-align: right;\">\n",
       "      <th></th>\n",
       "      <th>type</th>\n",
       "      <th>nulls</th>\n",
       "      <th>dtype</th>\n",
       "      <th>nunique</th>\n",
       "      <th>unique_values</th>\n",
       "      <th>value_counts</th>\n",
       "    </tr>\n",
       "  </thead>\n",
       "  <tbody>\n",
       "    <tr>\n",
       "      <th>Mas Vnr Area</th>\n",
       "      <td>Continuous</td>\n",
       "      <td>22</td>\n",
       "      <td>float64</td>\n",
       "      <td>373</td>\n",
       "      <td>[289.0, 132.0, 0.0, 82.0, 180.0, 192.0, 232.0,...</td>\n",
       "      <td>0.0      1216\n",
       "120.0      11\n",
       "176.0      10\n",
       "200....</td>\n",
       "    </tr>\n",
       "  </tbody>\n",
       "</table>\n",
       "</div>"
      ],
      "text/plain": [
       "                    type  nulls    dtype  nunique  \\\n",
       "Mas Vnr Area  Continuous     22  float64      373   \n",
       "\n",
       "                                                  unique_values  \\\n",
       "Mas Vnr Area  [289.0, 132.0, 0.0, 82.0, 180.0, 192.0, 232.0,...   \n",
       "\n",
       "                                                   value_counts  \n",
       "Mas Vnr Area  0.0      1216\n",
       "120.0      11\n",
       "176.0      10\n",
       "200....  "
      ]
     },
     "execution_count": 93,
     "metadata": {},
     "output_type": "execute_result"
    }
   ],
   "source": [
    "col_info('Mas Vnr Area', 'Continuous')"
   ]
  },
  {
   "cell_type": "code",
   "execution_count": 94,
   "id": "035e3a02",
   "metadata": {},
   "outputs": [],
   "source": [
    "# plot_continuous_feature('Mas Vnr Area')"
   ]
  },
  {
   "cell_type": "markdown",
   "id": "9b8795e7",
   "metadata": {},
   "source": [
    "#### BsmtFin SF 1"
   ]
  },
  {
   "cell_type": "code",
   "execution_count": 95,
   "id": "13d78da4",
   "metadata": {},
   "outputs": [
    {
     "data": {
      "text/html": [
       "<div>\n",
       "<style scoped>\n",
       "    .dataframe tbody tr th:only-of-type {\n",
       "        vertical-align: middle;\n",
       "    }\n",
       "\n",
       "    .dataframe tbody tr th {\n",
       "        vertical-align: top;\n",
       "    }\n",
       "\n",
       "    .dataframe thead th {\n",
       "        text-align: right;\n",
       "    }\n",
       "</style>\n",
       "<table border=\"1\" class=\"dataframe\">\n",
       "  <thead>\n",
       "    <tr style=\"text-align: right;\">\n",
       "      <th></th>\n",
       "      <th>type</th>\n",
       "      <th>nulls</th>\n",
       "      <th>dtype</th>\n",
       "      <th>nunique</th>\n",
       "      <th>unique_values</th>\n",
       "      <th>value_counts</th>\n",
       "    </tr>\n",
       "  </thead>\n",
       "  <tbody>\n",
       "    <tr>\n",
       "      <th>BsmtFin SF 1</th>\n",
       "      <td>Continuous</td>\n",
       "      <td>1</td>\n",
       "      <td>float64</td>\n",
       "      <td>821</td>\n",
       "      <td>[533.0, 637.0, 731.0, 0.0, 247.0, 547.0, 1000....</td>\n",
       "      <td>0.0       657\n",
       "24.0       17\n",
       "16.0       10\n",
       "384....</td>\n",
       "    </tr>\n",
       "  </tbody>\n",
       "</table>\n",
       "</div>"
      ],
      "text/plain": [
       "                    type  nulls    dtype  nunique  \\\n",
       "BsmtFin SF 1  Continuous      1  float64      821   \n",
       "\n",
       "                                                  unique_values  \\\n",
       "BsmtFin SF 1  [533.0, 637.0, 731.0, 0.0, 247.0, 547.0, 1000....   \n",
       "\n",
       "                                                   value_counts  \n",
       "BsmtFin SF 1  0.0       657\n",
       "24.0       17\n",
       "16.0       10\n",
       "384....  "
      ]
     },
     "execution_count": 95,
     "metadata": {},
     "output_type": "execute_result"
    }
   ],
   "source": [
    "col_info('BsmtFin SF 1', 'Continuous')"
   ]
  },
  {
   "cell_type": "markdown",
   "id": "5d76458a",
   "metadata": {},
   "source": [
    "#### Bsmt Unf SF"
   ]
  },
  {
   "cell_type": "code",
   "execution_count": 96,
   "id": "cfa98df1",
   "metadata": {},
   "outputs": [
    {
     "data": {
      "text/html": [
       "<div>\n",
       "<style scoped>\n",
       "    .dataframe tbody tr th:only-of-type {\n",
       "        vertical-align: middle;\n",
       "    }\n",
       "\n",
       "    .dataframe tbody tr th {\n",
       "        vertical-align: top;\n",
       "    }\n",
       "\n",
       "    .dataframe thead th {\n",
       "        text-align: right;\n",
       "    }\n",
       "</style>\n",
       "<table border=\"1\" class=\"dataframe\">\n",
       "  <thead>\n",
       "    <tr style=\"text-align: right;\">\n",
       "      <th></th>\n",
       "      <th>type</th>\n",
       "      <th>nulls</th>\n",
       "      <th>dtype</th>\n",
       "      <th>nunique</th>\n",
       "      <th>unique_values</th>\n",
       "      <th>value_counts</th>\n",
       "    </tr>\n",
       "  </thead>\n",
       "  <tbody>\n",
       "    <tr>\n",
       "      <th>Bsmt Unf SF</th>\n",
       "      <td>Continuous</td>\n",
       "      <td>1</td>\n",
       "      <td>float64</td>\n",
       "      <td>967</td>\n",
       "      <td>[192.0, 276.0, 326.0, 384.0, 676.0, 557.0, 0.0...</td>\n",
       "      <td>0.0      165\n",
       "384.0     14\n",
       "672.0     11\n",
       "728.0  ...</td>\n",
       "    </tr>\n",
       "  </tbody>\n",
       "</table>\n",
       "</div>"
      ],
      "text/plain": [
       "                   type  nulls    dtype  nunique  \\\n",
       "Bsmt Unf SF  Continuous      1  float64      967   \n",
       "\n",
       "                                                 unique_values  \\\n",
       "Bsmt Unf SF  [192.0, 276.0, 326.0, 384.0, 676.0, 557.0, 0.0...   \n",
       "\n",
       "                                                  value_counts  \n",
       "Bsmt Unf SF  0.0      165\n",
       "384.0     14\n",
       "672.0     11\n",
       "728.0  ...  "
      ]
     },
     "execution_count": 96,
     "metadata": {},
     "output_type": "execute_result"
    }
   ],
   "source": [
    "col_info('Bsmt Unf SF', 'Continuous')"
   ]
  },
  {
   "cell_type": "code",
   "execution_count": 97,
   "id": "a999ea34",
   "metadata": {},
   "outputs": [],
   "source": [
    "# plot_continuous_feature('Bsmt Unf SF')"
   ]
  },
  {
   "cell_type": "markdown",
   "id": "d89b45d6",
   "metadata": {},
   "source": [
    "#### Total Bsmt SF"
   ]
  },
  {
   "cell_type": "code",
   "execution_count": 98,
   "id": "c23048ab",
   "metadata": {},
   "outputs": [
    {
     "data": {
      "text/html": [
       "<div>\n",
       "<style scoped>\n",
       "    .dataframe tbody tr th:only-of-type {\n",
       "        vertical-align: middle;\n",
       "    }\n",
       "\n",
       "    .dataframe tbody tr th {\n",
       "        vertical-align: top;\n",
       "    }\n",
       "\n",
       "    .dataframe thead th {\n",
       "        text-align: right;\n",
       "    }\n",
       "</style>\n",
       "<table border=\"1\" class=\"dataframe\">\n",
       "  <thead>\n",
       "    <tr style=\"text-align: right;\">\n",
       "      <th></th>\n",
       "      <th>type</th>\n",
       "      <th>nulls</th>\n",
       "      <th>dtype</th>\n",
       "      <th>nunique</th>\n",
       "      <th>unique_values</th>\n",
       "      <th>value_counts</th>\n",
       "    </tr>\n",
       "  </thead>\n",
       "  <tbody>\n",
       "    <tr>\n",
       "      <th>Total Bsmt SF</th>\n",
       "      <td>Continuous</td>\n",
       "      <td>1</td>\n",
       "      <td>float64</td>\n",
       "      <td>892</td>\n",
       "      <td>[725.0, 913.0, 1057.0, 384.0, 676.0, 1517.0, 5...</td>\n",
       "      <td>0.0       54\n",
       "864.0     51\n",
       "672.0     20\n",
       "1040.0 ...</td>\n",
       "    </tr>\n",
       "  </tbody>\n",
       "</table>\n",
       "</div>"
      ],
      "text/plain": [
       "                     type  nulls    dtype  nunique  \\\n",
       "Total Bsmt SF  Continuous      1  float64      892   \n",
       "\n",
       "                                                   unique_values  \\\n",
       "Total Bsmt SF  [725.0, 913.0, 1057.0, 384.0, 676.0, 1517.0, 5...   \n",
       "\n",
       "                                                    value_counts  \n",
       "Total Bsmt SF  0.0       54\n",
       "864.0     51\n",
       "672.0     20\n",
       "1040.0 ...  "
      ]
     },
     "execution_count": 98,
     "metadata": {},
     "output_type": "execute_result"
    }
   ],
   "source": [
    "col_info('Total Bsmt SF', 'Continuous')"
   ]
  },
  {
   "cell_type": "code",
   "execution_count": 99,
   "id": "2a3aa50b",
   "metadata": {},
   "outputs": [],
   "source": [
    "# plot_continuous_feature('Total Bsmt SF')"
   ]
  },
  {
   "cell_type": "markdown",
   "id": "fd162486",
   "metadata": {},
   "source": [
    "#### 1st Flr SF"
   ]
  },
  {
   "cell_type": "code",
   "execution_count": 103,
   "id": "39fbfe47",
   "metadata": {},
   "outputs": [],
   "source": [
    "cont_vars = ['Lot Frontage', 'Lot Area', 'Mas Vnr Area', 'BsmtFin SF 1', 'Bsmt Unf SF', 'Total Bsmt SF', \n",
    "              '1st Flr SF',  '2nd Flr SF', 'Low Qual Fin SF', 'Gr Liv Area', 'Garage Area', 'Wood Deck SF', \n",
    "              'Open Porch SF', 'Enclosed Porch', '3Ssn Porch', 'Screen Porch', 'Pool Area', 'Misc Val']"
   ]
  },
  {
   "cell_type": "code",
   "execution_count": 104,
   "id": "fa56db99",
   "metadata": {},
   "outputs": [],
   "source": [
    "# for i in cont_vars:\n",
    "#     print(corrco(i))"
   ]
  },
  {
   "cell_type": "code",
   "execution_count": 106,
   "id": "51585d74",
   "metadata": {
    "scrolled": false
   },
   "outputs": [],
   "source": [
    "# for i in cont_vars:\n",
    "#     plot_continuous_feature(i)"
   ]
  },
  {
   "cell_type": "code",
   "execution_count": null,
   "id": "aa3d14fb",
   "metadata": {},
   "outputs": [],
   "source": [
    "for i in df.columns.sort_values():\n",
    "    print(i)"
   ]
  },
  {
   "cell_type": "markdown",
   "id": "368da5e0",
   "metadata": {},
   "source": [
    "---"
   ]
  },
  {
   "cell_type": "code",
   "execution_count": null,
   "id": "f8097246",
   "metadata": {},
   "outputs": [],
   "source": []
  },
  {
   "cell_type": "code",
   "execution_count": null,
   "id": "6df9648c",
   "metadata": {},
   "outputs": [],
   "source": []
  },
  {
   "cell_type": "code",
   "execution_count": null,
   "id": "35c949bd",
   "metadata": {},
   "outputs": [],
   "source": []
  },
  {
   "cell_type": "code",
   "execution_count": null,
   "id": "360a0fdc",
   "metadata": {},
   "outputs": [],
   "source": [
    "[str(num) for num in df['Lot Shape'].unique()]"
   ]
  },
  {
   "cell_type": "code",
   "execution_count": null,
   "id": "bbd183ee",
   "metadata": {},
   "outputs": [],
   "source": [
    "fix, ax = plt.subplots(3, 1, figsize=(16, 20))\n",
    "\n",
    "ax[0].bar(x = [str(num) for num in sorted(df[feature].unique())], \n",
    "          height = df[feature].value_counts(normalize=True).sort_index())\n",
    "ax[0].set_ylabel('Freq of ' + feature, fontsize=13)\n",
    "ax[0].set_title('Frequency of Each ' + feature, \n",
    "                fontweight='bold', \n",
    "                color='firebrick', \n",
    "                pad=18, \n",
    "                loc='left')"
   ]
  },
  {
   "cell_type": "code",
   "execution_count": null,
   "id": "1cb68f0b",
   "metadata": {},
   "outputs": [],
   "source": [
    "def plot_nominal_feature(feature):    \n",
    "    fix, ax = plt.subplots(3, 1, figsize=(16, 20))\n",
    "\n",
    "    ax[0].bar(x = [str(num) for num in sorted(df[feature].unique())], \n",
    "              height = df[feature].value_counts(normalize=True).sort_index())\n",
    "    ax[0].set_ylabel('Freq of ' + feature, fontsize=13)\n",
    "    ax[0].set_title('Frequency of Each ' + feature, \n",
    "                    fontweight='bold', \n",
    "                    color='firebrick', \n",
    "                    pad=18, \n",
    "                    loc='left')\n",
    "    \n",
    "    ax[1].bar(x = [str(num) for num in sorted(df[feature].unique())], \n",
    "              height = df.groupby([feature])['SalePrice'].mean())\n",
    "    ax[1].set_ylabel('Avg Sale Price', fontsize=13)\n",
    "    ax[1].set_title('Average Sale Price for ' + feature, \n",
    "                    fontsize=13, \n",
    "                    fontweight='bold', \n",
    "                    color='firebrick', \n",
    "                    pad=18, \n",
    "                    loc='left')\n",
    "\n",
    "    df.boxplot(column=['SalePrice'], by=feature, ax=ax[2])\n",
    "    ax[2].set_ylabel('Sale Price', fontsize=13)\n",
    "    ax[2].set_title('Sale Price for each ' + feature, \n",
    "                    fontsize=13, \n",
    "                    fontweight='bold', \n",
    "                    color='firebrick', \n",
    "                    pad=18, \n",
    "                    loc='left');"
   ]
  },
  {
   "cell_type": "markdown",
   "id": "e950933b",
   "metadata": {},
   "source": [
    "---\n",
    "---"
   ]
  },
  {
   "cell_type": "code",
   "execution_count": null,
   "id": "58766c62",
   "metadata": {},
   "outputs": [],
   "source": [
    "# fix, ax = plt.subplots(3, 1, figsize=(16, 20))\n",
    "\n",
    "# ax[0].bar(x = [str(num) for num in sorted(df['MS SubClass'].unique())], \n",
    "#           height = df['MS SubClass'].value_counts(normalize=True).sort_index())\n",
    "# ax[0].set_ylabel('Freq of MS SubClass', fontsize=13)\n",
    "# ax[0].set_title('Frequency of Each MS SubClass', \n",
    "#                 fontweight='bold', \n",
    "#                 color='firebrick', \n",
    "#                 pad=18, \n",
    "#                 loc='left')\n",
    "\n",
    "# ax[1].bar(x = [str(num) for num in sorted(df['MS SubClass'].unique())], \n",
    "#           height = df.groupby(['MS SubClass'])['SalePrice'].mean(), \n",
    "#           width = 0.5)\n",
    "# ax[1].set_ylabel('Sale Price', fontsize=13)\n",
    "# ax[1].set_title('Average Sale Price for Each MS SubClass', \n",
    "#                 fontsize=13, \n",
    "#                 fontweight='bold', \n",
    "#                 color='firebrick', \n",
    "#                 pad=18, \n",
    "#                 loc='left')\n",
    "\n",
    "# df.boxplot(column=['SalePrice'], by='MS SubClass', ax=ax[2])\n",
    "# ax[2].set_ylabel('Sale Price', fontsize=13)\n",
    "# ax[2].set_title('Sale Price for each MS SubClass', \n",
    "#                 fontsize=13, \n",
    "#                 fontweight='bold', \n",
    "#                 color='firebrick', \n",
    "#                 pad=18, \n",
    "#                 loc='left');"
   ]
  },
  {
   "cell_type": "markdown",
   "id": "b0426f31",
   "metadata": {},
   "source": [
    "---"
   ]
  },
  {
   "cell_type": "code",
   "execution_count": null,
   "id": "ae587336",
   "metadata": {},
   "outputs": [],
   "source": [
    "import numpy as np\n",
    "import pandas as pd\n",
    "\n",
    "from matplotlib import pyplot as plt\n",
    "import seaborn as sns\n",
    "\n",
    "from sklearn.metrics import mean_squared_error\n",
    "from sklearn import linear_model, datasets"
   ]
  },
  {
   "cell_type": "markdown",
   "id": "c0ba58c6",
   "metadata": {},
   "source": [
    "Seaborn Joint Plot"
   ]
  },
  {
   "cell_type": "code",
   "execution_count": null,
   "id": "e318cb4e",
   "metadata": {
    "scrolled": false
   },
   "outputs": [],
   "source": [
    "sns.jointplot(x=df['MS SubClass'], \n",
    "              y=df['SalePrice']);"
   ]
  },
  {
   "cell_type": "markdown",
   "id": "d11f6279",
   "metadata": {},
   "source": [
    "Fitting linear Regression Models predicting `Price` target vector from feature"
   ]
  },
  {
   "cell_type": "code",
   "execution_count": null,
   "id": "1a9ef720",
   "metadata": {},
   "outputs": [],
   "source": [
    "np.array(df['SalePrice'])"
   ]
  },
  {
   "cell_type": "code",
   "execution_count": null,
   "id": "5adc4bff",
   "metadata": {},
   "outputs": [],
   "source": [
    "# 1. Data \n",
    "X = df[['MS SubClass']]\n",
    "y = df['SalePrice']\n",
    "\n",
    "# 2. Instance of Model \n",
    "lm = linear_model.LinearRegression()\n",
    "\n",
    "# 3. train/fit model to data \n",
    "lm.fit(X, y)"
   ]
  },
  {
   "cell_type": "markdown",
   "id": "1bc9ae61",
   "metadata": {},
   "source": [
    "## Dummy Submission Test"
   ]
  },
  {
   "cell_type": "code",
   "execution_count": null,
   "id": "6986bd83",
   "metadata": {},
   "outputs": [],
   "source": [
    "test_df = pd.read_csv('datasets/test.csv')"
   ]
  },
  {
   "cell_type": "code",
   "execution_count": null,
   "id": "b910b286",
   "metadata": {},
   "outputs": [],
   "source": [
    "submission_df = pd.DataFrame()"
   ]
  },
  {
   "cell_type": "markdown",
   "id": "227439eb",
   "metadata": {},
   "source": [
    "Lucas said he would delete ```house['Id']```"
   ]
  },
  {
   "cell_type": "code",
   "execution_count": null,
   "id": "9954e2bf",
   "metadata": {},
   "outputs": [],
   "source": [
    "submission_df['Id'] = test_df['PID']"
   ]
  },
  {
   "cell_type": "code",
   "execution_count": null,
   "id": "12d21ca3",
   "metadata": {},
   "outputs": [],
   "source": [
    "submission_df['SalePrice'] = house['SalePrice'].mean()"
   ]
  },
  {
   "cell_type": "code",
   "execution_count": null,
   "id": "22e3fd38",
   "metadata": {},
   "outputs": [],
   "source": [
    "# Always check shape is still correct after adding to df\n",
    "\n",
    "# print(submission_df.shape)\n",
    "# submission_df.head()"
   ]
  },
  {
   "cell_type": "code",
   "execution_count": null,
   "id": "8e2288dd",
   "metadata": {},
   "outputs": [],
   "source": [
    "submission_df.to_csv('datasets/dummy_submission.csv', index=False)"
   ]
  },
  {
   "cell_type": "markdown",
   "id": "aa8f410d",
   "metadata": {},
   "source": [
    "# Joint Plots"
   ]
  }
 ],
 "metadata": {
  "kernelspec": {
   "display_name": "Python 3 (ipykernel)",
   "language": "python",
   "name": "python3"
  },
  "language_info": {
   "codemirror_mode": {
    "name": "ipython",
    "version": 3
   },
   "file_extension": ".py",
   "mimetype": "text/x-python",
   "name": "python",
   "nbconvert_exporter": "python",
   "pygments_lexer": "ipython3",
   "version": "3.9.7"
  }
 },
 "nbformat": 4,
 "nbformat_minor": 5
}
